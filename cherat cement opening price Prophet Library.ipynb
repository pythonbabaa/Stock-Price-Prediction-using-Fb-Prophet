{
  "nbformat": 4,
  "nbformat_minor": 0,
  "metadata": {
    "kernelspec": {
      "display_name": "Python 3",
      "language": "python",
      "name": "python3"
    },
    "language_info": {
      "codemirror_mode": {
        "name": "ipython",
        "version": 3
      },
      "file_extension": ".py",
      "mimetype": "text/x-python",
      "name": "python",
      "nbconvert_exporter": "python",
      "pygments_lexer": "ipython3",
      "version": "3.8.3"
    },
    "colab": {
      "name": "monthly_cherat_Prophet_Library (1).ipynb",
      "provenance": [],
      "collapsed_sections": []
    }
  },
  "cells": [
    {
      "cell_type": "code",
      "metadata": {
        "id": "6TMvhI168wIs"
      },
      "source": [
        "!pip install -U -q PyDrive\n",
        "from pydrive.auth import GoogleAuth\n",
        "from pydrive.drive import GoogleDrive\n",
        "from google.colab import auth\n",
        "from oauth2client.client import GoogleCredentials"
      ],
      "execution_count": null,
      "outputs": []
    },
    {
      "cell_type": "code",
      "metadata": {
        "id": "19yqu_se8w_R"
      },
      "source": [
        "auth.authenticate_user()\n",
        "gauth = GoogleAuth()\n",
        "gauth.credentials = GoogleCredentials.get_application_default()\n",
        "drive = GoogleDrive(gauth)"
      ],
      "execution_count": null,
      "outputs": []
    },
    {
      "cell_type": "code",
      "metadata": {
        "id": "yAOT8TzD80i7"
      },
      "source": [
        "file_id = '1AVbnOfblP2lJTOowA1JFTZ-wS-wYc6b3'\n",
        "downloaded = drive.CreateFile({'id': file_id})\n",
        "downloaded = drive.CreateFile({'id':'1AVbnOfblP2lJTOowA1JFTZ-wS-wYc6b3'}) # replace the id with id of file you want to access\n",
        "downloaded.GetContentFile('cherat-final-dataset.csv')  \n",
        " \n"
      ],
      "execution_count": null,
      "outputs": []
    },
    {
      "cell_type": "code",
      "metadata": {
        "id": "2ORh3FmK8d-l"
      },
      "source": [
        "# pip --proxy  http://192.41.170.23:3128/ install fbprophet"
      ],
      "execution_count": null,
      "outputs": []
    },
    {
      "cell_type": "code",
      "metadata": {
        "id": "34xQeQCS8d-m",
        "colab": {
          "base_uri": "https://localhost:8080/"
        },
        "outputId": "e1b1e4f0-3021-411a-cfe6-2b07ee6789cc"
      },
      "source": [
        "import pandas as pd\n",
        "import numpy as np\n",
        "import matplotlib.pyplot as plt\n",
        "import statsmodels.graphics.tsaplots as sgt\n",
        "from statsmodels.tsa.arima_model import ARMA\n",
        "from scipy.stats.distributions import chi2\n",
        "import statsmodels.graphics.tsaplots as sgt\n",
        "#from sklearn import preprocessing\n",
        "from statsmodels.tsa.arima_model import ARIMA\n",
        "from sklearn.preprocessing import StandardScaler\n",
        "import seaborn as sns\n",
        "import statsmodels.tsa.stattools as sts\n",
        "from statsmodels.tsa.statespace.varmax import VARMAX, VARMAXResults\n",
        "from statsmodels.tsa.api import VAR\n",
        "from statsmodels.tsa.stattools import adfuller\n",
        "# from pmdarima import auto_arima\n",
        "from statsmodels.tools.eval_measures import rmse    \n",
        "from statsmodels.tools.eval_measures import mse   \n",
        "from statsmodels.tsa.seasonal import seasonal_decompose\n",
        "from statsmodels.tsa.statespace.sarimax import SARIMAX\n",
        "import statsmodels.api as sm\n",
        "from fbprophet import Prophet\n",
        "from statsmodels.tools.eval_measures import rmse  \n",
        "from statsmodels.tools.eval_measures import mse  \n",
        "import warnings \n",
        "warnings.filterwarnings (\"ignore\")\n"
      ],
      "execution_count": null,
      "outputs": [
        {
          "output_type": "stream",
          "text": [
            "/usr/local/lib/python3.7/dist-packages/statsmodels/tools/_testing.py:19: FutureWarning: pandas.util.testing is deprecated. Use the functions in the public API at pandas.testing instead.\n",
            "  import pandas.util.testing as tm\n"
          ],
          "name": "stderr"
        }
      ]
    },
    {
      "cell_type": "code",
      "metadata": {
        "id": "EHHkrtQ58d-a"
      },
      "source": [
        "df = pd.read_csv('cherat-final-dataset.csv')"
      ],
      "execution_count": null,
      "outputs": []
    },
    {
      "cell_type": "markdown",
      "metadata": {
        "id": "6PcEJEiL8d-p"
      },
      "source": [
        "# Preprocessing #"
      ]
    },
    {
      "cell_type": "code",
      "metadata": {
        "id": "Q8KgdTwj8d-q"
      },
      "source": [
        "def preprocessing(dataframe):\n",
        "    df = dataframe.iloc[::-1]\n",
        "    #df = df.drop(['Price', 'High', 'Low'], axis=1)\n",
        "    df['Date']= pd.to_datetime(df['Date'], format= '%d/%m/%Y')  # datetime conversion.........\n",
        "    df.set_index(\"Date\", inplace= True) # created date as an index\n",
        "    return df"
      ],
      "execution_count": null,
      "outputs": []
    },
    {
      "cell_type": "code",
      "metadata": {
        "id": "2LAx2_t_8d-q"
      },
      "source": [
        "preprocessed_df = preprocessing(df)"
      ],
      "execution_count": null,
      "outputs": []
    },
    {
      "cell_type": "code",
      "metadata": {
        "id": "SJjfvVdP8d-r"
      },
      "source": [
        "columns_names = ['Net_Margin', 'ROE', 'Quick_Ratio', 'Current_Ratio',\n",
        "       'Assets_Equity', 'Debt_Equity', 'A_RTurnover', 'AvgA_RDays',\n",
        "       'InvTurnover', 'EBITDATotAssetsTTM', 'ROATotAssets', 'HistMktCap',\n",
        "       'HistEV', 'GDPExports', 'Inflationgdp', 'moneysupply',\n",
        "       'treasures_bill', 'DollarRate_Open']\n",
        "\n",
        "interpolate_df = []\n",
        "for i in columns_names:\n",
        "    a = preprocessed_df[i].interpolate(method='time')\n",
        "#     plt.scatter(df.index, a,  alpha=0.5, color='red' )\n",
        "#     plt.scatter(df.index, i,  alpha=0.5, color='blue')\n",
        "    interpolate_df.append(a)\n",
        "\n",
        "interpolate_df = pd.DataFrame(interpolate_df).T\n",
        "df = pd.concat([preprocessed_df.Open, preprocessed_df.Vol,preprocessed_df.High,preprocessed_df.Low,preprocessed_df.Price, interpolate_df], axis = 1)"
      ],
      "execution_count": null,
      "outputs": []
    },
    {
      "cell_type": "markdown",
      "metadata": {
        "id": "2mt1-ITW8d-s"
      },
      "source": [
        "# Data Normalisation #"
      ]
    },
    {
      "cell_type": "code",
      "metadata": {
        "id": "4x_8i-AU8d-s"
      },
      "source": [
        "###Standardizing/Normalizing the data\n",
        "scaler = StandardScaler()\n",
        "scaler  = scaler.fit(df)\n",
        "# scaler = StandardScaler.fit(df)\n",
        "X_scaled = scaler.transform(df)\n",
        "df_normalise = pd.DataFrame(X_scaled, columns=['Open', 'Vol', 'High', 'Low', 'Price', 'Net_Margin', 'ROE',\n",
        "       'Quick_Ratio', 'Current_Ratio', 'Assets_Equity', 'Debt_Equity',\n",
        "       'A_RTurnover', 'AvgA_RDays', 'InvTurnover', 'EBITDATotAssetsTTM',\n",
        "       'ROATotAssets', 'HistMktCap', 'HistEV', 'GDPExports',\n",
        "       'Inflationgdp', 'moneysupply', 'treasures_bill', 'DollarRate_Open'])\n",
        "\n",
        "df_normalise['Date'] = df.index\n",
        "df_normalise.set_index(\"Date\", inplace= True) \n"
      ],
      "execution_count": null,
      "outputs": []
    },
    {
      "cell_type": "markdown",
      "metadata": {
        "id": "2hr4UnvO8d-y"
      },
      "source": [
        "### Prophet Library function ###"
      ]
    },
    {
      "cell_type": "code",
      "metadata": {
        "id": "DuryppJ_8d-y"
      },
      "source": [
        "def prophetlibrary(dataframe):\n",
        "    prophetdf = pd.DataFrame(dataframe)\n",
        "    prophetdf.reset_index(level=['Date'],inplace =True)\n",
        "    prophetdf = prophetdf.rename(columns={'Date': 'ds', 'Open': 'y'})\n",
        "    prophetdf['ds'] = pd.to_datetime(prophetdf['ds'])  #convert ds to datetime index\n",
        "    return prophetdf\n",
        "\n",
        "    "
      ],
      "execution_count": null,
      "outputs": []
    },
    {
      "cell_type": "code",
      "metadata": {
        "id": "wxOK-Mrw8d-z"
      },
      "source": [
        "prophetdf= prophetlibrary(df)"
      ],
      "execution_count": null,
      "outputs": []
    },
    {
      "cell_type": "code",
      "metadata": {
        "colab": {
          "base_uri": "https://localhost:8080/",
          "height": 609
        },
        "id": "jt_QKiAm8d-z",
        "outputId": "9d6c6c12-4461-4aa0-a4a9-a745bc970034"
      },
      "source": [
        "prophetdf"
      ],
      "execution_count": null,
      "outputs": [
        {
          "output_type": "execute_result",
          "data": {
            "text/html": [
              "<div>\n",
              "<style scoped>\n",
              "    .dataframe tbody tr th:only-of-type {\n",
              "        vertical-align: middle;\n",
              "    }\n",
              "\n",
              "    .dataframe tbody tr th {\n",
              "        vertical-align: top;\n",
              "    }\n",
              "\n",
              "    .dataframe thead th {\n",
              "        text-align: right;\n",
              "    }\n",
              "</style>\n",
              "<table border=\"1\" class=\"dataframe\">\n",
              "  <thead>\n",
              "    <tr style=\"text-align: right;\">\n",
              "      <th></th>\n",
              "      <th>ds</th>\n",
              "      <th>y</th>\n",
              "      <th>Vol</th>\n",
              "      <th>High</th>\n",
              "      <th>Low</th>\n",
              "      <th>Price</th>\n",
              "      <th>Net_Margin</th>\n",
              "      <th>ROE</th>\n",
              "      <th>Quick_Ratio</th>\n",
              "      <th>Current_Ratio</th>\n",
              "      <th>Assets_Equity</th>\n",
              "      <th>Debt_Equity</th>\n",
              "      <th>A_RTurnover</th>\n",
              "      <th>AvgA_RDays</th>\n",
              "      <th>InvTurnover</th>\n",
              "      <th>EBITDATotAssetsTTM</th>\n",
              "      <th>ROATotAssets</th>\n",
              "      <th>HistMktCap</th>\n",
              "      <th>HistEV</th>\n",
              "      <th>GDPExports</th>\n",
              "      <th>Inflationgdp</th>\n",
              "      <th>moneysupply</th>\n",
              "      <th>treasures_bill</th>\n",
              "      <th>DollarRate_Open</th>\n",
              "    </tr>\n",
              "  </thead>\n",
              "  <tbody>\n",
              "    <tr>\n",
              "      <th>0</th>\n",
              "      <td>2010-01-01</td>\n",
              "      <td>7.78</td>\n",
              "      <td>690400</td>\n",
              "      <td>8.50</td>\n",
              "      <td>7.50</td>\n",
              "      <td>8.50</td>\n",
              "      <td>0.039000</td>\n",
              "      <td>0.190000</td>\n",
              "      <td>0.150000</td>\n",
              "      <td>1.250000</td>\n",
              "      <td>2.090000</td>\n",
              "      <td>0.780000</td>\n",
              "      <td>25.600000</td>\n",
              "      <td>3.600000</td>\n",
              "      <td>0.700000</td>\n",
              "      <td>0.124300</td>\n",
              "      <td>0.034900</td>\n",
              "      <td>-0.071400</td>\n",
              "      <td>-0.099000</td>\n",
              "      <td>2.595000</td>\n",
              "      <td>20.670000</td>\n",
              "      <td>0.442</td>\n",
              "      <td>11.90</td>\n",
              "      <td>84.450000</td>\n",
              "    </tr>\n",
              "    <tr>\n",
              "      <th>1</th>\n",
              "      <td>2010-02-01</td>\n",
              "      <td>8.56</td>\n",
              "      <td>574600</td>\n",
              "      <td>8.85</td>\n",
              "      <td>7.47</td>\n",
              "      <td>7.67</td>\n",
              "      <td>0.020610</td>\n",
              "      <td>0.091220</td>\n",
              "      <td>0.134237</td>\n",
              "      <td>1.176441</td>\n",
              "      <td>2.095254</td>\n",
              "      <td>0.811525</td>\n",
              "      <td>23.445763</td>\n",
              "      <td>3.915254</td>\n",
              "      <td>0.752542</td>\n",
              "      <td>0.111637</td>\n",
              "      <td>0.029751</td>\n",
              "      <td>0.032897</td>\n",
              "      <td>0.009237</td>\n",
              "      <td>1.838915</td>\n",
              "      <td>19.758563</td>\n",
              "      <td>0.068</td>\n",
              "      <td>12.22</td>\n",
              "      <td>85.200000</td>\n",
              "    </tr>\n",
              "    <tr>\n",
              "      <th>2</th>\n",
              "      <td>2010-03-01</td>\n",
              "      <td>7.48</td>\n",
              "      <td>1490000</td>\n",
              "      <td>7.50</td>\n",
              "      <td>6.28</td>\n",
              "      <td>7.06</td>\n",
              "      <td>0.004000</td>\n",
              "      <td>0.002000</td>\n",
              "      <td>0.120000</td>\n",
              "      <td>1.110000</td>\n",
              "      <td>2.100000</td>\n",
              "      <td>0.840000</td>\n",
              "      <td>21.500000</td>\n",
              "      <td>4.200000</td>\n",
              "      <td>0.800000</td>\n",
              "      <td>0.100200</td>\n",
              "      <td>0.025100</td>\n",
              "      <td>0.127100</td>\n",
              "      <td>0.107000</td>\n",
              "      <td>1.156000</td>\n",
              "      <td>18.935329</td>\n",
              "      <td>2.150</td>\n",
              "      <td>12.34</td>\n",
              "      <td>85.150000</td>\n",
              "    </tr>\n",
              "    <tr>\n",
              "      <th>3</th>\n",
              "      <td>2010-04-01</td>\n",
              "      <td>7.30</td>\n",
              "      <td>1440000</td>\n",
              "      <td>7.63</td>\n",
              "      <td>6.88</td>\n",
              "      <td>7.24</td>\n",
              "      <td>-0.029022</td>\n",
              "      <td>-0.008783</td>\n",
              "      <td>0.103152</td>\n",
              "      <td>1.035870</td>\n",
              "      <td>2.140435</td>\n",
              "      <td>0.890543</td>\n",
              "      <td>19.815217</td>\n",
              "      <td>4.638043</td>\n",
              "      <td>0.732609</td>\n",
              "      <td>0.087362</td>\n",
              "      <td>0.016878</td>\n",
              "      <td>0.024632</td>\n",
              "      <td>0.071855</td>\n",
              "      <td>-4.618087</td>\n",
              "      <td>18.023892</td>\n",
              "      <td>1.783</td>\n",
              "      <td>12.27</td>\n",
              "      <td>84.000000</td>\n",
              "    </tr>\n",
              "    <tr>\n",
              "      <th>4</th>\n",
              "      <td>2010-05-01</td>\n",
              "      <td>7.36</td>\n",
              "      <td>658000</td>\n",
              "      <td>7.48</td>\n",
              "      <td>5.70</td>\n",
              "      <td>5.87</td>\n",
              "      <td>-0.060978</td>\n",
              "      <td>-0.019217</td>\n",
              "      <td>0.086848</td>\n",
              "      <td>0.964130</td>\n",
              "      <td>2.179565</td>\n",
              "      <td>0.939457</td>\n",
              "      <td>18.184783</td>\n",
              "      <td>5.061957</td>\n",
              "      <td>0.667391</td>\n",
              "      <td>0.074938</td>\n",
              "      <td>0.008922</td>\n",
              "      <td>-0.074532</td>\n",
              "      <td>0.037845</td>\n",
              "      <td>-10.205913</td>\n",
              "      <td>17.141856</td>\n",
              "      <td>-1.011</td>\n",
              "      <td>12.09</td>\n",
              "      <td>84.000000</td>\n",
              "    </tr>\n",
              "    <tr>\n",
              "      <th>...</th>\n",
              "      <td>...</td>\n",
              "      <td>...</td>\n",
              "      <td>...</td>\n",
              "      <td>...</td>\n",
              "      <td>...</td>\n",
              "      <td>...</td>\n",
              "      <td>...</td>\n",
              "      <td>...</td>\n",
              "      <td>...</td>\n",
              "      <td>...</td>\n",
              "      <td>...</td>\n",
              "      <td>...</td>\n",
              "      <td>...</td>\n",
              "      <td>...</td>\n",
              "      <td>...</td>\n",
              "      <td>...</td>\n",
              "      <td>...</td>\n",
              "      <td>...</td>\n",
              "      <td>...</td>\n",
              "      <td>...</td>\n",
              "      <td>...</td>\n",
              "      <td>...</td>\n",
              "      <td>...</td>\n",
              "      <td>...</td>\n",
              "    </tr>\n",
              "    <tr>\n",
              "      <th>121</th>\n",
              "      <td>2020-02-01</td>\n",
              "      <td>57.80</td>\n",
              "      <td>31500000</td>\n",
              "      <td>57.80</td>\n",
              "      <td>49.00</td>\n",
              "      <td>56.95</td>\n",
              "      <td>-0.084923</td>\n",
              "      <td>-0.032505</td>\n",
              "      <td>0.451429</td>\n",
              "      <td>1.255495</td>\n",
              "      <td>2.965934</td>\n",
              "      <td>1.736374</td>\n",
              "      <td>1.568132</td>\n",
              "      <td>56.825275</td>\n",
              "      <td>0.900000</td>\n",
              "      <td>0.105153</td>\n",
              "      <td>0.037725</td>\n",
              "      <td>-0.222818</td>\n",
              "      <td>-0.088673</td>\n",
              "      <td>-7.223484</td>\n",
              "      <td>8.616612</td>\n",
              "      <td>1.155</td>\n",
              "      <td>13.34</td>\n",
              "      <td>160.555041</td>\n",
              "    </tr>\n",
              "    <tr>\n",
              "      <th>122</th>\n",
              "      <td>2020-03-01</td>\n",
              "      <td>58.50</td>\n",
              "      <td>4060000</td>\n",
              "      <td>88.12</td>\n",
              "      <td>43.00</td>\n",
              "      <td>55.59</td>\n",
              "      <td>-0.076000</td>\n",
              "      <td>-0.029000</td>\n",
              "      <td>0.410000</td>\n",
              "      <td>1.230000</td>\n",
              "      <td>2.950000</td>\n",
              "      <td>1.730000</td>\n",
              "      <td>1.600000</td>\n",
              "      <td>55.200000</td>\n",
              "      <td>0.900000</td>\n",
              "      <td>0.103400</td>\n",
              "      <td>0.030300</td>\n",
              "      <td>-0.089800</td>\n",
              "      <td>-0.054000</td>\n",
              "      <td>-7.785000</td>\n",
              "      <td>8.615027</td>\n",
              "      <td>-4.711</td>\n",
              "      <td>11.19</td>\n",
              "      <td>162.180000</td>\n",
              "    </tr>\n",
              "    <tr>\n",
              "      <th>123</th>\n",
              "      <td>2020-04-01</td>\n",
              "      <td>55.26</td>\n",
              "      <td>2110000</td>\n",
              "      <td>98.50</td>\n",
              "      <td>53.31</td>\n",
              "      <td>89.85</td>\n",
              "      <td>-0.065217</td>\n",
              "      <td>-0.025967</td>\n",
              "      <td>0.396522</td>\n",
              "      <td>1.230000</td>\n",
              "      <td>2.960109</td>\n",
              "      <td>1.726630</td>\n",
              "      <td>1.903261</td>\n",
              "      <td>49.033696</td>\n",
              "      <td>0.933696</td>\n",
              "      <td>0.101917</td>\n",
              "      <td>0.021842</td>\n",
              "      <td>0.301272</td>\n",
              "      <td>0.030441</td>\n",
              "      <td>-15.866228</td>\n",
              "      <td>8.613333</td>\n",
              "      <td>5.406</td>\n",
              "      <td>7.88</td>\n",
              "      <td>163.770435</td>\n",
              "    </tr>\n",
              "    <tr>\n",
              "      <th>124</th>\n",
              "      <td>2020-05-01</td>\n",
              "      <td>90.80</td>\n",
              "      <td>1380000</td>\n",
              "      <td>96.00</td>\n",
              "      <td>78.80</td>\n",
              "      <td>86.62</td>\n",
              "      <td>-0.054783</td>\n",
              "      <td>-0.023033</td>\n",
              "      <td>0.383478</td>\n",
              "      <td>1.230000</td>\n",
              "      <td>2.969891</td>\n",
              "      <td>1.723370</td>\n",
              "      <td>2.196739</td>\n",
              "      <td>43.066304</td>\n",
              "      <td>0.966304</td>\n",
              "      <td>0.100483</td>\n",
              "      <td>0.013658</td>\n",
              "      <td>0.679728</td>\n",
              "      <td>0.112159</td>\n",
              "      <td>-23.686772</td>\n",
              "      <td>8.611694</td>\n",
              "      <td>0.573</td>\n",
              "      <td>7.75</td>\n",
              "      <td>165.309565</td>\n",
              "    </tr>\n",
              "    <tr>\n",
              "      <th>125</th>\n",
              "      <td>2020-06-01</td>\n",
              "      <td>87.05</td>\n",
              "      <td>842500</td>\n",
              "      <td>89.50</td>\n",
              "      <td>81.99</td>\n",
              "      <td>87.50</td>\n",
              "      <td>-0.044000</td>\n",
              "      <td>-0.020000</td>\n",
              "      <td>0.370000</td>\n",
              "      <td>1.230000</td>\n",
              "      <td>2.980000</td>\n",
              "      <td>1.720000</td>\n",
              "      <td>2.500000</td>\n",
              "      <td>36.900000</td>\n",
              "      <td>1.000000</td>\n",
              "      <td>0.099000</td>\n",
              "      <td>0.005200</td>\n",
              "      <td>1.070800</td>\n",
              "      <td>0.196600</td>\n",
              "      <td>-31.768000</td>\n",
              "      <td>8.610000</td>\n",
              "      <td>-1.741</td>\n",
              "      <td>7.48</td>\n",
              "      <td>166.900000</td>\n",
              "    </tr>\n",
              "  </tbody>\n",
              "</table>\n",
              "<p>126 rows × 24 columns</p>\n",
              "</div>"
            ],
            "text/plain": [
              "            ds      y       Vol  ...  moneysupply  treasures_bill  DollarRate_Open\n",
              "0   2010-01-01   7.78    690400  ...        0.442           11.90        84.450000\n",
              "1   2010-02-01   8.56    574600  ...        0.068           12.22        85.200000\n",
              "2   2010-03-01   7.48   1490000  ...        2.150           12.34        85.150000\n",
              "3   2010-04-01   7.30   1440000  ...        1.783           12.27        84.000000\n",
              "4   2010-05-01   7.36    658000  ...       -1.011           12.09        84.000000\n",
              "..         ...    ...       ...  ...          ...             ...              ...\n",
              "121 2020-02-01  57.80  31500000  ...        1.155           13.34       160.555041\n",
              "122 2020-03-01  58.50   4060000  ...       -4.711           11.19       162.180000\n",
              "123 2020-04-01  55.26   2110000  ...        5.406            7.88       163.770435\n",
              "124 2020-05-01  90.80   1380000  ...        0.573            7.75       165.309565\n",
              "125 2020-06-01  87.05    842500  ...       -1.741            7.48       166.900000\n",
              "\n",
              "[126 rows x 24 columns]"
            ]
          },
          "metadata": {
            "tags": []
          },
          "execution_count": 16
        }
      ]
    },
    {
      "cell_type": "markdown",
      "metadata": {
        "id": "axNPLecK8d-0"
      },
      "source": [
        "# splitting dataset of original variables\n"
      ]
    },
    {
      "cell_type": "code",
      "metadata": {
        "id": "2-Y1ZD5l8d-0"
      },
      "source": [
        "#train = df_normalise.drop(['ROE','moneysupply'],axis='columns') \n",
        "train = prophetdf.iloc[:101]\n",
        "#train.shape\n",
        "#test = df_normalise.drop(['ROE','moneysupply'],axis='columns') \n",
        "test = prophetdf.iloc[101:]"
      ],
      "execution_count": null,
      "outputs": []
    },
    {
      "cell_type": "code",
      "metadata": {
        "id": "wvSpWtUd8d-1"
      },
      "source": [
        "######## Prophet Library with Exogenous variable ###########\n",
        "\n",
        "\n",
        "def prophet_train(x,y,z):   # seasonality period = x , fourier order = y , future periods = z \n",
        "  m = Prophet()\n",
        "\n",
        "  m.add_seasonality(period=x, name='monthly', fourier_order = y)\n",
        "\n",
        "  m.add_regressor('Price')\n",
        "  m.add_regressor('High')\n",
        "  m.add_regressor('Low')\n",
        "\n",
        "  m.add_regressor('Vol')\n",
        "  m.add_regressor('Net_Margin')\n",
        "  m.add_regressor('ROE')\n",
        "  m.add_regressor('Quick_Ratio')\n",
        "  m.add_regressor('Current_Ratio')\n",
        "  m.add_regressor('Assets_Equity')\n",
        "  m.add_regressor('Debt_Equity')\n",
        "  m.add_regressor('A_RTurnover')\n",
        "  m.add_regressor('AvgA_RDays')\n",
        "  m.add_regressor('InvTurnover')\n",
        "  m.add_regressor('EBITDATotAssetsTTM')\n",
        "  m.add_regressor('ROATotAssets')\n",
        "  m.add_regressor('HistMktCap')\n",
        "  m.add_regressor('HistEV')\n",
        "  m.add_regressor('GDPExports')\n",
        "  m.add_regressor('Inflationgdp')\n",
        "  m.add_regressor('moneysupply')\n",
        "  m.add_regressor('treasures_bill')\n",
        "  m.add_regressor('DollarRate_Open')\n",
        "\n",
        "  m.fit(train)\n",
        "  future = m.make_future_dataframe(periods=25,freq='MS')\n",
        "\n",
        "  future['Price'] = prophetdf['Price']\n",
        "  future['High'] = prophetdf['High']\n",
        "  future['Low'] = prophetdf['Low']\n",
        "  future['Vol'] = prophetdf['Vol']\n",
        "  future['Net_Margin'] = prophetdf['Net_Margin']\n",
        "  future['ROE'] = prophetdf['ROE']\n",
        "  future['Quick_Ratio'] = prophetdf['Quick_Ratio']\n",
        "  future['Current_Ratio'] = prophetdf['Current_Ratio']\n",
        "  future['Assets_Equity'] = prophetdf['Assets_Equity']\n",
        "  future['Debt_Equity'] = prophetdf['Debt_Equity']\n",
        "  future['A_RTurnover'] = prophetdf['A_RTurnover']\n",
        "  future['AvgA_RDays'] = prophetdf['AvgA_RDays']\n",
        "  future['InvTurnover'] = prophetdf['InvTurnover']\n",
        "  future['EBITDATotAssetsTTM'] = prophetdf['EBITDATotAssetsTTM']\n",
        "  future['ROATotAssets'] = prophetdf['ROATotAssets']\n",
        "  future['HistMktCap'] = prophetdf['HistMktCap']\n",
        "  future['HistEV'] = prophetdf['HistEV']\n",
        "  future['GDPExports'] = prophetdf['GDPExports']\n",
        "  future['Inflationgdp'] = prophetdf['Inflationgdp']\n",
        "  future['moneysupply'] = prophetdf['moneysupply']\n",
        "  future['treasures_bill'] = prophetdf['treasures_bill']\n",
        "  future['DollarRate_Open'] = prophetdf['DollarRate_Open']\n",
        "\n",
        "  future.Price.fillna(0, inplace=True)\n",
        "  future.High.fillna(0, inplace=True)\n",
        "  future.Low.fillna(0, inplace=True)\n",
        "  future.Vol.fillna(0, inplace=True)\n",
        "  future.Net_Margin.fillna(0, inplace=True)\n",
        "  future.ROE.fillna(0, inplace=True)\n",
        "  future.Quick_Ratio.fillna(0, inplace=True)\n",
        "  future.Current_Ratio.fillna(0, inplace=True)\n",
        "  future.Assets_Equity.fillna(0, inplace=True)\n",
        "  future.Debt_Equity.fillna(0, inplace=True)\n",
        "  future.A_RTurnover.fillna(0, inplace=True)\n",
        "  future.AvgA_RDays.fillna(0, inplace=True)\n",
        "  future.EBITDATotAssetsTTM.fillna(0, inplace=True)\n",
        "  future.InvTurnover.fillna(0, inplace=True)\n",
        "  future.ROATotAssets.fillna(0, inplace=True)\n",
        "  future.HistMktCap.fillna(0, inplace=True)\n",
        "  future.HistEV.fillna(0, inplace=True)\n",
        "  future.GDPExports.fillna(0, inplace=True)\n",
        "  future.Inflationgdp.fillna(0, inplace=True)\n",
        "  future.moneysupply.fillna(0, inplace=True)\n",
        "  future.treasures_bill.fillna(0, inplace=True)\n",
        "  future.DollarRate_Open.fillna(0, inplace=True)\n",
        "  forecastt = m.predict(future)\n",
        "  predictions = forecastt['yhat'].iloc[101:]\n",
        "  mse = mse_rmse(test['y'],predictions)"
      ],
      "execution_count": null,
      "outputs": []
    },
    {
      "cell_type": "code",
      "metadata": {
        "colab": {
          "base_uri": "https://localhost:8080/"
        },
        "id": "nACMfoKn-L8i",
        "outputId": "43d50d3b-e360-4fb6-90a1-48118f792e98"
      },
      "source": [
        "parameters = []\n",
        "for x in range(3,30):\n",
        "  for y in range(1,7):\n",
        "    print(\"the results of period {} , forier transformation {} and future prediction 25 are\".format(x,y,21))\n",
        "    prophet_train(x,y,21)\n",
        "    "
      ],
      "execution_count": null,
      "outputs": [
        {
          "output_type": "stream",
          "text": [
            "INFO:fbprophet:Disabling weekly seasonality. Run prophet with weekly_seasonality=True to override this.\n",
            "INFO:fbprophet:Disabling daily seasonality. Run prophet with daily_seasonality=True to override this.\n"
          ],
          "name": "stderr"
        },
        {
          "output_type": "stream",
          "text": [
            "the results of period 3 , forier transformation 1 and future prediction 25 are\n"
          ],
          "name": "stdout"
        },
        {
          "output_type": "stream",
          "text": [
            "INFO:fbprophet:Disabling weekly seasonality. Run prophet with weekly_seasonality=True to override this.\n",
            "INFO:fbprophet:Disabling daily seasonality. Run prophet with daily_seasonality=True to override this.\n"
          ],
          "name": "stderr"
        },
        {
          "output_type": "stream",
          "text": [
            "rmse = 8.34949944278662\n",
            "mse = 69.71414094509407\n",
            "the results of period 3 , forier transformation 2 and future prediction 25 are\n"
          ],
          "name": "stdout"
        },
        {
          "output_type": "stream",
          "text": [
            "INFO:fbprophet:Disabling weekly seasonality. Run prophet with weekly_seasonality=True to override this.\n",
            "INFO:fbprophet:Disabling daily seasonality. Run prophet with daily_seasonality=True to override this.\n"
          ],
          "name": "stderr"
        },
        {
          "output_type": "stream",
          "text": [
            "rmse = 7.919764054325822\n",
            "mse = 62.72266267619138\n",
            "the results of period 3 , forier transformation 3 and future prediction 25 are\n"
          ],
          "name": "stdout"
        },
        {
          "output_type": "stream",
          "text": [
            "INFO:fbprophet:Disabling weekly seasonality. Run prophet with weekly_seasonality=True to override this.\n",
            "INFO:fbprophet:Disabling daily seasonality. Run prophet with daily_seasonality=True to override this.\n"
          ],
          "name": "stderr"
        },
        {
          "output_type": "stream",
          "text": [
            "rmse = 8.006179850851874\n",
            "mse = 64.09891580418652\n",
            "the results of period 3 , forier transformation 4 and future prediction 25 are\n"
          ],
          "name": "stdout"
        },
        {
          "output_type": "stream",
          "text": [
            "INFO:fbprophet:Disabling weekly seasonality. Run prophet with weekly_seasonality=True to override this.\n",
            "INFO:fbprophet:Disabling daily seasonality. Run prophet with daily_seasonality=True to override this.\n"
          ],
          "name": "stderr"
        },
        {
          "output_type": "stream",
          "text": [
            "rmse = 7.885759754000593\n",
            "mse = 62.18520689781549\n",
            "the results of period 3 , forier transformation 5 and future prediction 25 are\n"
          ],
          "name": "stdout"
        },
        {
          "output_type": "stream",
          "text": [
            "INFO:fbprophet:Disabling weekly seasonality. Run prophet with weekly_seasonality=True to override this.\n",
            "INFO:fbprophet:Disabling daily seasonality. Run prophet with daily_seasonality=True to override this.\n"
          ],
          "name": "stderr"
        },
        {
          "output_type": "stream",
          "text": [
            "rmse = 8.131722021688958\n",
            "mse = 66.12490303802115\n",
            "the results of period 3 , forier transformation 6 and future prediction 25 are\n"
          ],
          "name": "stdout"
        },
        {
          "output_type": "stream",
          "text": [
            "INFO:fbprophet:Disabling weekly seasonality. Run prophet with weekly_seasonality=True to override this.\n",
            "INFO:fbprophet:Disabling daily seasonality. Run prophet with daily_seasonality=True to override this.\n"
          ],
          "name": "stderr"
        },
        {
          "output_type": "stream",
          "text": [
            "rmse = 8.29732205429907\n",
            "mse = 68.84555327275774\n",
            "the results of period 4 , forier transformation 1 and future prediction 25 are\n"
          ],
          "name": "stdout"
        },
        {
          "output_type": "stream",
          "text": [
            "INFO:fbprophet:Disabling weekly seasonality. Run prophet with weekly_seasonality=True to override this.\n",
            "INFO:fbprophet:Disabling daily seasonality. Run prophet with daily_seasonality=True to override this.\n"
          ],
          "name": "stderr"
        },
        {
          "output_type": "stream",
          "text": [
            "rmse = 7.651956478019597\n",
            "mse = 58.552437941506085\n",
            "the results of period 4 , forier transformation 2 and future prediction 25 are\n"
          ],
          "name": "stdout"
        },
        {
          "output_type": "stream",
          "text": [
            "INFO:fbprophet:Disabling weekly seasonality. Run prophet with weekly_seasonality=True to override this.\n",
            "INFO:fbprophet:Disabling daily seasonality. Run prophet with daily_seasonality=True to override this.\n"
          ],
          "name": "stderr"
        },
        {
          "output_type": "stream",
          "text": [
            "rmse = 8.430095842597993\n",
            "mse = 71.06651591538797\n",
            "the results of period 4 , forier transformation 3 and future prediction 25 are\n"
          ],
          "name": "stdout"
        },
        {
          "output_type": "stream",
          "text": [
            "INFO:fbprophet:Disabling weekly seasonality. Run prophet with weekly_seasonality=True to override this.\n",
            "INFO:fbprophet:Disabling daily seasonality. Run prophet with daily_seasonality=True to override this.\n"
          ],
          "name": "stderr"
        },
        {
          "output_type": "stream",
          "text": [
            "rmse = 8.301271676543644\n",
            "mse = 68.91111144778573\n",
            "the results of period 4 , forier transformation 4 and future prediction 25 are\n"
          ],
          "name": "stdout"
        },
        {
          "output_type": "stream",
          "text": [
            "INFO:fbprophet:Disabling weekly seasonality. Run prophet with weekly_seasonality=True to override this.\n",
            "INFO:fbprophet:Disabling daily seasonality. Run prophet with daily_seasonality=True to override this.\n"
          ],
          "name": "stderr"
        },
        {
          "output_type": "stream",
          "text": [
            "rmse = 8.023885980703401\n",
            "mse = 64.38274623132858\n",
            "the results of period 4 , forier transformation 5 and future prediction 25 are\n"
          ],
          "name": "stdout"
        },
        {
          "output_type": "stream",
          "text": [
            "INFO:fbprophet:Disabling weekly seasonality. Run prophet with weekly_seasonality=True to override this.\n",
            "INFO:fbprophet:Disabling daily seasonality. Run prophet with daily_seasonality=True to override this.\n"
          ],
          "name": "stderr"
        },
        {
          "output_type": "stream",
          "text": [
            "rmse = 8.455401591699014\n",
            "mse = 71.4938160769062\n",
            "the results of period 4 , forier transformation 6 and future prediction 25 are\n"
          ],
          "name": "stdout"
        },
        {
          "output_type": "stream",
          "text": [
            "INFO:fbprophet:Disabling weekly seasonality. Run prophet with weekly_seasonality=True to override this.\n",
            "INFO:fbprophet:Disabling daily seasonality. Run prophet with daily_seasonality=True to override this.\n"
          ],
          "name": "stderr"
        },
        {
          "output_type": "stream",
          "text": [
            "rmse = 8.475944709650593\n",
            "mse = 71.84163872105385\n",
            "the results of period 5 , forier transformation 1 and future prediction 25 are\n"
          ],
          "name": "stdout"
        },
        {
          "output_type": "stream",
          "text": [
            "INFO:fbprophet:Disabling weekly seasonality. Run prophet with weekly_seasonality=True to override this.\n",
            "INFO:fbprophet:Disabling daily seasonality. Run prophet with daily_seasonality=True to override this.\n"
          ],
          "name": "stderr"
        },
        {
          "output_type": "stream",
          "text": [
            "rmse = 15.50588056965942\n",
            "mse = 240.4323322405415\n",
            "the results of period 5 , forier transformation 2 and future prediction 25 are\n"
          ],
          "name": "stdout"
        },
        {
          "output_type": "stream",
          "text": [
            "INFO:fbprophet:Disabling weekly seasonality. Run prophet with weekly_seasonality=True to override this.\n",
            "INFO:fbprophet:Disabling daily seasonality. Run prophet with daily_seasonality=True to override this.\n"
          ],
          "name": "stderr"
        },
        {
          "output_type": "stream",
          "text": [
            "rmse = 16.82553092357762\n",
            "mse = 283.0984908602668\n",
            "the results of period 5 , forier transformation 3 and future prediction 25 are\n"
          ],
          "name": "stdout"
        },
        {
          "output_type": "stream",
          "text": [
            "INFO:fbprophet:Disabling weekly seasonality. Run prophet with weekly_seasonality=True to override this.\n",
            "INFO:fbprophet:Disabling daily seasonality. Run prophet with daily_seasonality=True to override this.\n"
          ],
          "name": "stderr"
        },
        {
          "output_type": "stream",
          "text": [
            "rmse = 16.992733872966145\n",
            "mse = 288.753004477451\n",
            "the results of period 5 , forier transformation 4 and future prediction 25 are\n"
          ],
          "name": "stdout"
        },
        {
          "output_type": "stream",
          "text": [
            "INFO:fbprophet:Disabling weekly seasonality. Run prophet with weekly_seasonality=True to override this.\n",
            "INFO:fbprophet:Disabling daily seasonality. Run prophet with daily_seasonality=True to override this.\n"
          ],
          "name": "stderr"
        },
        {
          "output_type": "stream",
          "text": [
            "rmse = 17.05118947445129\n",
            "mse = 290.74306249363855\n",
            "the results of period 5 , forier transformation 5 and future prediction 25 are\n"
          ],
          "name": "stdout"
        },
        {
          "output_type": "stream",
          "text": [
            "INFO:fbprophet:Disabling weekly seasonality. Run prophet with weekly_seasonality=True to override this.\n",
            "INFO:fbprophet:Disabling daily seasonality. Run prophet with daily_seasonality=True to override this.\n"
          ],
          "name": "stderr"
        },
        {
          "output_type": "stream",
          "text": [
            "rmse = 17.04787350587044\n",
            "mse = 290.6299910721593\n",
            "the results of period 5 , forier transformation 6 and future prediction 25 are\n"
          ],
          "name": "stdout"
        },
        {
          "output_type": "stream",
          "text": [
            "INFO:fbprophet:Disabling weekly seasonality. Run prophet with weekly_seasonality=True to override this.\n",
            "INFO:fbprophet:Disabling daily seasonality. Run prophet with daily_seasonality=True to override this.\n"
          ],
          "name": "stderr"
        },
        {
          "output_type": "stream",
          "text": [
            "rmse = 16.668884360224133\n",
            "mse = 277.8517058145247\n",
            "the results of period 6 , forier transformation 1 and future prediction 25 are\n"
          ],
          "name": "stdout"
        },
        {
          "output_type": "stream",
          "text": [
            "INFO:fbprophet:Disabling weekly seasonality. Run prophet with weekly_seasonality=True to override this.\n",
            "INFO:fbprophet:Disabling daily seasonality. Run prophet with daily_seasonality=True to override this.\n"
          ],
          "name": "stderr"
        },
        {
          "output_type": "stream",
          "text": [
            "rmse = 6.621799606806397\n",
            "mse = 43.84823003270136\n",
            "the results of period 6 , forier transformation 2 and future prediction 25 are\n"
          ],
          "name": "stdout"
        },
        {
          "output_type": "stream",
          "text": [
            "INFO:fbprophet:Disabling weekly seasonality. Run prophet with weekly_seasonality=True to override this.\n",
            "INFO:fbprophet:Disabling daily seasonality. Run prophet with daily_seasonality=True to override this.\n"
          ],
          "name": "stderr"
        },
        {
          "output_type": "stream",
          "text": [
            "rmse = 6.701170779858912\n",
            "mse = 44.905689820834894\n",
            "the results of period 6 , forier transformation 3 and future prediction 25 are\n"
          ],
          "name": "stdout"
        },
        {
          "output_type": "stream",
          "text": [
            "INFO:fbprophet:Disabling weekly seasonality. Run prophet with weekly_seasonality=True to override this.\n",
            "INFO:fbprophet:Disabling daily seasonality. Run prophet with daily_seasonality=True to override this.\n"
          ],
          "name": "stderr"
        },
        {
          "output_type": "stream",
          "text": [
            "rmse = 7.206446363922013\n",
            "mse = 51.93286919608481\n",
            "the results of period 6 , forier transformation 4 and future prediction 25 are\n"
          ],
          "name": "stdout"
        },
        {
          "output_type": "stream",
          "text": [
            "INFO:fbprophet:Disabling weekly seasonality. Run prophet with weekly_seasonality=True to override this.\n",
            "INFO:fbprophet:Disabling daily seasonality. Run prophet with daily_seasonality=True to override this.\n"
          ],
          "name": "stderr"
        },
        {
          "output_type": "stream",
          "text": [
            "rmse = 7.457187272425961\n",
            "mse = 55.60964201603174\n",
            "the results of period 6 , forier transformation 5 and future prediction 25 are\n"
          ],
          "name": "stdout"
        },
        {
          "output_type": "stream",
          "text": [
            "INFO:fbprophet:Disabling weekly seasonality. Run prophet with weekly_seasonality=True to override this.\n",
            "INFO:fbprophet:Disabling daily seasonality. Run prophet with daily_seasonality=True to override this.\n"
          ],
          "name": "stderr"
        },
        {
          "output_type": "stream",
          "text": [
            "rmse = 8.42711155099449\n",
            "mse = 71.01620909290476\n",
            "the results of period 6 , forier transformation 6 and future prediction 25 are\n"
          ],
          "name": "stdout"
        },
        {
          "output_type": "stream",
          "text": [
            "INFO:fbprophet:Disabling weekly seasonality. Run prophet with weekly_seasonality=True to override this.\n",
            "INFO:fbprophet:Disabling daily seasonality. Run prophet with daily_seasonality=True to override this.\n"
          ],
          "name": "stderr"
        },
        {
          "output_type": "stream",
          "text": [
            "rmse = 7.730249830245016\n",
            "mse = 59.7567624380031\n",
            "the results of period 7 , forier transformation 1 and future prediction 25 are\n"
          ],
          "name": "stdout"
        },
        {
          "output_type": "stream",
          "text": [
            "INFO:fbprophet:Disabling weekly seasonality. Run prophet with weekly_seasonality=True to override this.\n",
            "INFO:fbprophet:Disabling daily seasonality. Run prophet with daily_seasonality=True to override this.\n"
          ],
          "name": "stderr"
        },
        {
          "output_type": "stream",
          "text": [
            "rmse = 7.839167820670078\n",
            "mse = 61.452552120629264\n",
            "the results of period 7 , forier transformation 2 and future prediction 25 are\n"
          ],
          "name": "stdout"
        },
        {
          "output_type": "stream",
          "text": [
            "INFO:fbprophet:Disabling weekly seasonality. Run prophet with weekly_seasonality=True to override this.\n",
            "INFO:fbprophet:Disabling daily seasonality. Run prophet with daily_seasonality=True to override this.\n"
          ],
          "name": "stderr"
        },
        {
          "output_type": "stream",
          "text": [
            "rmse = 8.0916975115391\n",
            "mse = 65.47556861824808\n",
            "the results of period 7 , forier transformation 3 and future prediction 25 are\n"
          ],
          "name": "stdout"
        },
        {
          "output_type": "stream",
          "text": [
            "INFO:fbprophet:Disabling weekly seasonality. Run prophet with weekly_seasonality=True to override this.\n",
            "INFO:fbprophet:Disabling daily seasonality. Run prophet with daily_seasonality=True to override this.\n"
          ],
          "name": "stderr"
        },
        {
          "output_type": "stream",
          "text": [
            "rmse = 7.933990278751065\n",
            "mse = 62.9482017433164\n",
            "the results of period 7 , forier transformation 4 and future prediction 25 are\n"
          ],
          "name": "stdout"
        },
        {
          "output_type": "stream",
          "text": [
            "INFO:fbprophet:Disabling weekly seasonality. Run prophet with weekly_seasonality=True to override this.\n",
            "INFO:fbprophet:Disabling daily seasonality. Run prophet with daily_seasonality=True to override this.\n"
          ],
          "name": "stderr"
        },
        {
          "output_type": "stream",
          "text": [
            "rmse = 7.908373534300538\n",
            "mse = 62.54237195802518\n",
            "the results of period 7 , forier transformation 5 and future prediction 25 are\n"
          ],
          "name": "stdout"
        },
        {
          "output_type": "stream",
          "text": [
            "INFO:fbprophet:Disabling weekly seasonality. Run prophet with weekly_seasonality=True to override this.\n",
            "INFO:fbprophet:Disabling daily seasonality. Run prophet with daily_seasonality=True to override this.\n"
          ],
          "name": "stderr"
        },
        {
          "output_type": "stream",
          "text": [
            "rmse = 7.918760392226598\n",
            "mse = 62.706766149496744\n",
            "the results of period 7 , forier transformation 6 and future prediction 25 are\n"
          ],
          "name": "stdout"
        },
        {
          "output_type": "stream",
          "text": [
            "INFO:fbprophet:Disabling weekly seasonality. Run prophet with weekly_seasonality=True to override this.\n",
            "INFO:fbprophet:Disabling daily seasonality. Run prophet with daily_seasonality=True to override this.\n"
          ],
          "name": "stderr"
        },
        {
          "output_type": "stream",
          "text": [
            "rmse = 7.971526826559843\n",
            "mse = 63.545239946563235\n",
            "the results of period 8 , forier transformation 1 and future prediction 25 are\n"
          ],
          "name": "stdout"
        },
        {
          "output_type": "stream",
          "text": [
            "INFO:fbprophet:Disabling weekly seasonality. Run prophet with weekly_seasonality=True to override this.\n",
            "INFO:fbprophet:Disabling daily seasonality. Run prophet with daily_seasonality=True to override this.\n"
          ],
          "name": "stderr"
        },
        {
          "output_type": "stream",
          "text": [
            "rmse = 12.05112317490664\n",
            "mse = 145.2295697767719\n",
            "the results of period 8 , forier transformation 2 and future prediction 25 are\n"
          ],
          "name": "stdout"
        },
        {
          "output_type": "stream",
          "text": [
            "INFO:fbprophet:Disabling weekly seasonality. Run prophet with weekly_seasonality=True to override this.\n",
            "INFO:fbprophet:Disabling daily seasonality. Run prophet with daily_seasonality=True to override this.\n"
          ],
          "name": "stderr"
        },
        {
          "output_type": "stream",
          "text": [
            "rmse = 11.915552539569171\n",
            "mse = 141.98039232323333\n",
            "the results of period 8 , forier transformation 3 and future prediction 25 are\n"
          ],
          "name": "stdout"
        },
        {
          "output_type": "stream",
          "text": [
            "INFO:fbprophet:Disabling weekly seasonality. Run prophet with weekly_seasonality=True to override this.\n",
            "INFO:fbprophet:Disabling daily seasonality. Run prophet with daily_seasonality=True to override this.\n"
          ],
          "name": "stderr"
        },
        {
          "output_type": "stream",
          "text": [
            "rmse = 12.873403581867542\n",
            "mse = 165.72451978164005\n",
            "the results of period 8 , forier transformation 4 and future prediction 25 are\n"
          ],
          "name": "stdout"
        },
        {
          "output_type": "stream",
          "text": [
            "INFO:fbprophet:Disabling weekly seasonality. Run prophet with weekly_seasonality=True to override this.\n",
            "INFO:fbprophet:Disabling daily seasonality. Run prophet with daily_seasonality=True to override this.\n"
          ],
          "name": "stderr"
        },
        {
          "output_type": "stream",
          "text": [
            "rmse = 14.093149788709248\n",
            "mse = 198.61687096699552\n",
            "the results of period 8 , forier transformation 5 and future prediction 25 are\n"
          ],
          "name": "stdout"
        },
        {
          "output_type": "stream",
          "text": [
            "INFO:fbprophet:Disabling weekly seasonality. Run prophet with weekly_seasonality=True to override this.\n",
            "INFO:fbprophet:Disabling daily seasonality. Run prophet with daily_seasonality=True to override this.\n"
          ],
          "name": "stderr"
        },
        {
          "output_type": "stream",
          "text": [
            "rmse = 13.609923392032824\n",
            "mse = 185.23001473700225\n",
            "the results of period 8 , forier transformation 6 and future prediction 25 are\n"
          ],
          "name": "stdout"
        },
        {
          "output_type": "stream",
          "text": [
            "INFO:fbprophet:Disabling weekly seasonality. Run prophet with weekly_seasonality=True to override this.\n",
            "INFO:fbprophet:Disabling daily seasonality. Run prophet with daily_seasonality=True to override this.\n"
          ],
          "name": "stderr"
        },
        {
          "output_type": "stream",
          "text": [
            "rmse = 13.654875440873198\n",
            "mse = 186.45562330576203\n",
            "the results of period 9 , forier transformation 1 and future prediction 25 are\n"
          ],
          "name": "stdout"
        },
        {
          "output_type": "stream",
          "text": [
            "INFO:fbprophet:Disabling weekly seasonality. Run prophet with weekly_seasonality=True to override this.\n",
            "INFO:fbprophet:Disabling daily seasonality. Run prophet with daily_seasonality=True to override this.\n"
          ],
          "name": "stderr"
        },
        {
          "output_type": "stream",
          "text": [
            "rmse = 7.50166446691815\n",
            "mse = 56.27496977422237\n",
            "the results of period 9 , forier transformation 2 and future prediction 25 are\n"
          ],
          "name": "stdout"
        },
        {
          "output_type": "stream",
          "text": [
            "INFO:fbprophet:Disabling weekly seasonality. Run prophet with weekly_seasonality=True to override this.\n",
            "INFO:fbprophet:Disabling daily seasonality. Run prophet with daily_seasonality=True to override this.\n"
          ],
          "name": "stderr"
        },
        {
          "output_type": "stream",
          "text": [
            "rmse = 7.650473634312541\n",
            "mse = 58.52974682931134\n",
            "the results of period 9 , forier transformation 3 and future prediction 25 are\n"
          ],
          "name": "stdout"
        },
        {
          "output_type": "stream",
          "text": [
            "INFO:fbprophet:Disabling weekly seasonality. Run prophet with weekly_seasonality=True to override this.\n",
            "INFO:fbprophet:Disabling daily seasonality. Run prophet with daily_seasonality=True to override this.\n"
          ],
          "name": "stderr"
        },
        {
          "output_type": "stream",
          "text": [
            "rmse = 7.665647268905525\n",
            "mse = 58.762148051278736\n",
            "the results of period 9 , forier transformation 4 and future prediction 25 are\n"
          ],
          "name": "stdout"
        },
        {
          "output_type": "stream",
          "text": [
            "INFO:fbprophet:Disabling weekly seasonality. Run prophet with weekly_seasonality=True to override this.\n",
            "INFO:fbprophet:Disabling daily seasonality. Run prophet with daily_seasonality=True to override this.\n"
          ],
          "name": "stderr"
        },
        {
          "output_type": "stream",
          "text": [
            "rmse = 8.180098340049591\n",
            "mse = 66.91400885288208\n",
            "the results of period 9 , forier transformation 5 and future prediction 25 are\n"
          ],
          "name": "stdout"
        },
        {
          "output_type": "stream",
          "text": [
            "INFO:fbprophet:Disabling weekly seasonality. Run prophet with weekly_seasonality=True to override this.\n",
            "INFO:fbprophet:Disabling daily seasonality. Run prophet with daily_seasonality=True to override this.\n"
          ],
          "name": "stderr"
        },
        {
          "output_type": "stream",
          "text": [
            "rmse = 8.41064120350337\n",
            "mse = 70.73888545406864\n",
            "the results of period 9 , forier transformation 6 and future prediction 25 are\n"
          ],
          "name": "stdout"
        },
        {
          "output_type": "stream",
          "text": [
            "INFO:fbprophet:Disabling weekly seasonality. Run prophet with weekly_seasonality=True to override this.\n",
            "INFO:fbprophet:Disabling daily seasonality. Run prophet with daily_seasonality=True to override this.\n"
          ],
          "name": "stderr"
        },
        {
          "output_type": "stream",
          "text": [
            "rmse = 8.263690200518756\n",
            "mse = 68.28857573014972\n",
            "the results of period 10 , forier transformation 1 and future prediction 25 are\n"
          ],
          "name": "stdout"
        },
        {
          "output_type": "stream",
          "text": [
            "INFO:fbprophet:Disabling weekly seasonality. Run prophet with weekly_seasonality=True to override this.\n",
            "INFO:fbprophet:Disabling daily seasonality. Run prophet with daily_seasonality=True to override this.\n"
          ],
          "name": "stderr"
        },
        {
          "output_type": "stream",
          "text": [
            "rmse = 9.276639759660064\n",
            "mse = 86.05604523050593\n",
            "the results of period 10 , forier transformation 2 and future prediction 25 are\n"
          ],
          "name": "stdout"
        },
        {
          "output_type": "stream",
          "text": [
            "INFO:fbprophet:Disabling weekly seasonality. Run prophet with weekly_seasonality=True to override this.\n",
            "INFO:fbprophet:Disabling daily seasonality. Run prophet with daily_seasonality=True to override this.\n"
          ],
          "name": "stderr"
        },
        {
          "output_type": "stream",
          "text": [
            "rmse = 34.46514593924989\n",
            "mse = 1187.846284613793\n",
            "the results of period 10 , forier transformation 3 and future prediction 25 are\n"
          ],
          "name": "stdout"
        },
        {
          "output_type": "stream",
          "text": [
            "INFO:fbprophet:Disabling weekly seasonality. Run prophet with weekly_seasonality=True to override this.\n",
            "INFO:fbprophet:Disabling daily seasonality. Run prophet with daily_seasonality=True to override this.\n"
          ],
          "name": "stderr"
        },
        {
          "output_type": "stream",
          "text": [
            "rmse = 34.28647003334872\n",
            "mse = 1175.5620273477198\n",
            "the results of period 10 , forier transformation 4 and future prediction 25 are\n"
          ],
          "name": "stdout"
        },
        {
          "output_type": "stream",
          "text": [
            "INFO:fbprophet:Disabling weekly seasonality. Run prophet with weekly_seasonality=True to override this.\n",
            "INFO:fbprophet:Disabling daily seasonality. Run prophet with daily_seasonality=True to override this.\n"
          ],
          "name": "stderr"
        },
        {
          "output_type": "stream",
          "text": [
            "rmse = 33.58687774720797\n",
            "mse = 1128.078356805894\n",
            "the results of period 10 , forier transformation 5 and future prediction 25 are\n"
          ],
          "name": "stdout"
        },
        {
          "output_type": "stream",
          "text": [
            "INFO:fbprophet:Disabling weekly seasonality. Run prophet with weekly_seasonality=True to override this.\n",
            "INFO:fbprophet:Disabling daily seasonality. Run prophet with daily_seasonality=True to override this.\n"
          ],
          "name": "stderr"
        },
        {
          "output_type": "stream",
          "text": [
            "rmse = 31.274250474669795\n",
            "mse = 978.078742752384\n",
            "the results of period 10 , forier transformation 6 and future prediction 25 are\n"
          ],
          "name": "stdout"
        },
        {
          "output_type": "stream",
          "text": [
            "INFO:fbprophet:Disabling weekly seasonality. Run prophet with weekly_seasonality=True to override this.\n",
            "INFO:fbprophet:Disabling daily seasonality. Run prophet with daily_seasonality=True to override this.\n"
          ],
          "name": "stderr"
        },
        {
          "output_type": "stream",
          "text": [
            "rmse = 31.492753655536923\n",
            "mse = 991.7935328083342\n",
            "the results of period 11 , forier transformation 1 and future prediction 25 are\n"
          ],
          "name": "stdout"
        },
        {
          "output_type": "stream",
          "text": [
            "INFO:fbprophet:Disabling weekly seasonality. Run prophet with weekly_seasonality=True to override this.\n",
            "INFO:fbprophet:Disabling daily seasonality. Run prophet with daily_seasonality=True to override this.\n"
          ],
          "name": "stderr"
        },
        {
          "output_type": "stream",
          "text": [
            "rmse = 7.683978786253948\n",
            "mse = 59.04352998760069\n",
            "the results of period 11 , forier transformation 2 and future prediction 25 are\n"
          ],
          "name": "stdout"
        },
        {
          "output_type": "stream",
          "text": [
            "INFO:fbprophet:Disabling weekly seasonality. Run prophet with weekly_seasonality=True to override this.\n",
            "INFO:fbprophet:Disabling daily seasonality. Run prophet with daily_seasonality=True to override this.\n"
          ],
          "name": "stderr"
        },
        {
          "output_type": "stream",
          "text": [
            "rmse = 7.813696912158208\n",
            "mse = 61.053859435070706\n",
            "the results of period 11 , forier transformation 3 and future prediction 25 are\n"
          ],
          "name": "stdout"
        },
        {
          "output_type": "stream",
          "text": [
            "INFO:fbprophet:Disabling weekly seasonality. Run prophet with weekly_seasonality=True to override this.\n",
            "INFO:fbprophet:Disabling daily seasonality. Run prophet with daily_seasonality=True to override this.\n"
          ],
          "name": "stderr"
        },
        {
          "output_type": "stream",
          "text": [
            "rmse = 8.258328691386438\n",
            "mse = 68.19999277497644\n",
            "the results of period 11 , forier transformation 4 and future prediction 25 are\n"
          ],
          "name": "stdout"
        },
        {
          "output_type": "stream",
          "text": [
            "INFO:fbprophet:Disabling weekly seasonality. Run prophet with weekly_seasonality=True to override this.\n",
            "INFO:fbprophet:Disabling daily seasonality. Run prophet with daily_seasonality=True to override this.\n"
          ],
          "name": "stderr"
        },
        {
          "output_type": "stream",
          "text": [
            "rmse = 10.142908155309854\n",
            "mse = 102.87858584705114\n",
            "the results of period 11 , forier transformation 5 and future prediction 25 are\n"
          ],
          "name": "stdout"
        },
        {
          "output_type": "stream",
          "text": [
            "INFO:fbprophet:Disabling weekly seasonality. Run prophet with weekly_seasonality=True to override this.\n",
            "INFO:fbprophet:Disabling daily seasonality. Run prophet with daily_seasonality=True to override this.\n"
          ],
          "name": "stderr"
        },
        {
          "output_type": "stream",
          "text": [
            "rmse = 12.017792956318349\n",
            "mse = 144.4273475409349\n",
            "the results of period 11 , forier transformation 6 and future prediction 25 are\n"
          ],
          "name": "stdout"
        },
        {
          "output_type": "stream",
          "text": [
            "INFO:fbprophet:Disabling weekly seasonality. Run prophet with weekly_seasonality=True to override this.\n",
            "INFO:fbprophet:Disabling daily seasonality. Run prophet with daily_seasonality=True to override this.\n"
          ],
          "name": "stderr"
        },
        {
          "output_type": "stream",
          "text": [
            "rmse = 12.301078734117313\n",
            "mse = 151.31653802295318\n",
            "the results of period 12 , forier transformation 1 and future prediction 25 are\n"
          ],
          "name": "stdout"
        },
        {
          "output_type": "stream",
          "text": [
            "INFO:fbprophet:Disabling weekly seasonality. Run prophet with weekly_seasonality=True to override this.\n",
            "INFO:fbprophet:Disabling daily seasonality. Run prophet with daily_seasonality=True to override this.\n"
          ],
          "name": "stderr"
        },
        {
          "output_type": "stream",
          "text": [
            "rmse = 7.73946749783539\n",
            "mse = 59.8993571500504\n",
            "the results of period 12 , forier transformation 2 and future prediction 25 are\n"
          ],
          "name": "stdout"
        },
        {
          "output_type": "stream",
          "text": [
            "INFO:fbprophet:Disabling weekly seasonality. Run prophet with weekly_seasonality=True to override this.\n",
            "INFO:fbprophet:Disabling daily seasonality. Run prophet with daily_seasonality=True to override this.\n"
          ],
          "name": "stderr"
        },
        {
          "output_type": "stream",
          "text": [
            "rmse = 6.699746738679119\n",
            "mse = 44.88660636244149\n",
            "the results of period 12 , forier transformation 3 and future prediction 25 are\n"
          ],
          "name": "stdout"
        },
        {
          "output_type": "stream",
          "text": [
            "INFO:fbprophet:Disabling weekly seasonality. Run prophet with weekly_seasonality=True to override this.\n",
            "INFO:fbprophet:Disabling daily seasonality. Run prophet with daily_seasonality=True to override this.\n"
          ],
          "name": "stderr"
        },
        {
          "output_type": "stream",
          "text": [
            "rmse = 6.672304438013837\n",
            "mse = 44.51964651353914\n",
            "the results of period 12 , forier transformation 4 and future prediction 25 are\n"
          ],
          "name": "stdout"
        },
        {
          "output_type": "stream",
          "text": [
            "INFO:fbprophet:Disabling weekly seasonality. Run prophet with weekly_seasonality=True to override this.\n",
            "INFO:fbprophet:Disabling daily seasonality. Run prophet with daily_seasonality=True to override this.\n"
          ],
          "name": "stderr"
        },
        {
          "output_type": "stream",
          "text": [
            "rmse = 6.692075313715108\n",
            "mse = 44.78387200443516\n",
            "the results of period 12 , forier transformation 5 and future prediction 25 are\n"
          ],
          "name": "stdout"
        },
        {
          "output_type": "stream",
          "text": [
            "INFO:fbprophet:Disabling weekly seasonality. Run prophet with weekly_seasonality=True to override this.\n",
            "INFO:fbprophet:Disabling daily seasonality. Run prophet with daily_seasonality=True to override this.\n"
          ],
          "name": "stderr"
        },
        {
          "output_type": "stream",
          "text": [
            "rmse = 7.1844953554773054\n",
            "mse = 51.61697351287498\n",
            "the results of period 12 , forier transformation 6 and future prediction 25 are\n"
          ],
          "name": "stdout"
        },
        {
          "output_type": "stream",
          "text": [
            "INFO:fbprophet:Disabling weekly seasonality. Run prophet with weekly_seasonality=True to override this.\n",
            "INFO:fbprophet:Disabling daily seasonality. Run prophet with daily_seasonality=True to override this.\n"
          ],
          "name": "stderr"
        },
        {
          "output_type": "stream",
          "text": [
            "rmse = 7.946775611035492\n",
            "mse = 63.151242612148515\n",
            "the results of period 13 , forier transformation 1 and future prediction 25 are\n"
          ],
          "name": "stdout"
        },
        {
          "output_type": "stream",
          "text": [
            "INFO:fbprophet:Disabling weekly seasonality. Run prophet with weekly_seasonality=True to override this.\n",
            "INFO:fbprophet:Disabling daily seasonality. Run prophet with daily_seasonality=True to override this.\n"
          ],
          "name": "stderr"
        },
        {
          "output_type": "stream",
          "text": [
            "rmse = 8.141768390531182\n",
            "mse = 66.28839252505271\n",
            "the results of period 13 , forier transformation 2 and future prediction 25 are\n"
          ],
          "name": "stdout"
        },
        {
          "output_type": "stream",
          "text": [
            "INFO:fbprophet:Disabling weekly seasonality. Run prophet with weekly_seasonality=True to override this.\n",
            "INFO:fbprophet:Disabling daily seasonality. Run prophet with daily_seasonality=True to override this.\n"
          ],
          "name": "stderr"
        },
        {
          "output_type": "stream",
          "text": [
            "rmse = 7.901474767328479\n",
            "mse = 62.43330349872865\n",
            "the results of period 13 , forier transformation 3 and future prediction 25 are\n"
          ],
          "name": "stdout"
        },
        {
          "output_type": "stream",
          "text": [
            "INFO:fbprophet:Disabling weekly seasonality. Run prophet with weekly_seasonality=True to override this.\n",
            "INFO:fbprophet:Disabling daily seasonality. Run prophet with daily_seasonality=True to override this.\n"
          ],
          "name": "stderr"
        },
        {
          "output_type": "stream",
          "text": [
            "rmse = 8.91132983046393\n",
            "mse = 79.4117993473163\n",
            "the results of period 13 , forier transformation 4 and future prediction 25 are\n"
          ],
          "name": "stdout"
        },
        {
          "output_type": "stream",
          "text": [
            "INFO:fbprophet:Disabling weekly seasonality. Run prophet with weekly_seasonality=True to override this.\n",
            "INFO:fbprophet:Disabling daily seasonality. Run prophet with daily_seasonality=True to override this.\n"
          ],
          "name": "stderr"
        },
        {
          "output_type": "stream",
          "text": [
            "rmse = 9.749636798973116\n",
            "mse = 95.05541771189075\n",
            "the results of period 13 , forier transformation 5 and future prediction 25 are\n"
          ],
          "name": "stdout"
        },
        {
          "output_type": "stream",
          "text": [
            "INFO:fbprophet:Disabling weekly seasonality. Run prophet with weekly_seasonality=True to override this.\n",
            "INFO:fbprophet:Disabling daily seasonality. Run prophet with daily_seasonality=True to override this.\n"
          ],
          "name": "stderr"
        },
        {
          "output_type": "stream",
          "text": [
            "rmse = 9.942437692041175\n",
            "mse = 98.85206726012103\n",
            "the results of period 13 , forier transformation 6 and future prediction 25 are\n"
          ],
          "name": "stdout"
        },
        {
          "output_type": "stream",
          "text": [
            "INFO:fbprophet:Disabling weekly seasonality. Run prophet with weekly_seasonality=True to override this.\n",
            "INFO:fbprophet:Disabling daily seasonality. Run prophet with daily_seasonality=True to override this.\n"
          ],
          "name": "stderr"
        },
        {
          "output_type": "stream",
          "text": [
            "rmse = 9.011527712726188\n",
            "mse = 81.20763171723209\n",
            "the results of period 14 , forier transformation 1 and future prediction 25 are\n"
          ],
          "name": "stdout"
        },
        {
          "output_type": "stream",
          "text": [
            "INFO:fbprophet:Disabling weekly seasonality. Run prophet with weekly_seasonality=True to override this.\n",
            "INFO:fbprophet:Disabling daily seasonality. Run prophet with daily_seasonality=True to override this.\n"
          ],
          "name": "stderr"
        },
        {
          "output_type": "stream",
          "text": [
            "rmse = 8.111836615705942\n",
            "mse = 65.80189327990762\n",
            "the results of period 14 , forier transformation 2 and future prediction 25 are\n"
          ],
          "name": "stdout"
        },
        {
          "output_type": "stream",
          "text": [
            "INFO:fbprophet:Disabling weekly seasonality. Run prophet with weekly_seasonality=True to override this.\n",
            "INFO:fbprophet:Disabling daily seasonality. Run prophet with daily_seasonality=True to override this.\n"
          ],
          "name": "stderr"
        },
        {
          "output_type": "stream",
          "text": [
            "rmse = 8.44277475709347\n",
            "mse = 71.28044559901471\n",
            "the results of period 14 , forier transformation 3 and future prediction 25 are\n"
          ],
          "name": "stdout"
        },
        {
          "output_type": "stream",
          "text": [
            "INFO:fbprophet:Disabling weekly seasonality. Run prophet with weekly_seasonality=True to override this.\n",
            "INFO:fbprophet:Disabling daily seasonality. Run prophet with daily_seasonality=True to override this.\n"
          ],
          "name": "stderr"
        },
        {
          "output_type": "stream",
          "text": [
            "rmse = 9.915644783007144\n",
            "mse = 98.32001146277679\n",
            "the results of period 14 , forier transformation 4 and future prediction 25 are\n"
          ],
          "name": "stdout"
        },
        {
          "output_type": "stream",
          "text": [
            "INFO:fbprophet:Disabling weekly seasonality. Run prophet with weekly_seasonality=True to override this.\n",
            "INFO:fbprophet:Disabling daily seasonality. Run prophet with daily_seasonality=True to override this.\n"
          ],
          "name": "stderr"
        },
        {
          "output_type": "stream",
          "text": [
            "rmse = 9.338238146585937\n",
            "mse = 87.20269168235276\n",
            "the results of period 14 , forier transformation 5 and future prediction 25 are\n"
          ],
          "name": "stdout"
        },
        {
          "output_type": "stream",
          "text": [
            "INFO:fbprophet:Disabling weekly seasonality. Run prophet with weekly_seasonality=True to override this.\n",
            "INFO:fbprophet:Disabling daily seasonality. Run prophet with daily_seasonality=True to override this.\n"
          ],
          "name": "stderr"
        },
        {
          "output_type": "stream",
          "text": [
            "rmse = 11.203782961808644\n",
            "mse = 125.52475265531368\n",
            "the results of period 14 , forier transformation 6 and future prediction 25 are\n"
          ],
          "name": "stdout"
        },
        {
          "output_type": "stream",
          "text": [
            "INFO:fbprophet:Disabling weekly seasonality. Run prophet with weekly_seasonality=True to override this.\n",
            "INFO:fbprophet:Disabling daily seasonality. Run prophet with daily_seasonality=True to override this.\n"
          ],
          "name": "stderr"
        },
        {
          "output_type": "stream",
          "text": [
            "rmse = 12.609268315959042\n",
            "mse = 158.9936474638486\n",
            "the results of period 15 , forier transformation 1 and future prediction 25 are\n"
          ],
          "name": "stdout"
        },
        {
          "output_type": "stream",
          "text": [
            "INFO:fbprophet:Disabling weekly seasonality. Run prophet with weekly_seasonality=True to override this.\n",
            "INFO:fbprophet:Disabling daily seasonality. Run prophet with daily_seasonality=True to override this.\n"
          ],
          "name": "stderr"
        },
        {
          "output_type": "stream",
          "text": [
            "rmse = 19.14847683895491\n",
            "mse = 366.6641652519926\n",
            "the results of period 15 , forier transformation 2 and future prediction 25 are\n"
          ],
          "name": "stdout"
        },
        {
          "output_type": "stream",
          "text": [
            "INFO:fbprophet:Disabling weekly seasonality. Run prophet with weekly_seasonality=True to override this.\n",
            "INFO:fbprophet:Disabling daily seasonality. Run prophet with daily_seasonality=True to override this.\n"
          ],
          "name": "stderr"
        },
        {
          "output_type": "stream",
          "text": [
            "rmse = 26.884639456959896\n",
            "mse = 722.7838387307248\n",
            "the results of period 15 , forier transformation 3 and future prediction 25 are\n"
          ],
          "name": "stdout"
        },
        {
          "output_type": "stream",
          "text": [
            "INFO:fbprophet:Disabling weekly seasonality. Run prophet with weekly_seasonality=True to override this.\n",
            "INFO:fbprophet:Disabling daily seasonality. Run prophet with daily_seasonality=True to override this.\n"
          ],
          "name": "stderr"
        },
        {
          "output_type": "stream",
          "text": [
            "rmse = 10.273689281730876\n",
            "mse = 105.54869145755187\n",
            "the results of period 15 , forier transformation 4 and future prediction 25 are\n"
          ],
          "name": "stdout"
        },
        {
          "output_type": "stream",
          "text": [
            "INFO:fbprophet:Disabling weekly seasonality. Run prophet with weekly_seasonality=True to override this.\n",
            "INFO:fbprophet:Disabling daily seasonality. Run prophet with daily_seasonality=True to override this.\n"
          ],
          "name": "stderr"
        },
        {
          "output_type": "stream",
          "text": [
            "rmse = 10.653154147617615\n",
            "mse = 113.48969329290237\n",
            "the results of period 15 , forier transformation 5 and future prediction 25 are\n"
          ],
          "name": "stdout"
        },
        {
          "output_type": "stream",
          "text": [
            "INFO:fbprophet:Disabling weekly seasonality. Run prophet with weekly_seasonality=True to override this.\n",
            "INFO:fbprophet:Disabling daily seasonality. Run prophet with daily_seasonality=True to override this.\n"
          ],
          "name": "stderr"
        },
        {
          "output_type": "stream",
          "text": [
            "rmse = 10.11893610247197\n",
            "mse = 102.39286784591063\n",
            "the results of period 15 , forier transformation 6 and future prediction 25 are\n"
          ],
          "name": "stdout"
        },
        {
          "output_type": "stream",
          "text": [
            "INFO:fbprophet:Disabling weekly seasonality. Run prophet with weekly_seasonality=True to override this.\n",
            "INFO:fbprophet:Disabling daily seasonality. Run prophet with daily_seasonality=True to override this.\n"
          ],
          "name": "stderr"
        },
        {
          "output_type": "stream",
          "text": [
            "rmse = 10.336282220114509\n",
            "mse = 106.83873013385532\n",
            "the results of period 16 , forier transformation 1 and future prediction 25 are\n"
          ],
          "name": "stdout"
        },
        {
          "output_type": "stream",
          "text": [
            "INFO:fbprophet:Disabling weekly seasonality. Run prophet with weekly_seasonality=True to override this.\n",
            "INFO:fbprophet:Disabling daily seasonality. Run prophet with daily_seasonality=True to override this.\n"
          ],
          "name": "stderr"
        },
        {
          "output_type": "stream",
          "text": [
            "rmse = 9.42533766275599\n",
            "mse = 88.83699005696653\n",
            "the results of period 16 , forier transformation 2 and future prediction 25 are\n"
          ],
          "name": "stdout"
        },
        {
          "output_type": "stream",
          "text": [
            "INFO:fbprophet:Disabling weekly seasonality. Run prophet with weekly_seasonality=True to override this.\n",
            "INFO:fbprophet:Disabling daily seasonality. Run prophet with daily_seasonality=True to override this.\n"
          ],
          "name": "stderr"
        },
        {
          "output_type": "stream",
          "text": [
            "rmse = 13.705863396232832\n",
            "mse = 187.850691436195\n",
            "the results of period 16 , forier transformation 3 and future prediction 25 are\n"
          ],
          "name": "stdout"
        },
        {
          "output_type": "stream",
          "text": [
            "INFO:fbprophet:Disabling weekly seasonality. Run prophet with weekly_seasonality=True to override this.\n",
            "INFO:fbprophet:Disabling daily seasonality. Run prophet with daily_seasonality=True to override this.\n"
          ],
          "name": "stderr"
        },
        {
          "output_type": "stream",
          "text": [
            "rmse = 15.234878820877935\n",
            "mse = 232.10153268683504\n",
            "the results of period 16 , forier transformation 4 and future prediction 25 are\n"
          ],
          "name": "stdout"
        },
        {
          "output_type": "stream",
          "text": [
            "INFO:fbprophet:Disabling weekly seasonality. Run prophet with weekly_seasonality=True to override this.\n",
            "INFO:fbprophet:Disabling daily seasonality. Run prophet with daily_seasonality=True to override this.\n"
          ],
          "name": "stderr"
        },
        {
          "output_type": "stream",
          "text": [
            "rmse = 14.892290472850348\n",
            "mse = 221.78031552774925\n",
            "the results of period 16 , forier transformation 5 and future prediction 25 are\n"
          ],
          "name": "stdout"
        },
        {
          "output_type": "stream",
          "text": [
            "INFO:fbprophet:Disabling weekly seasonality. Run prophet with weekly_seasonality=True to override this.\n",
            "INFO:fbprophet:Disabling daily seasonality. Run prophet with daily_seasonality=True to override this.\n"
          ],
          "name": "stderr"
        },
        {
          "output_type": "stream",
          "text": [
            "rmse = 15.00266217563514\n",
            "mse = 225.0798723562333\n",
            "the results of period 16 , forier transformation 6 and future prediction 25 are\n"
          ],
          "name": "stdout"
        },
        {
          "output_type": "stream",
          "text": [
            "INFO:fbprophet:Disabling weekly seasonality. Run prophet with weekly_seasonality=True to override this.\n",
            "INFO:fbprophet:Disabling daily seasonality. Run prophet with daily_seasonality=True to override this.\n"
          ],
          "name": "stderr"
        },
        {
          "output_type": "stream",
          "text": [
            "rmse = 18.719524762582267\n",
            "mse = 350.42060733693074\n",
            "the results of period 17 , forier transformation 1 and future prediction 25 are\n"
          ],
          "name": "stdout"
        },
        {
          "output_type": "stream",
          "text": [
            "INFO:fbprophet:Disabling weekly seasonality. Run prophet with weekly_seasonality=True to override this.\n",
            "INFO:fbprophet:Disabling daily seasonality. Run prophet with daily_seasonality=True to override this.\n"
          ],
          "name": "stderr"
        },
        {
          "output_type": "stream",
          "text": [
            "rmse = 9.018312197008427\n",
            "mse = 81.32995488271095\n",
            "the results of period 17 , forier transformation 2 and future prediction 25 are\n"
          ],
          "name": "stdout"
        },
        {
          "output_type": "stream",
          "text": [
            "INFO:fbprophet:Disabling weekly seasonality. Run prophet with weekly_seasonality=True to override this.\n",
            "INFO:fbprophet:Disabling daily seasonality. Run prophet with daily_seasonality=True to override this.\n"
          ],
          "name": "stderr"
        },
        {
          "output_type": "stream",
          "text": [
            "rmse = 8.488768586674148\n",
            "mse = 72.0591921181058\n",
            "the results of period 17 , forier transformation 3 and future prediction 25 are\n"
          ],
          "name": "stdout"
        },
        {
          "output_type": "stream",
          "text": [
            "INFO:fbprophet:Disabling weekly seasonality. Run prophet with weekly_seasonality=True to override this.\n",
            "INFO:fbprophet:Disabling daily seasonality. Run prophet with daily_seasonality=True to override this.\n"
          ],
          "name": "stderr"
        },
        {
          "output_type": "stream",
          "text": [
            "rmse = 8.26577718427585\n",
            "mse = 68.32307246009519\n",
            "the results of period 17 , forier transformation 4 and future prediction 25 are\n"
          ],
          "name": "stdout"
        },
        {
          "output_type": "stream",
          "text": [
            "INFO:fbprophet:Disabling weekly seasonality. Run prophet with weekly_seasonality=True to override this.\n",
            "INFO:fbprophet:Disabling daily seasonality. Run prophet with daily_seasonality=True to override this.\n"
          ],
          "name": "stderr"
        },
        {
          "output_type": "stream",
          "text": [
            "rmse = 10.34299588917758\n",
            "mse = 106.97756396354431\n",
            "the results of period 17 , forier transformation 5 and future prediction 25 are\n"
          ],
          "name": "stdout"
        },
        {
          "output_type": "stream",
          "text": [
            "INFO:fbprophet:Disabling weekly seasonality. Run prophet with weekly_seasonality=True to override this.\n",
            "INFO:fbprophet:Disabling daily seasonality. Run prophet with daily_seasonality=True to override this.\n"
          ],
          "name": "stderr"
        },
        {
          "output_type": "stream",
          "text": [
            "rmse = 6.617930950485781\n",
            "mse = 43.79701006539763\n",
            "the results of period 17 , forier transformation 6 and future prediction 25 are\n"
          ],
          "name": "stdout"
        },
        {
          "output_type": "stream",
          "text": [
            "INFO:fbprophet:Disabling weekly seasonality. Run prophet with weekly_seasonality=True to override this.\n",
            "INFO:fbprophet:Disabling daily seasonality. Run prophet with daily_seasonality=True to override this.\n"
          ],
          "name": "stderr"
        },
        {
          "output_type": "stream",
          "text": [
            "rmse = 6.96197845460995\n",
            "mse = 48.46914400245314\n",
            "the results of period 18 , forier transformation 1 and future prediction 25 are\n"
          ],
          "name": "stdout"
        },
        {
          "output_type": "stream",
          "text": [
            "INFO:fbprophet:Disabling weekly seasonality. Run prophet with weekly_seasonality=True to override this.\n",
            "INFO:fbprophet:Disabling daily seasonality. Run prophet with daily_seasonality=True to override this.\n"
          ],
          "name": "stderr"
        },
        {
          "output_type": "stream",
          "text": [
            "rmse = 7.604313618971368\n",
            "mse = 57.825585615673425\n",
            "the results of period 18 , forier transformation 2 and future prediction 25 are\n"
          ],
          "name": "stdout"
        },
        {
          "output_type": "stream",
          "text": [
            "INFO:fbprophet:Disabling weekly seasonality. Run prophet with weekly_seasonality=True to override this.\n",
            "INFO:fbprophet:Disabling daily seasonality. Run prophet with daily_seasonality=True to override this.\n"
          ],
          "name": "stderr"
        },
        {
          "output_type": "stream",
          "text": [
            "rmse = 7.607556397306783\n",
            "mse = 57.87491433820336\n",
            "the results of period 18 , forier transformation 3 and future prediction 25 are\n"
          ],
          "name": "stdout"
        },
        {
          "output_type": "stream",
          "text": [
            "INFO:fbprophet:Disabling weekly seasonality. Run prophet with weekly_seasonality=True to override this.\n",
            "INFO:fbprophet:Disabling daily seasonality. Run prophet with daily_seasonality=True to override this.\n"
          ],
          "name": "stderr"
        },
        {
          "output_type": "stream",
          "text": [
            "rmse = 7.034788711061508\n",
            "mse = 49.488252209278436\n",
            "the results of period 18 , forier transformation 4 and future prediction 25 are\n"
          ],
          "name": "stdout"
        },
        {
          "output_type": "stream",
          "text": [
            "INFO:fbprophet:Disabling weekly seasonality. Run prophet with weekly_seasonality=True to override this.\n",
            "INFO:fbprophet:Disabling daily seasonality. Run prophet with daily_seasonality=True to override this.\n"
          ],
          "name": "stderr"
        },
        {
          "output_type": "stream",
          "text": [
            "rmse = 7.453964631613916\n",
            "mse = 55.561588729351186\n",
            "the results of period 18 , forier transformation 5 and future prediction 25 are\n"
          ],
          "name": "stdout"
        },
        {
          "output_type": "stream",
          "text": [
            "INFO:fbprophet:Disabling weekly seasonality. Run prophet with weekly_seasonality=True to override this.\n",
            "INFO:fbprophet:Disabling daily seasonality. Run prophet with daily_seasonality=True to override this.\n"
          ],
          "name": "stderr"
        },
        {
          "output_type": "stream",
          "text": [
            "rmse = 6.85597611658681\n",
            "mse = 47.00440851120875\n",
            "the results of period 18 , forier transformation 6 and future prediction 25 are\n"
          ],
          "name": "stdout"
        },
        {
          "output_type": "stream",
          "text": [
            "INFO:fbprophet:Disabling weekly seasonality. Run prophet with weekly_seasonality=True to override this.\n",
            "INFO:fbprophet:Disabling daily seasonality. Run prophet with daily_seasonality=True to override this.\n"
          ],
          "name": "stderr"
        },
        {
          "output_type": "stream",
          "text": [
            "rmse = 6.973223057810164\n",
            "mse = 48.62583981397533\n",
            "the results of period 19 , forier transformation 1 and future prediction 25 are\n"
          ],
          "name": "stdout"
        },
        {
          "output_type": "stream",
          "text": [
            "INFO:fbprophet:Disabling weekly seasonality. Run prophet with weekly_seasonality=True to override this.\n",
            "INFO:fbprophet:Disabling daily seasonality. Run prophet with daily_seasonality=True to override this.\n"
          ],
          "name": "stderr"
        },
        {
          "output_type": "stream",
          "text": [
            "rmse = 7.891600954078819\n",
            "mse = 62.27736561841773\n",
            "the results of period 19 , forier transformation 2 and future prediction 25 are\n"
          ],
          "name": "stdout"
        },
        {
          "output_type": "stream",
          "text": [
            "INFO:fbprophet:Disabling weekly seasonality. Run prophet with weekly_seasonality=True to override this.\n",
            "INFO:fbprophet:Disabling daily seasonality. Run prophet with daily_seasonality=True to override this.\n"
          ],
          "name": "stderr"
        },
        {
          "output_type": "stream",
          "text": [
            "rmse = 11.19596466481327\n",
            "mse = 125.34962477574729\n",
            "the results of period 19 , forier transformation 3 and future prediction 25 are\n"
          ],
          "name": "stdout"
        },
        {
          "output_type": "stream",
          "text": [
            "INFO:fbprophet:Disabling weekly seasonality. Run prophet with weekly_seasonality=True to override this.\n",
            "INFO:fbprophet:Disabling daily seasonality. Run prophet with daily_seasonality=True to override this.\n"
          ],
          "name": "stderr"
        },
        {
          "output_type": "stream",
          "text": [
            "rmse = 14.3621695085457\n",
            "mse = 206.27191299219984\n",
            "the results of period 19 , forier transformation 4 and future prediction 25 are\n"
          ],
          "name": "stdout"
        },
        {
          "output_type": "stream",
          "text": [
            "INFO:fbprophet:Disabling weekly seasonality. Run prophet with weekly_seasonality=True to override this.\n",
            "INFO:fbprophet:Disabling daily seasonality. Run prophet with daily_seasonality=True to override this.\n"
          ],
          "name": "stderr"
        },
        {
          "output_type": "stream",
          "text": [
            "rmse = 13.300782035847103\n",
            "mse = 176.910802765113\n",
            "the results of period 19 , forier transformation 5 and future prediction 25 are\n"
          ],
          "name": "stdout"
        },
        {
          "output_type": "stream",
          "text": [
            "INFO:fbprophet:Disabling weekly seasonality. Run prophet with weekly_seasonality=True to override this.\n",
            "INFO:fbprophet:Disabling daily seasonality. Run prophet with daily_seasonality=True to override this.\n"
          ],
          "name": "stderr"
        },
        {
          "output_type": "stream",
          "text": [
            "rmse = 14.104117667003992\n",
            "mse = 198.92613516469413\n",
            "the results of period 19 , forier transformation 6 and future prediction 25 are\n"
          ],
          "name": "stdout"
        },
        {
          "output_type": "stream",
          "text": [
            "INFO:fbprophet:Disabling weekly seasonality. Run prophet with weekly_seasonality=True to override this.\n",
            "INFO:fbprophet:Disabling daily seasonality. Run prophet with daily_seasonality=True to override this.\n"
          ],
          "name": "stderr"
        },
        {
          "output_type": "stream",
          "text": [
            "rmse = 13.656408209528248\n",
            "mse = 186.49748518527053\n",
            "the results of period 20 , forier transformation 1 and future prediction 25 are\n"
          ],
          "name": "stdout"
        },
        {
          "output_type": "stream",
          "text": [
            "INFO:fbprophet:Disabling weekly seasonality. Run prophet with weekly_seasonality=True to override this.\n",
            "INFO:fbprophet:Disabling daily seasonality. Run prophet with daily_seasonality=True to override this.\n"
          ],
          "name": "stderr"
        },
        {
          "output_type": "stream",
          "text": [
            "rmse = 7.267271397477227\n",
            "mse = 52.813233564590604\n",
            "the results of period 20 , forier transformation 2 and future prediction 25 are\n"
          ],
          "name": "stdout"
        },
        {
          "output_type": "stream",
          "text": [
            "INFO:fbprophet:Disabling weekly seasonality. Run prophet with weekly_seasonality=True to override this.\n",
            "INFO:fbprophet:Disabling daily seasonality. Run prophet with daily_seasonality=True to override this.\n"
          ],
          "name": "stderr"
        },
        {
          "output_type": "stream",
          "text": [
            "rmse = 11.606323938627389\n",
            "mse = 134.70675536835518\n",
            "the results of period 20 , forier transformation 3 and future prediction 25 are\n"
          ],
          "name": "stdout"
        },
        {
          "output_type": "stream",
          "text": [
            "INFO:fbprophet:Disabling weekly seasonality. Run prophet with weekly_seasonality=True to override this.\n",
            "INFO:fbprophet:Disabling daily seasonality. Run prophet with daily_seasonality=True to override this.\n"
          ],
          "name": "stderr"
        },
        {
          "output_type": "stream",
          "text": [
            "rmse = 11.847217419244426\n",
            "mse = 140.35656057884856\n",
            "the results of period 20 , forier transformation 4 and future prediction 25 are\n"
          ],
          "name": "stdout"
        },
        {
          "output_type": "stream",
          "text": [
            "INFO:fbprophet:Disabling weekly seasonality. Run prophet with weekly_seasonality=True to override this.\n",
            "INFO:fbprophet:Disabling daily seasonality. Run prophet with daily_seasonality=True to override this.\n"
          ],
          "name": "stderr"
        },
        {
          "output_type": "stream",
          "text": [
            "rmse = 39.66725418290534\n",
            "mse = 1573.491054411221\n",
            "the results of period 20 , forier transformation 5 and future prediction 25 are\n"
          ],
          "name": "stdout"
        },
        {
          "output_type": "stream",
          "text": [
            "INFO:fbprophet:Disabling weekly seasonality. Run prophet with weekly_seasonality=True to override this.\n",
            "INFO:fbprophet:Disabling daily seasonality. Run prophet with daily_seasonality=True to override this.\n"
          ],
          "name": "stderr"
        },
        {
          "output_type": "stream",
          "text": [
            "rmse = 40.31029465231663\n",
            "mse = 1624.9198549565865\n",
            "the results of period 20 , forier transformation 6 and future prediction 25 are\n"
          ],
          "name": "stdout"
        },
        {
          "output_type": "stream",
          "text": [
            "INFO:fbprophet:Disabling weekly seasonality. Run prophet with weekly_seasonality=True to override this.\n",
            "INFO:fbprophet:Disabling daily seasonality. Run prophet with daily_seasonality=True to override this.\n"
          ],
          "name": "stderr"
        },
        {
          "output_type": "stream",
          "text": [
            "rmse = 41.31023453111593\n",
            "mse = 1706.535477015803\n",
            "the results of period 21 , forier transformation 1 and future prediction 25 are\n"
          ],
          "name": "stdout"
        },
        {
          "output_type": "stream",
          "text": [
            "INFO:fbprophet:Disabling weekly seasonality. Run prophet with weekly_seasonality=True to override this.\n",
            "INFO:fbprophet:Disabling daily seasonality. Run prophet with daily_seasonality=True to override this.\n"
          ],
          "name": "stderr"
        },
        {
          "output_type": "stream",
          "text": [
            "rmse = 7.57422754414195\n",
            "mse = 57.36892289043859\n",
            "the results of period 21 , forier transformation 2 and future prediction 25 are\n"
          ],
          "name": "stdout"
        },
        {
          "output_type": "stream",
          "text": [
            "INFO:fbprophet:Disabling weekly seasonality. Run prophet with weekly_seasonality=True to override this.\n",
            "INFO:fbprophet:Disabling daily seasonality. Run prophet with daily_seasonality=True to override this.\n"
          ],
          "name": "stderr"
        },
        {
          "output_type": "stream",
          "text": [
            "rmse = 7.75279571344952\n",
            "mse = 60.105841374481244\n",
            "the results of period 21 , forier transformation 3 and future prediction 25 are\n"
          ],
          "name": "stdout"
        },
        {
          "output_type": "stream",
          "text": [
            "INFO:fbprophet:Disabling weekly seasonality. Run prophet with weekly_seasonality=True to override this.\n",
            "INFO:fbprophet:Disabling daily seasonality. Run prophet with daily_seasonality=True to override this.\n"
          ],
          "name": "stderr"
        },
        {
          "output_type": "stream",
          "text": [
            "rmse = 7.7750939101449275\n",
            "mse = 60.45208531157274\n",
            "the results of period 21 , forier transformation 4 and future prediction 25 are\n"
          ],
          "name": "stdout"
        },
        {
          "output_type": "stream",
          "text": [
            "INFO:fbprophet:Disabling weekly seasonality. Run prophet with weekly_seasonality=True to override this.\n",
            "INFO:fbprophet:Disabling daily seasonality. Run prophet with daily_seasonality=True to override this.\n"
          ],
          "name": "stderr"
        },
        {
          "output_type": "stream",
          "text": [
            "rmse = 8.277309755661166\n",
            "mse = 68.5138567911635\n",
            "the results of period 21 , forier transformation 5 and future prediction 25 are\n"
          ],
          "name": "stdout"
        },
        {
          "output_type": "stream",
          "text": [
            "INFO:fbprophet:Disabling weekly seasonality. Run prophet with weekly_seasonality=True to override this.\n",
            "INFO:fbprophet:Disabling daily seasonality. Run prophet with daily_seasonality=True to override this.\n"
          ],
          "name": "stderr"
        },
        {
          "output_type": "stream",
          "text": [
            "rmse = 9.077854178402895\n",
            "mse = 82.40743648434689\n",
            "the results of period 21 , forier transformation 6 and future prediction 25 are\n"
          ],
          "name": "stdout"
        },
        {
          "output_type": "stream",
          "text": [
            "INFO:fbprophet:Disabling weekly seasonality. Run prophet with weekly_seasonality=True to override this.\n",
            "INFO:fbprophet:Disabling daily seasonality. Run prophet with daily_seasonality=True to override this.\n"
          ],
          "name": "stderr"
        },
        {
          "output_type": "stream",
          "text": [
            "rmse = 11.057380202442294\n",
            "mse = 122.26565694136278\n",
            "the results of period 22 , forier transformation 1 and future prediction 25 are\n"
          ],
          "name": "stdout"
        },
        {
          "output_type": "stream",
          "text": [
            "INFO:fbprophet:Disabling weekly seasonality. Run prophet with weekly_seasonality=True to override this.\n",
            "INFO:fbprophet:Disabling daily seasonality. Run prophet with daily_seasonality=True to override this.\n"
          ],
          "name": "stderr"
        },
        {
          "output_type": "stream",
          "text": [
            "rmse = 7.718936892946001\n",
            "mse = 59.58198675728286\n",
            "the results of period 22 , forier transformation 2 and future prediction 25 are\n"
          ],
          "name": "stdout"
        },
        {
          "output_type": "stream",
          "text": [
            "INFO:fbprophet:Disabling weekly seasonality. Run prophet with weekly_seasonality=True to override this.\n",
            "INFO:fbprophet:Disabling daily seasonality. Run prophet with daily_seasonality=True to override this.\n"
          ],
          "name": "stderr"
        },
        {
          "output_type": "stream",
          "text": [
            "rmse = 7.811162618134828\n",
            "mse = 61.014261446946946\n",
            "the results of period 22 , forier transformation 3 and future prediction 25 are\n"
          ],
          "name": "stdout"
        },
        {
          "output_type": "stream",
          "text": [
            "INFO:fbprophet:Disabling weekly seasonality. Run prophet with weekly_seasonality=True to override this.\n",
            "INFO:fbprophet:Disabling daily seasonality. Run prophet with daily_seasonality=True to override this.\n"
          ],
          "name": "stderr"
        },
        {
          "output_type": "stream",
          "text": [
            "rmse = 7.74339776416186\n",
            "mse = 59.960208934026895\n",
            "the results of period 22 , forier transformation 4 and future prediction 25 are\n"
          ],
          "name": "stdout"
        },
        {
          "output_type": "stream",
          "text": [
            "INFO:fbprophet:Disabling weekly seasonality. Run prophet with weekly_seasonality=True to override this.\n",
            "INFO:fbprophet:Disabling daily seasonality. Run prophet with daily_seasonality=True to override this.\n"
          ],
          "name": "stderr"
        },
        {
          "output_type": "stream",
          "text": [
            "rmse = 7.619954318123888\n",
            "mse = 58.06370381029489\n",
            "the results of period 22 , forier transformation 5 and future prediction 25 are\n"
          ],
          "name": "stdout"
        },
        {
          "output_type": "stream",
          "text": [
            "INFO:fbprophet:Disabling weekly seasonality. Run prophet with weekly_seasonality=True to override this.\n",
            "INFO:fbprophet:Disabling daily seasonality. Run prophet with daily_seasonality=True to override this.\n"
          ],
          "name": "stderr"
        },
        {
          "output_type": "stream",
          "text": [
            "rmse = 11.97454754128039\n",
            "mse = 143.38978881838426\n",
            "the results of period 22 , forier transformation 6 and future prediction 25 are\n"
          ],
          "name": "stdout"
        },
        {
          "output_type": "stream",
          "text": [
            "INFO:fbprophet:Disabling weekly seasonality. Run prophet with weekly_seasonality=True to override this.\n",
            "INFO:fbprophet:Disabling daily seasonality. Run prophet with daily_seasonality=True to override this.\n"
          ],
          "name": "stderr"
        },
        {
          "output_type": "stream",
          "text": [
            "rmse = 12.196494410666762\n",
            "mse = 148.75447590942557\n",
            "the results of period 23 , forier transformation 1 and future prediction 25 are\n"
          ],
          "name": "stdout"
        },
        {
          "output_type": "stream",
          "text": [
            "INFO:fbprophet:Disabling weekly seasonality. Run prophet with weekly_seasonality=True to override this.\n",
            "INFO:fbprophet:Disabling daily seasonality. Run prophet with daily_seasonality=True to override this.\n"
          ],
          "name": "stderr"
        },
        {
          "output_type": "stream",
          "text": [
            "rmse = 8.767655193622405\n",
            "mse = 76.87177759425394\n",
            "the results of period 23 , forier transformation 2 and future prediction 25 are\n"
          ],
          "name": "stdout"
        },
        {
          "output_type": "stream",
          "text": [
            "INFO:fbprophet:Disabling weekly seasonality. Run prophet with weekly_seasonality=True to override this.\n",
            "INFO:fbprophet:Disabling daily seasonality. Run prophet with daily_seasonality=True to override this.\n"
          ],
          "name": "stderr"
        },
        {
          "output_type": "stream",
          "text": [
            "rmse = 8.662013551473212\n",
            "mse = 75.03047876590557\n",
            "the results of period 23 , forier transformation 3 and future prediction 25 are\n"
          ],
          "name": "stdout"
        },
        {
          "output_type": "stream",
          "text": [
            "INFO:fbprophet:Disabling weekly seasonality. Run prophet with weekly_seasonality=True to override this.\n",
            "INFO:fbprophet:Disabling daily seasonality. Run prophet with daily_seasonality=True to override this.\n"
          ],
          "name": "stderr"
        },
        {
          "output_type": "stream",
          "text": [
            "rmse = 9.131630958357045\n",
            "mse = 83.38668395962479\n",
            "the results of period 23 , forier transformation 4 and future prediction 25 are\n"
          ],
          "name": "stdout"
        },
        {
          "output_type": "stream",
          "text": [
            "INFO:fbprophet:Disabling weekly seasonality. Run prophet with weekly_seasonality=True to override this.\n",
            "INFO:fbprophet:Disabling daily seasonality. Run prophet with daily_seasonality=True to override this.\n"
          ],
          "name": "stderr"
        },
        {
          "output_type": "stream",
          "text": [
            "rmse = 9.704724213738615\n",
            "mse = 94.18167206472457\n",
            "the results of period 23 , forier transformation 5 and future prediction 25 are\n"
          ],
          "name": "stdout"
        },
        {
          "output_type": "stream",
          "text": [
            "INFO:fbprophet:Disabling weekly seasonality. Run prophet with weekly_seasonality=True to override this.\n",
            "INFO:fbprophet:Disabling daily seasonality. Run prophet with daily_seasonality=True to override this.\n"
          ],
          "name": "stderr"
        },
        {
          "output_type": "stream",
          "text": [
            "rmse = 9.401054263254702\n",
            "mse = 88.3798212606594\n",
            "the results of period 23 , forier transformation 6 and future prediction 25 are\n"
          ],
          "name": "stdout"
        },
        {
          "output_type": "stream",
          "text": [
            "INFO:fbprophet:Disabling weekly seasonality. Run prophet with weekly_seasonality=True to override this.\n",
            "INFO:fbprophet:Disabling daily seasonality. Run prophet with daily_seasonality=True to override this.\n"
          ],
          "name": "stderr"
        },
        {
          "output_type": "stream",
          "text": [
            "rmse = 8.49303374386133\n",
            "mse = 72.1316221743672\n",
            "the results of period 24 , forier transformation 1 and future prediction 25 are\n"
          ],
          "name": "stdout"
        },
        {
          "output_type": "stream",
          "text": [
            "INFO:fbprophet:Disabling weekly seasonality. Run prophet with weekly_seasonality=True to override this.\n",
            "INFO:fbprophet:Disabling daily seasonality. Run prophet with daily_seasonality=True to override this.\n"
          ],
          "name": "stderr"
        },
        {
          "output_type": "stream",
          "text": [
            "rmse = 7.144404512333658\n",
            "mse = 51.042515835853536\n",
            "the results of period 24 , forier transformation 2 and future prediction 25 are\n"
          ],
          "name": "stdout"
        },
        {
          "output_type": "stream",
          "text": [
            "INFO:fbprophet:Disabling weekly seasonality. Run prophet with weekly_seasonality=True to override this.\n",
            "INFO:fbprophet:Disabling daily seasonality. Run prophet with daily_seasonality=True to override this.\n"
          ],
          "name": "stderr"
        },
        {
          "output_type": "stream",
          "text": [
            "rmse = 7.268507447729726\n",
            "mse = 52.83120051770249\n",
            "the results of period 24 , forier transformation 3 and future prediction 25 are\n"
          ],
          "name": "stdout"
        },
        {
          "output_type": "stream",
          "text": [
            "INFO:fbprophet:Disabling weekly seasonality. Run prophet with weekly_seasonality=True to override this.\n",
            "INFO:fbprophet:Disabling daily seasonality. Run prophet with daily_seasonality=True to override this.\n"
          ],
          "name": "stderr"
        },
        {
          "output_type": "stream",
          "text": [
            "rmse = 9.847251368804354\n",
            "mse = 96.96835952041924\n",
            "the results of period 24 , forier transformation 4 and future prediction 25 are\n"
          ],
          "name": "stdout"
        },
        {
          "output_type": "stream",
          "text": [
            "INFO:fbprophet:Disabling weekly seasonality. Run prophet with weekly_seasonality=True to override this.\n",
            "INFO:fbprophet:Disabling daily seasonality. Run prophet with daily_seasonality=True to override this.\n"
          ],
          "name": "stderr"
        },
        {
          "output_type": "stream",
          "text": [
            "rmse = 8.303021911425125\n",
            "mse = 68.94017286160573\n",
            "the results of period 24 , forier transformation 5 and future prediction 25 are\n"
          ],
          "name": "stdout"
        },
        {
          "output_type": "stream",
          "text": [
            "INFO:fbprophet:Disabling weekly seasonality. Run prophet with weekly_seasonality=True to override this.\n",
            "INFO:fbprophet:Disabling daily seasonality. Run prophet with daily_seasonality=True to override this.\n"
          ],
          "name": "stderr"
        },
        {
          "output_type": "stream",
          "text": [
            "rmse = 8.254086737133957\n",
            "mse = 68.12994786413068\n",
            "the results of period 24 , forier transformation 6 and future prediction 25 are\n"
          ],
          "name": "stdout"
        },
        {
          "output_type": "stream",
          "text": [
            "INFO:fbprophet:Disabling weekly seasonality. Run prophet with weekly_seasonality=True to override this.\n",
            "INFO:fbprophet:Disabling daily seasonality. Run prophet with daily_seasonality=True to override this.\n"
          ],
          "name": "stderr"
        },
        {
          "output_type": "stream",
          "text": [
            "rmse = 8.18071189492453\n",
            "mse = 66.92404710775969\n",
            "the results of period 25 , forier transformation 1 and future prediction 25 are\n"
          ],
          "name": "stdout"
        },
        {
          "output_type": "stream",
          "text": [
            "INFO:fbprophet:Disabling weekly seasonality. Run prophet with weekly_seasonality=True to override this.\n",
            "INFO:fbprophet:Disabling daily seasonality. Run prophet with daily_seasonality=True to override this.\n"
          ],
          "name": "stderr"
        },
        {
          "output_type": "stream",
          "text": [
            "rmse = 9.073790238021324\n",
            "mse = 82.33366928361109\n",
            "the results of period 25 , forier transformation 2 and future prediction 25 are\n"
          ],
          "name": "stdout"
        },
        {
          "output_type": "stream",
          "text": [
            "INFO:fbprophet:Disabling weekly seasonality. Run prophet with weekly_seasonality=True to override this.\n",
            "INFO:fbprophet:Disabling daily seasonality. Run prophet with daily_seasonality=True to override this.\n"
          ],
          "name": "stderr"
        },
        {
          "output_type": "stream",
          "text": [
            "rmse = 8.715196383004583\n",
            "mse = 75.95464799433617\n",
            "the results of period 25 , forier transformation 3 and future prediction 25 are\n"
          ],
          "name": "stdout"
        },
        {
          "output_type": "stream",
          "text": [
            "INFO:fbprophet:Disabling weekly seasonality. Run prophet with weekly_seasonality=True to override this.\n",
            "INFO:fbprophet:Disabling daily seasonality. Run prophet with daily_seasonality=True to override this.\n"
          ],
          "name": "stderr"
        },
        {
          "output_type": "stream",
          "text": [
            "rmse = 8.200034870315559\n",
            "mse = 67.2405718743911\n",
            "the results of period 25 , forier transformation 4 and future prediction 25 are\n"
          ],
          "name": "stdout"
        },
        {
          "output_type": "stream",
          "text": [
            "INFO:fbprophet:Disabling weekly seasonality. Run prophet with weekly_seasonality=True to override this.\n",
            "INFO:fbprophet:Disabling daily seasonality. Run prophet with daily_seasonality=True to override this.\n"
          ],
          "name": "stderr"
        },
        {
          "output_type": "stream",
          "text": [
            "rmse = 8.065161699783166\n",
            "mse = 65.0468332436493\n",
            "the results of period 25 , forier transformation 5 and future prediction 25 are\n"
          ],
          "name": "stdout"
        },
        {
          "output_type": "stream",
          "text": [
            "INFO:fbprophet:Disabling weekly seasonality. Run prophet with weekly_seasonality=True to override this.\n",
            "INFO:fbprophet:Disabling daily seasonality. Run prophet with daily_seasonality=True to override this.\n"
          ],
          "name": "stderr"
        },
        {
          "output_type": "stream",
          "text": [
            "rmse = 18.733615474583114\n",
            "mse = 350.9483487495399\n",
            "the results of period 25 , forier transformation 6 and future prediction 25 are\n"
          ],
          "name": "stdout"
        },
        {
          "output_type": "stream",
          "text": [
            "INFO:fbprophet:Disabling weekly seasonality. Run prophet with weekly_seasonality=True to override this.\n",
            "INFO:fbprophet:Disabling daily seasonality. Run prophet with daily_seasonality=True to override this.\n"
          ],
          "name": "stderr"
        },
        {
          "output_type": "stream",
          "text": [
            "rmse = 16.074193802990823\n",
            "mse = 258.37970641610855\n",
            "the results of period 26 , forier transformation 1 and future prediction 25 are\n"
          ],
          "name": "stdout"
        },
        {
          "output_type": "stream",
          "text": [
            "INFO:fbprophet:Disabling weekly seasonality. Run prophet with weekly_seasonality=True to override this.\n",
            "INFO:fbprophet:Disabling daily seasonality. Run prophet with daily_seasonality=True to override this.\n"
          ],
          "name": "stderr"
        },
        {
          "output_type": "stream",
          "text": [
            "rmse = 8.51644848564811\n",
            "mse = 72.529894808698\n",
            "the results of period 26 , forier transformation 2 and future prediction 25 are\n"
          ],
          "name": "stdout"
        },
        {
          "output_type": "stream",
          "text": [
            "INFO:fbprophet:Disabling weekly seasonality. Run prophet with weekly_seasonality=True to override this.\n",
            "INFO:fbprophet:Disabling daily seasonality. Run prophet with daily_seasonality=True to override this.\n"
          ],
          "name": "stderr"
        },
        {
          "output_type": "stream",
          "text": [
            "rmse = 8.50838799068812\n",
            "mse = 72.39266620008583\n",
            "the results of period 26 , forier transformation 3 and future prediction 25 are\n"
          ],
          "name": "stdout"
        },
        {
          "output_type": "stream",
          "text": [
            "INFO:fbprophet:Disabling weekly seasonality. Run prophet with weekly_seasonality=True to override this.\n",
            "INFO:fbprophet:Disabling daily seasonality. Run prophet with daily_seasonality=True to override this.\n"
          ],
          "name": "stderr"
        },
        {
          "output_type": "stream",
          "text": [
            "rmse = 7.50245173572673\n",
            "mse = 56.28678204690902\n",
            "the results of period 26 , forier transformation 4 and future prediction 25 are\n"
          ],
          "name": "stdout"
        },
        {
          "output_type": "stream",
          "text": [
            "INFO:fbprophet:Disabling weekly seasonality. Run prophet with weekly_seasonality=True to override this.\n",
            "INFO:fbprophet:Disabling daily seasonality. Run prophet with daily_seasonality=True to override this.\n"
          ],
          "name": "stderr"
        },
        {
          "output_type": "stream",
          "text": [
            "rmse = 7.438647718656828\n",
            "mse = 55.33347988227843\n",
            "the results of period 26 , forier transformation 5 and future prediction 25 are\n"
          ],
          "name": "stdout"
        },
        {
          "output_type": "stream",
          "text": [
            "INFO:fbprophet:Disabling weekly seasonality. Run prophet with weekly_seasonality=True to override this.\n",
            "INFO:fbprophet:Disabling daily seasonality. Run prophet with daily_seasonality=True to override this.\n"
          ],
          "name": "stderr"
        },
        {
          "output_type": "stream",
          "text": [
            "rmse = 8.206804405393077\n",
            "mse = 67.35163854837921\n",
            "the results of period 26 , forier transformation 6 and future prediction 25 are\n"
          ],
          "name": "stdout"
        },
        {
          "output_type": "stream",
          "text": [
            "INFO:fbprophet:Disabling weekly seasonality. Run prophet with weekly_seasonality=True to override this.\n",
            "INFO:fbprophet:Disabling daily seasonality. Run prophet with daily_seasonality=True to override this.\n"
          ],
          "name": "stderr"
        },
        {
          "output_type": "stream",
          "text": [
            "rmse = 8.539679945223137\n",
            "mse = 72.92613356684625\n",
            "the results of period 27 , forier transformation 1 and future prediction 25 are\n"
          ],
          "name": "stdout"
        },
        {
          "output_type": "stream",
          "text": [
            "INFO:fbprophet:Disabling weekly seasonality. Run prophet with weekly_seasonality=True to override this.\n",
            "INFO:fbprophet:Disabling daily seasonality. Run prophet with daily_seasonality=True to override this.\n"
          ],
          "name": "stderr"
        },
        {
          "output_type": "stream",
          "text": [
            "rmse = 7.990455477138199\n",
            "mse = 63.84737873212785\n",
            "the results of period 27 , forier transformation 2 and future prediction 25 are\n"
          ],
          "name": "stdout"
        },
        {
          "output_type": "stream",
          "text": [
            "INFO:fbprophet:Disabling weekly seasonality. Run prophet with weekly_seasonality=True to override this.\n",
            "INFO:fbprophet:Disabling daily seasonality. Run prophet with daily_seasonality=True to override this.\n"
          ],
          "name": "stderr"
        },
        {
          "output_type": "stream",
          "text": [
            "rmse = 7.5644525747113285\n",
            "mse = 57.220942755056846\n",
            "the results of period 27 , forier transformation 3 and future prediction 25 are\n"
          ],
          "name": "stdout"
        },
        {
          "output_type": "stream",
          "text": [
            "INFO:fbprophet:Disabling weekly seasonality. Run prophet with weekly_seasonality=True to override this.\n",
            "INFO:fbprophet:Disabling daily seasonality. Run prophet with daily_seasonality=True to override this.\n"
          ],
          "name": "stderr"
        },
        {
          "output_type": "stream",
          "text": [
            "rmse = 8.154919384650658\n",
            "mse = 66.50271017015106\n",
            "the results of period 27 , forier transformation 4 and future prediction 25 are\n"
          ],
          "name": "stdout"
        },
        {
          "output_type": "stream",
          "text": [
            "INFO:fbprophet:Disabling weekly seasonality. Run prophet with weekly_seasonality=True to override this.\n",
            "INFO:fbprophet:Disabling daily seasonality. Run prophet with daily_seasonality=True to override this.\n"
          ],
          "name": "stderr"
        },
        {
          "output_type": "stream",
          "text": [
            "rmse = 8.134770651396474\n",
            "mse = 66.17449355082142\n",
            "the results of period 27 , forier transformation 5 and future prediction 25 are\n"
          ],
          "name": "stdout"
        },
        {
          "output_type": "stream",
          "text": [
            "INFO:fbprophet:Disabling weekly seasonality. Run prophet with weekly_seasonality=True to override this.\n",
            "INFO:fbprophet:Disabling daily seasonality. Run prophet with daily_seasonality=True to override this.\n"
          ],
          "name": "stderr"
        },
        {
          "output_type": "stream",
          "text": [
            "rmse = 7.8990106031616225\n",
            "mse = 62.394368508859735\n",
            "the results of period 27 , forier transformation 6 and future prediction 25 are\n"
          ],
          "name": "stdout"
        },
        {
          "output_type": "stream",
          "text": [
            "INFO:fbprophet:Disabling weekly seasonality. Run prophet with weekly_seasonality=True to override this.\n",
            "INFO:fbprophet:Disabling daily seasonality. Run prophet with daily_seasonality=True to override this.\n"
          ],
          "name": "stderr"
        },
        {
          "output_type": "stream",
          "text": [
            "rmse = 8.102101247301281\n",
            "mse = 65.64404462152098\n",
            "the results of period 28 , forier transformation 1 and future prediction 25 are\n"
          ],
          "name": "stdout"
        },
        {
          "output_type": "stream",
          "text": [
            "INFO:fbprophet:Disabling weekly seasonality. Run prophet with weekly_seasonality=True to override this.\n",
            "INFO:fbprophet:Disabling daily seasonality. Run prophet with daily_seasonality=True to override this.\n"
          ],
          "name": "stderr"
        },
        {
          "output_type": "stream",
          "text": [
            "rmse = 10.119347524592882\n",
            "mse = 102.4011943234841\n",
            "the results of period 28 , forier transformation 2 and future prediction 25 are\n"
          ],
          "name": "stdout"
        },
        {
          "output_type": "stream",
          "text": [
            "INFO:fbprophet:Disabling weekly seasonality. Run prophet with weekly_seasonality=True to override this.\n",
            "INFO:fbprophet:Disabling daily seasonality. Run prophet with daily_seasonality=True to override this.\n"
          ],
          "name": "stderr"
        },
        {
          "output_type": "stream",
          "text": [
            "rmse = 15.01257022195731\n",
            "mse = 225.37726466919935\n",
            "the results of period 28 , forier transformation 3 and future prediction 25 are\n"
          ],
          "name": "stdout"
        },
        {
          "output_type": "stream",
          "text": [
            "INFO:fbprophet:Disabling weekly seasonality. Run prophet with weekly_seasonality=True to override this.\n",
            "INFO:fbprophet:Disabling daily seasonality. Run prophet with daily_seasonality=True to override this.\n"
          ],
          "name": "stderr"
        },
        {
          "output_type": "stream",
          "text": [
            "rmse = 15.75942534191117\n",
            "mse = 248.359487107272\n",
            "the results of period 28 , forier transformation 4 and future prediction 25 are\n"
          ],
          "name": "stdout"
        },
        {
          "output_type": "stream",
          "text": [
            "INFO:fbprophet:Disabling weekly seasonality. Run prophet with weekly_seasonality=True to override this.\n",
            "INFO:fbprophet:Disabling daily seasonality. Run prophet with daily_seasonality=True to override this.\n"
          ],
          "name": "stderr"
        },
        {
          "output_type": "stream",
          "text": [
            "rmse = 15.522081802798324\n",
            "mse = 240.93502349276284\n",
            "the results of period 28 , forier transformation 5 and future prediction 25 are\n"
          ],
          "name": "stdout"
        },
        {
          "output_type": "stream",
          "text": [
            "INFO:fbprophet:Disabling weekly seasonality. Run prophet with weekly_seasonality=True to override this.\n",
            "INFO:fbprophet:Disabling daily seasonality. Run prophet with daily_seasonality=True to override this.\n"
          ],
          "name": "stderr"
        },
        {
          "output_type": "stream",
          "text": [
            "rmse = 17.461425392368927\n",
            "mse = 304.9013767332663\n",
            "the results of period 28 , forier transformation 6 and future prediction 25 are\n"
          ],
          "name": "stdout"
        },
        {
          "output_type": "stream",
          "text": [
            "INFO:fbprophet:Disabling weekly seasonality. Run prophet with weekly_seasonality=True to override this.\n",
            "INFO:fbprophet:Disabling daily seasonality. Run prophet with daily_seasonality=True to override this.\n"
          ],
          "name": "stderr"
        },
        {
          "output_type": "stream",
          "text": [
            "rmse = 17.301367716504235\n",
            "mse = 299.3373248616949\n",
            "the results of period 29 , forier transformation 1 and future prediction 25 are\n"
          ],
          "name": "stdout"
        },
        {
          "output_type": "stream",
          "text": [
            "INFO:fbprophet:Disabling weekly seasonality. Run prophet with weekly_seasonality=True to override this.\n",
            "INFO:fbprophet:Disabling daily seasonality. Run prophet with daily_seasonality=True to override this.\n"
          ],
          "name": "stderr"
        },
        {
          "output_type": "stream",
          "text": [
            "rmse = 15.172008510387036\n",
            "mse = 230.18984223925665\n",
            "the results of period 29 , forier transformation 2 and future prediction 25 are\n"
          ],
          "name": "stdout"
        },
        {
          "output_type": "stream",
          "text": [
            "INFO:fbprophet:Disabling weekly seasonality. Run prophet with weekly_seasonality=True to override this.\n",
            "INFO:fbprophet:Disabling daily seasonality. Run prophet with daily_seasonality=True to override this.\n"
          ],
          "name": "stderr"
        },
        {
          "output_type": "stream",
          "text": [
            "rmse = 16.595526310960242\n",
            "mse = 275.4114935377737\n",
            "the results of period 29 , forier transformation 3 and future prediction 25 are\n"
          ],
          "name": "stdout"
        },
        {
          "output_type": "stream",
          "text": [
            "INFO:fbprophet:Disabling weekly seasonality. Run prophet with weekly_seasonality=True to override this.\n",
            "INFO:fbprophet:Disabling daily seasonality. Run prophet with daily_seasonality=True to override this.\n"
          ],
          "name": "stderr"
        },
        {
          "output_type": "stream",
          "text": [
            "rmse = 16.160181934725575\n",
            "mse = 261.1514801634308\n",
            "the results of period 29 , forier transformation 4 and future prediction 25 are\n"
          ],
          "name": "stdout"
        },
        {
          "output_type": "stream",
          "text": [
            "INFO:fbprophet:Disabling weekly seasonality. Run prophet with weekly_seasonality=True to override this.\n",
            "INFO:fbprophet:Disabling daily seasonality. Run prophet with daily_seasonality=True to override this.\n"
          ],
          "name": "stderr"
        },
        {
          "output_type": "stream",
          "text": [
            "rmse = 18.75950293207952\n",
            "mse = 351.9189502587002\n",
            "the results of period 29 , forier transformation 5 and future prediction 25 are\n"
          ],
          "name": "stdout"
        },
        {
          "output_type": "stream",
          "text": [
            "INFO:fbprophet:Disabling weekly seasonality. Run prophet with weekly_seasonality=True to override this.\n",
            "INFO:fbprophet:Disabling daily seasonality. Run prophet with daily_seasonality=True to override this.\n"
          ],
          "name": "stderr"
        },
        {
          "output_type": "stream",
          "text": [
            "rmse = 19.132392281734155\n",
            "mse = 366.0484344221607\n",
            "the results of period 29 , forier transformation 6 and future prediction 25 are\n",
            "rmse = 20.250833151618433\n",
            "mse = 410.0962433346882\n"
          ],
          "name": "stdout"
        }
      ]
    },
    {
      "cell_type": "code",
      "metadata": {
        "colab": {
          "base_uri": "https://localhost:8080/",
          "height": 597
        },
        "id": "G0VXmzDBjxk_",
        "outputId": "3e09de6a-e505-43a3-bc78-f5329583efb1"
      },
      "source": [
        "######## Prophet Library with Exogenous variable ###########\n",
        "m = Prophet()\n",
        "m.add_seasonality(period=6, name='monthly', fourier_order = 1)\n",
        "m.add_regressor('Price')\n",
        "m.add_regressor('High')\n",
        "m.add_regressor('Low')\n",
        "m.add_regressor('Vol')\n",
        "m.add_regressor('Net_Margin')\n",
        "#m.add_regressor('ROE')\n",
        "m.add_regressor('Quick_Ratio')\n",
        "m.add_regressor('Current_Ratio')\n",
        "m.add_regressor('Assets_Equity')\n",
        "m.add_regressor('Debt_Equity')\n",
        "#m.add_regressor('A_RTurnover')\n",
        "m.add_regressor('AvgA_RDays')\n",
        "m.add_regressor('InvTurnover')\n",
        "m.add_regressor('EBITDATotAssetsTTM')\n",
        "m.add_regressor('ROATotAssets')\n",
        "m.add_regressor('HistMktCap')\n",
        "m.add_regressor('HistEV')\n",
        "m.add_regressor('GDPExports')\n",
        "#m.add_regressor('Inflationgdp')\n",
        "m.add_regressor('moneysupply')\n",
        "m.add_regressor('treasures_bill')\n",
        "m.add_regressor('DollarRate_Open')\n",
        "m.fit(train)\n",
        "future = m.make_future_dataframe(periods=25,freq='MS')\n",
        "future['Price'] = prophetdf['Price']\n",
        "future['High'] = prophetdf['High']\n",
        "future['Low'] = prophetdf['Low']\n",
        "future['Vol'] = prophetdf['Vol']\n",
        "future['Net_Margin'] = prophetdf['Net_Margin']\n",
        "#future['ROE'] = prophetdf['ROE']\n",
        "future['Quick_Ratio'] = prophetdf['Quick_Ratio']\n",
        "future['Current_Ratio'] = prophetdf['Current_Ratio']\n",
        "future['Assets_Equity'] = prophetdf['Assets_Equity']\n",
        "future['Debt_Equity'] = prophetdf['Debt_Equity']\n",
        "#future['A_RTurnover'] = prophetdf['A_RTurnover']\n",
        "future['AvgA_RDays'] = prophetdf['AvgA_RDays']\n",
        "future['InvTurnover'] = prophetdf['InvTurnover']\n",
        "future['EBITDATotAssetsTTM'] = prophetdf['EBITDATotAssetsTTM']\n",
        "future['ROATotAssets'] = prophetdf['ROATotAssets']\n",
        "future['HistMktCap'] = prophetdf['HistMktCap']\n",
        "future['HistEV'] = prophetdf['HistEV']\n",
        "future['GDPExports'] = prophetdf['GDPExports']\n",
        "#future['Inflationgdp'] = prophetdf['Inflationgdp']\n",
        "future['moneysupply'] = prophetdf['moneysupply']\n",
        "future['treasures_bill'] = prophetdf['treasures_bill']\n",
        "future['DollarRate_Open'] = prophetdf['DollarRate_Open']\n",
        "future.Price.fillna(0, inplace=True)\n",
        "future.High.fillna(0, inplace=True)\n",
        "future.Low.fillna(0, inplace=True)\n",
        "future.Vol.fillna(0, inplace=True)\n",
        "future.Net_Margin.fillna(0, inplace=True)\n",
        "\n",
        "future.Quick_Ratio.fillna(0, inplace=True)\n",
        "future.Current_Ratio.fillna(0, inplace=True)\n",
        "future.Assets_Equity.fillna(0, inplace=True)\n",
        "future.Debt_Equity.fillna(0, inplace=True)\n",
        "#future.A_RTurnover.fillna(0, inplace=True)\n",
        "future.AvgA_RDays.fillna(0, inplace=True)\n",
        "future.EBITDATotAssetsTTM.fillna(0, inplace=True)\n",
        "future.InvTurnover.fillna(0, inplace=True)\n",
        "future.ROATotAssets.fillna(0, inplace=True)\n",
        "future.HistMktCap.fillna(0, inplace=True)\n",
        "future.HistEV.fillna(0, inplace=True)\n",
        "future.GDPExports.fillna(0, inplace=True)\n",
        "#future.Inflationgdp.fillna(0, inplace=True)\n",
        "future.moneysupply.fillna(0, inplace=True)\n",
        "future.treasures_bill.fillna(0, inplace=True)\n",
        "future.DollarRate_Open.fillna(0, inplace=True)\n",
        "#future.ROE.fillna(0, inplace=True)\n",
        "forecastt = m.predict(future)\n",
        "forecastt.head(70)\n",
        "m.plot(forecastt, figsize=(20, 7));\n",
        "plt.xlabel(\"Monthly data\")\n",
        "plt.ylabel(\"Open price\")\n",
        "plt.title(\"Cherat prophet model actual vs predicted open price \")"
      ],
      "execution_count": null,
      "outputs": [
        {
          "output_type": "stream",
          "text": [
            "INFO:numexpr.utils:NumExpr defaulting to 2 threads.\n",
            "INFO:fbprophet:Disabling weekly seasonality. Run prophet with weekly_seasonality=True to override this.\n",
            "INFO:fbprophet:Disabling daily seasonality. Run prophet with daily_seasonality=True to override this.\n"
          ],
          "name": "stderr"
        },
        {
          "output_type": "execute_result",
          "data": {
            "text/plain": [
              "Text(0.5, 1.0, 'Cherat prophet model actual vs predicted open price ')"
            ]
          },
          "metadata": {
            "tags": []
          },
          "execution_count": 19
        },
        {
          "output_type": "display_data",
          "data": {
            "image/png": "[encoded data removed]",
            "text/plain": [
              "<Figure size 1440x504 with 1 Axes>"
            ]
          },
          "metadata": {
            "tags": []
          }
        }
      ]
    },
    {
      "cell_type": "code",
      "metadata": {
        "colab": {
          "base_uri": "https://localhost:8080/",
          "height": 530
        },
        "id": "FWfwqXuL8d-4",
        "outputId": "6f602a8b-5307-4239-e09a-74f9bf9e7a24"
      },
      "source": [
        "forecastt['yhat'].iloc[101:].plot(figsize=(12,8),legend=True,label='Predicted Open price')\n",
        "test['y'].plot(figsize=(12,8),legend=True, label='Actual Open price')\n",
        "plt.xlabel(\"Index Values\")\n",
        "plt.ylabel(\"Open price\")\n",
        "plt.title(\"Cherat prophet model actual vs predicted open price \")"
      ],
      "execution_count": null,
      "outputs": [
        {
          "output_type": "execute_result",
          "data": {
            "text/plain": [
              "Text(0.5, 1.0, 'Cherat prophet model actual vs predicted open price ')"
            ]
          },
          "metadata": {
            "tags": []
          },
          "execution_count": 18
        },
        {
          "output_type": "display_data",
          "data": {
            "image/png": "[encoded data removed]",
            "text/plain": [
              "<Figure size 864x576 with 1 Axes>"
            ]
          },
          "metadata": {
            "tags": [],
            "needs_background": "light"
          }
        }
      ]
    },
    {
      "cell_type": "code",
      "metadata": {
        "id": "lo9Qm9rr8d-7"
      },
      "source": [
        "predictions = forecastt.iloc[-25:]['yhat']"
      ],
      "execution_count": null,
      "outputs": []
    },
    {
      "cell_type": "code",
      "metadata": {
        "id": "ByZpI8h28d_C"
      },
      "source": [
        "def mse_rmse(test_variable,prediction_variable):\n",
        "    a = rmse(test_variable,prediction_variable)\n",
        "    b = mse(test_variable,prediction_variable)\n",
        "    print('rmse =', a)\n",
        "    print('mse =', b)"
      ],
      "execution_count": null,
      "outputs": []
    },
    {
      "cell_type": "code",
      "metadata": {
        "colab": {
          "base_uri": "https://localhost:8080/"
        },
        "id": "R9Ff0Rj38d_C",
        "outputId": "f5c6432a-65b4-4038-81ee-64d9a5c7c164"
      },
      "source": [
        "mse_rmse(test['y'],predictions)"
      ],
      "execution_count": null,
      "outputs": [
        {
          "output_type": "stream",
          "text": [
            "rmse = 6.45082929142646\n",
            "mse = 41.61319854712561\n"
          ],
          "name": "stdout"
        }
      ]
    },
    {
      "cell_type": "code",
      "metadata": {
        "id": "B7IdWTknCnT5"
      },
      "source": [
        "# Normalisation"
      ],
      "execution_count": null,
      "outputs": []
    },
    {
      "cell_type": "code",
      "metadata": {
        "id": "vTCe1kFPqNM7"
      },
      "source": [
        "prophetdf= prophetlibrary(df_normalise)"
      ],
      "execution_count": null,
      "outputs": []
    },
    {
      "cell_type": "code",
      "metadata": {
        "id": "DxhJyQOeqOtL"
      },
      "source": [
        "#train = df_normalise.drop(['ROE','moneysupply'],axis='columns') \n",
        "train = prophetdf.iloc[:101]\n",
        "#train.shape\n",
        "#test = df_normalise.drop(['ROE','moneysupply'],axis='columns') \n",
        "test = prophetdf.iloc[101:]"
      ],
      "execution_count": null,
      "outputs": []
    },
    {
      "cell_type": "code",
      "metadata": {
        "id": "KGCP6YCIqcBk"
      },
      "source": [
        "######## Prophet Library with Exogenous variable ###########\n",
        "\n",
        "\n",
        "def prophet_train(x,y,z):   # seasonality period = x , fourier order = y , future periods = z \n",
        "  m = Prophet()\n",
        "\n",
        "  m.add_seasonality(period=x, name='monthly', fourier_order = y)\n",
        "\n",
        "  m.add_regressor('Price')\n",
        "  m.add_regressor('High')\n",
        "  m.add_regressor('Low')\n",
        "\n",
        "  m.add_regressor('Vol')\n",
        "  m.add_regressor('Net_Margin')\n",
        "  m.add_regressor('ROE')\n",
        "  m.add_regressor('Quick_Ratio')\n",
        "  m.add_regressor('Current_Ratio')\n",
        "  m.add_regressor('Assets_Equity')\n",
        "  m.add_regressor('Debt_Equity')\n",
        "  m.add_regressor('A_RTurnover')\n",
        "  m.add_regressor('AvgA_RDays')\n",
        "  m.add_regressor('InvTurnover')\n",
        "  m.add_regressor('EBITDATotAssetsTTM')\n",
        "  m.add_regressor('ROATotAssets')\n",
        "  m.add_regressor('HistMktCap')\n",
        "  m.add_regressor('HistEV')\n",
        "  m.add_regressor('GDPExports')\n",
        "  m.add_regressor('Inflationgdp')\n",
        "  m.add_regressor('moneysupply')\n",
        "  m.add_regressor('treasures_bill')\n",
        "  m.add_regressor('DollarRate_Open')\n",
        "\n",
        "  m.fit(train)\n",
        "  future = m.make_future_dataframe(periods=25,freq='MS')\n",
        "\n",
        "  future['Price'] = prophetdf['Price']\n",
        "  future['High'] = prophetdf['High']\n",
        "  future['Low'] = prophetdf['Low']\n",
        "  future['Vol'] = prophetdf['Vol']\n",
        "  future['Net_Margin'] = prophetdf['Net_Margin']\n",
        "  future['ROE'] = prophetdf['ROE']\n",
        "  future['Quick_Ratio'] = prophetdf['Quick_Ratio']\n",
        "  future['Current_Ratio'] = prophetdf['Current_Ratio']\n",
        "  future['Assets_Equity'] = prophetdf['Assets_Equity']\n",
        "  future['Debt_Equity'] = prophetdf['Debt_Equity']\n",
        "  future['A_RTurnover'] = prophetdf['A_RTurnover']\n",
        "  future['AvgA_RDays'] = prophetdf['AvgA_RDays']\n",
        "  future['InvTurnover'] = prophetdf['InvTurnover']\n",
        "  future['EBITDATotAssetsTTM'] = prophetdf['EBITDATotAssetsTTM']\n",
        "  future['ROATotAssets'] = prophetdf['ROATotAssets']\n",
        "  future['HistMktCap'] = prophetdf['HistMktCap']\n",
        "  future['HistEV'] = prophetdf['HistEV']\n",
        "  future['GDPExports'] = prophetdf['GDPExports']\n",
        "  future['Inflationgdp'] = prophetdf['Inflationgdp']\n",
        "  future['moneysupply'] = prophetdf['moneysupply']\n",
        "  future['treasures_bill'] = prophetdf['treasures_bill']\n",
        "  future['DollarRate_Open'] = prophetdf['DollarRate_Open']\n",
        "\n",
        "  future.Price.fillna(0, inplace=True)\n",
        "  future.High.fillna(0, inplace=True)\n",
        "  future.Low.fillna(0, inplace=True)\n",
        "  future.Vol.fillna(0, inplace=True)\n",
        "  future.Net_Margin.fillna(0, inplace=True)\n",
        "  future.ROE.fillna(0, inplace=True)\n",
        "  future.Quick_Ratio.fillna(0, inplace=True)\n",
        "  future.Current_Ratio.fillna(0, inplace=True)\n",
        "  future.Assets_Equity.fillna(0, inplace=True)\n",
        "  future.Debt_Equity.fillna(0, inplace=True)\n",
        "  future.A_RTurnover.fillna(0, inplace=True)\n",
        "  future.AvgA_RDays.fillna(0, inplace=True)\n",
        "  future.EBITDATotAssetsTTM.fillna(0, inplace=True)\n",
        "  future.InvTurnover.fillna(0, inplace=True)\n",
        "  future.ROATotAssets.fillna(0, inplace=True)\n",
        "  future.HistMktCap.fillna(0, inplace=True)\n",
        "  future.HistEV.fillna(0, inplace=True)\n",
        "  future.GDPExports.fillna(0, inplace=True)\n",
        "  future.Inflationgdp.fillna(0, inplace=True)\n",
        "  future.moneysupply.fillna(0, inplace=True)\n",
        "  future.treasures_bill.fillna(0, inplace=True)\n",
        "  future.DollarRate_Open.fillna(0, inplace=True)\n",
        "  forecastt = m.predict(future)\n",
        "  predictions = forecastt['yhat'].iloc[101:]\n",
        "  mse = mse_rmse(test['y'],predictions)"
      ],
      "execution_count": null,
      "outputs": []
    },
    {
      "cell_type": "code",
      "metadata": {
        "colab": {
          "base_uri": "https://localhost:8080/"
        },
        "id": "LgjhQnatqVT7",
        "outputId": "564aba76-b99c-4d66-a578-437ab44861bd"
      },
      "source": [
        "parameters = []\n",
        "for x in range(3,30):\n",
        "  for y in range(1,7):\n",
        "    print(\"the results of period {} , forier transformation {} and future prediction 25 are\".format(x,y,21))\n",
        "    prophet_train(x,y,21)\n",
        "    "
      ],
      "execution_count": null,
      "outputs": [
        {
          "output_type": "stream",
          "text": [
            "the results of period 3 , forier transformation 1 and future prediction 25 are\n"
          ],
          "name": "stdout"
        },
        {
          "output_type": "stream",
          "text": [
            "INFO:numexpr.utils:NumExpr defaulting to 2 threads.\n",
            "INFO:fbprophet:Disabling weekly seasonality. Run prophet with weekly_seasonality=True to override this.\n",
            "INFO:fbprophet:Disabling daily seasonality. Run prophet with daily_seasonality=True to override this.\n",
            "INFO:fbprophet:Disabling weekly seasonality. Run prophet with weekly_seasonality=True to override this.\n",
            "INFO:fbprophet:Disabling daily seasonality. Run prophet with daily_seasonality=True to override this.\n"
          ],
          "name": "stderr"
        },
        {
          "output_type": "stream",
          "text": [
            "rmse = 0.1489941367107879\n",
            "mse = 0.022199252774192955\n",
            "the results of period 3 , forier transformation 2 and future prediction 25 are\n"
          ],
          "name": "stdout"
        },
        {
          "output_type": "stream",
          "text": [
            "INFO:fbprophet:Disabling weekly seasonality. Run prophet with weekly_seasonality=True to override this.\n",
            "INFO:fbprophet:Disabling daily seasonality. Run prophet with daily_seasonality=True to override this.\n"
          ],
          "name": "stderr"
        },
        {
          "output_type": "stream",
          "text": [
            "rmse = 0.1494955244545167\n",
            "mse = 0.022348911831931\n",
            "the results of period 3 , forier transformation 3 and future prediction 25 are\n"
          ],
          "name": "stdout"
        },
        {
          "output_type": "stream",
          "text": [
            "INFO:fbprophet:Disabling weekly seasonality. Run prophet with weekly_seasonality=True to override this.\n",
            "INFO:fbprophet:Disabling daily seasonality. Run prophet with daily_seasonality=True to override this.\n"
          ],
          "name": "stderr"
        },
        {
          "output_type": "stream",
          "text": [
            "rmse = 0.14943559791812938\n",
            "mse = 0.02233099792514883\n",
            "the results of period 3 , forier transformation 4 and future prediction 25 are\n"
          ],
          "name": "stdout"
        },
        {
          "output_type": "stream",
          "text": [
            "INFO:fbprophet:Disabling weekly seasonality. Run prophet with weekly_seasonality=True to override this.\n",
            "INFO:fbprophet:Disabling daily seasonality. Run prophet with daily_seasonality=True to override this.\n"
          ],
          "name": "stderr"
        },
        {
          "output_type": "stream",
          "text": [
            "rmse = 0.15148034351123033\n",
            "mse = 0.022946294470280338\n",
            "the results of period 3 , forier transformation 5 and future prediction 25 are\n"
          ],
          "name": "stdout"
        },
        {
          "output_type": "stream",
          "text": [
            "INFO:fbprophet:Disabling weekly seasonality. Run prophet with weekly_seasonality=True to override this.\n",
            "INFO:fbprophet:Disabling daily seasonality. Run prophet with daily_seasonality=True to override this.\n"
          ],
          "name": "stderr"
        },
        {
          "output_type": "stream",
          "text": [
            "rmse = 0.14894877893440572\n",
            "mse = 0.022185738746050468\n",
            "the results of period 3 , forier transformation 6 and future prediction 25 are\n"
          ],
          "name": "stdout"
        },
        {
          "output_type": "stream",
          "text": [
            "INFO:fbprophet:Disabling weekly seasonality. Run prophet with weekly_seasonality=True to override this.\n",
            "INFO:fbprophet:Disabling daily seasonality. Run prophet with daily_seasonality=True to override this.\n"
          ],
          "name": "stderr"
        },
        {
          "output_type": "stream",
          "text": [
            "rmse = 0.14951867700955027\n",
            "mse = 0.022355834774686213\n",
            "the results of period 4 , forier transformation 1 and future prediction 25 are\n"
          ],
          "name": "stdout"
        },
        {
          "output_type": "stream",
          "text": [
            "INFO:fbprophet:Disabling weekly seasonality. Run prophet with weekly_seasonality=True to override this.\n",
            "INFO:fbprophet:Disabling daily seasonality. Run prophet with daily_seasonality=True to override this.\n"
          ],
          "name": "stderr"
        },
        {
          "output_type": "stream",
          "text": [
            "rmse = 0.15944907887785417\n",
            "mse = 0.02542400875499616\n",
            "the results of period 4 , forier transformation 2 and future prediction 25 are\n"
          ],
          "name": "stdout"
        },
        {
          "output_type": "stream",
          "text": [
            "INFO:fbprophet:Disabling weekly seasonality. Run prophet with weekly_seasonality=True to override this.\n",
            "INFO:fbprophet:Disabling daily seasonality. Run prophet with daily_seasonality=True to override this.\n"
          ],
          "name": "stderr"
        },
        {
          "output_type": "stream",
          "text": [
            "rmse = 0.15902433338458286\n",
            "mse = 0.02528873860841095\n",
            "the results of period 4 , forier transformation 3 and future prediction 25 are\n"
          ],
          "name": "stdout"
        },
        {
          "output_type": "stream",
          "text": [
            "INFO:fbprophet:Disabling weekly seasonality. Run prophet with weekly_seasonality=True to override this.\n",
            "INFO:fbprophet:Disabling daily seasonality. Run prophet with daily_seasonality=True to override this.\n"
          ],
          "name": "stderr"
        },
        {
          "output_type": "stream",
          "text": [
            "rmse = 0.16020417175869744\n",
            "mse = 0.025665376648890233\n",
            "the results of period 4 , forier transformation 4 and future prediction 25 are\n"
          ],
          "name": "stdout"
        },
        {
          "output_type": "stream",
          "text": [
            "INFO:fbprophet:Disabling weekly seasonality. Run prophet with weekly_seasonality=True to override this.\n",
            "INFO:fbprophet:Disabling daily seasonality. Run prophet with daily_seasonality=True to override this.\n"
          ],
          "name": "stderr"
        },
        {
          "output_type": "stream",
          "text": [
            "rmse = 0.15688358752089504\n",
            "mse = 0.024612460033426337\n",
            "the results of period 4 , forier transformation 5 and future prediction 25 are\n"
          ],
          "name": "stdout"
        },
        {
          "output_type": "stream",
          "text": [
            "INFO:fbprophet:Disabling weekly seasonality. Run prophet with weekly_seasonality=True to override this.\n",
            "INFO:fbprophet:Disabling daily seasonality. Run prophet with daily_seasonality=True to override this.\n"
          ],
          "name": "stderr"
        },
        {
          "output_type": "stream",
          "text": [
            "rmse = 0.15710667326493138\n",
            "mse = 0.024682506784373906\n",
            "the results of period 4 , forier transformation 6 and future prediction 25 are\n"
          ],
          "name": "stdout"
        },
        {
          "output_type": "stream",
          "text": [
            "INFO:fbprophet:Disabling weekly seasonality. Run prophet with weekly_seasonality=True to override this.\n",
            "INFO:fbprophet:Disabling daily seasonality. Run prophet with daily_seasonality=True to override this.\n"
          ],
          "name": "stderr"
        },
        {
          "output_type": "stream",
          "text": [
            "rmse = 0.15856073535682513\n",
            "mse = 0.025141506796897136\n",
            "the results of period 5 , forier transformation 1 and future prediction 25 are\n"
          ],
          "name": "stdout"
        },
        {
          "output_type": "stream",
          "text": [
            "INFO:fbprophet:Disabling weekly seasonality. Run prophet with weekly_seasonality=True to override this.\n",
            "INFO:fbprophet:Disabling daily seasonality. Run prophet with daily_seasonality=True to override this.\n"
          ],
          "name": "stderr"
        },
        {
          "output_type": "stream",
          "text": [
            "rmse = 0.3732369887739313\n",
            "mse = 0.1393058497890317\n",
            "the results of period 5 , forier transformation 2 and future prediction 25 are\n"
          ],
          "name": "stdout"
        },
        {
          "output_type": "stream",
          "text": [
            "INFO:fbprophet:Disabling weekly seasonality. Run prophet with weekly_seasonality=True to override this.\n",
            "INFO:fbprophet:Disabling daily seasonality. Run prophet with daily_seasonality=True to override this.\n"
          ],
          "name": "stderr"
        },
        {
          "output_type": "stream",
          "text": [
            "rmse = 0.40322938574476436\n",
            "mse = 0.16259393752809997\n",
            "the results of period 5 , forier transformation 3 and future prediction 25 are\n"
          ],
          "name": "stdout"
        },
        {
          "output_type": "stream",
          "text": [
            "INFO:fbprophet:Disabling weekly seasonality. Run prophet with weekly_seasonality=True to override this.\n",
            "INFO:fbprophet:Disabling daily seasonality. Run prophet with daily_seasonality=True to override this.\n"
          ],
          "name": "stderr"
        },
        {
          "output_type": "stream",
          "text": [
            "rmse = 0.4388459145290491\n",
            "mse = 0.19258573669883744\n",
            "the results of period 5 , forier transformation 4 and future prediction 25 are\n"
          ],
          "name": "stdout"
        },
        {
          "output_type": "stream",
          "text": [
            "INFO:fbprophet:Disabling weekly seasonality. Run prophet with weekly_seasonality=True to override this.\n",
            "INFO:fbprophet:Disabling daily seasonality. Run prophet with daily_seasonality=True to override this.\n"
          ],
          "name": "stderr"
        },
        {
          "output_type": "stream",
          "text": [
            "rmse = 0.4092730495678678\n",
            "mse = 0.1675044291025824\n",
            "the results of period 5 , forier transformation 5 and future prediction 25 are\n"
          ],
          "name": "stdout"
        },
        {
          "output_type": "stream",
          "text": [
            "INFO:fbprophet:Disabling weekly seasonality. Run prophet with weekly_seasonality=True to override this.\n",
            "INFO:fbprophet:Disabling daily seasonality. Run prophet with daily_seasonality=True to override this.\n"
          ],
          "name": "stderr"
        },
        {
          "output_type": "stream",
          "text": [
            "rmse = 0.41582993642162824\n",
            "mse = 0.17291453602441537\n",
            "the results of period 5 , forier transformation 6 and future prediction 25 are\n"
          ],
          "name": "stdout"
        },
        {
          "output_type": "stream",
          "text": [
            "INFO:fbprophet:Disabling weekly seasonality. Run prophet with weekly_seasonality=True to override this.\n",
            "INFO:fbprophet:Disabling daily seasonality. Run prophet with daily_seasonality=True to override this.\n"
          ],
          "name": "stderr"
        },
        {
          "output_type": "stream",
          "text": [
            "rmse = 0.4078372472138755\n",
            "mse = 0.1663312202149918\n",
            "the results of period 6 , forier transformation 1 and future prediction 25 are\n"
          ],
          "name": "stdout"
        },
        {
          "output_type": "stream",
          "text": [
            "INFO:fbprophet:Disabling weekly seasonality. Run prophet with weekly_seasonality=True to override this.\n",
            "INFO:fbprophet:Disabling daily seasonality. Run prophet with daily_seasonality=True to override this.\n"
          ],
          "name": "stderr"
        },
        {
          "output_type": "stream",
          "text": [
            "rmse = 0.14711343787761394\n",
            "mse = 0.021642363604170572\n",
            "the results of period 6 , forier transformation 2 and future prediction 25 are\n"
          ],
          "name": "stdout"
        },
        {
          "output_type": "stream",
          "text": [
            "INFO:fbprophet:Disabling weekly seasonality. Run prophet with weekly_seasonality=True to override this.\n",
            "INFO:fbprophet:Disabling daily seasonality. Run prophet with daily_seasonality=True to override this.\n"
          ],
          "name": "stderr"
        },
        {
          "output_type": "stream",
          "text": [
            "rmse = 0.13976402242896274\n",
            "mse = 0.019533981965523597\n",
            "the results of period 6 , forier transformation 3 and future prediction 25 are\n"
          ],
          "name": "stdout"
        },
        {
          "output_type": "stream",
          "text": [
            "INFO:fbprophet:Disabling weekly seasonality. Run prophet with weekly_seasonality=True to override this.\n",
            "INFO:fbprophet:Disabling daily seasonality. Run prophet with daily_seasonality=True to override this.\n"
          ],
          "name": "stderr"
        },
        {
          "output_type": "stream",
          "text": [
            "rmse = 0.17097385970931728\n",
            "mse = 0.029232060703901303\n",
            "the results of period 6 , forier transformation 4 and future prediction 25 are\n"
          ],
          "name": "stdout"
        },
        {
          "output_type": "stream",
          "text": [
            "INFO:fbprophet:Disabling weekly seasonality. Run prophet with weekly_seasonality=True to override this.\n",
            "INFO:fbprophet:Disabling daily seasonality. Run prophet with daily_seasonality=True to override this.\n"
          ],
          "name": "stderr"
        },
        {
          "output_type": "stream",
          "text": [
            "rmse = 0.15647023469729207\n",
            "mse = 0.02448293434622566\n",
            "the results of period 6 , forier transformation 5 and future prediction 25 are\n"
          ],
          "name": "stdout"
        },
        {
          "output_type": "stream",
          "text": [
            "INFO:fbprophet:Disabling weekly seasonality. Run prophet with weekly_seasonality=True to override this.\n",
            "INFO:fbprophet:Disabling daily seasonality. Run prophet with daily_seasonality=True to override this.\n"
          ],
          "name": "stderr"
        },
        {
          "output_type": "stream",
          "text": [
            "rmse = 0.18424690772222288\n",
            "mse = 0.033946923005201315\n",
            "the results of period 6 , forier transformation 6 and future prediction 25 are\n"
          ],
          "name": "stdout"
        },
        {
          "output_type": "stream",
          "text": [
            "INFO:fbprophet:Disabling weekly seasonality. Run prophet with weekly_seasonality=True to override this.\n",
            "INFO:fbprophet:Disabling daily seasonality. Run prophet with daily_seasonality=True to override this.\n"
          ],
          "name": "stderr"
        },
        {
          "output_type": "stream",
          "text": [
            "rmse = 0.1725959234466921\n",
            "mse = 0.029789352790416404\n",
            "the results of period 7 , forier transformation 1 and future prediction 25 are\n"
          ],
          "name": "stdout"
        },
        {
          "output_type": "stream",
          "text": [
            "INFO:fbprophet:Disabling weekly seasonality. Run prophet with weekly_seasonality=True to override this.\n",
            "INFO:fbprophet:Disabling daily seasonality. Run prophet with daily_seasonality=True to override this.\n"
          ],
          "name": "stderr"
        },
        {
          "output_type": "stream",
          "text": [
            "rmse = 0.16637693730267633\n",
            "mse = 0.027681285266218693\n",
            "the results of period 7 , forier transformation 2 and future prediction 25 are\n"
          ],
          "name": "stdout"
        },
        {
          "output_type": "stream",
          "text": [
            "INFO:fbprophet:Disabling weekly seasonality. Run prophet with weekly_seasonality=True to override this.\n",
            "INFO:fbprophet:Disabling daily seasonality. Run prophet with daily_seasonality=True to override this.\n"
          ],
          "name": "stderr"
        },
        {
          "output_type": "stream",
          "text": [
            "rmse = 0.1560676508875555\n",
            "mse = 0.0243571116535599\n",
            "the results of period 7 , forier transformation 3 and future prediction 25 are\n"
          ],
          "name": "stdout"
        },
        {
          "output_type": "stream",
          "text": [
            "INFO:fbprophet:Disabling weekly seasonality. Run prophet with weekly_seasonality=True to override this.\n",
            "INFO:fbprophet:Disabling daily seasonality. Run prophet with daily_seasonality=True to override this.\n"
          ],
          "name": "stderr"
        },
        {
          "output_type": "stream",
          "text": [
            "rmse = 0.18193928969856113\n",
            "mse = 0.033101905136016956\n",
            "the results of period 7 , forier transformation 4 and future prediction 25 are\n"
          ],
          "name": "stdout"
        },
        {
          "output_type": "stream",
          "text": [
            "INFO:fbprophet:Disabling weekly seasonality. Run prophet with weekly_seasonality=True to override this.\n",
            "INFO:fbprophet:Disabling daily seasonality. Run prophet with daily_seasonality=True to override this.\n"
          ],
          "name": "stderr"
        },
        {
          "output_type": "stream",
          "text": [
            "rmse = 0.1776067259343445\n",
            "mse = 0.03154414909711736\n",
            "the results of period 7 , forier transformation 5 and future prediction 25 are\n"
          ],
          "name": "stdout"
        },
        {
          "output_type": "stream",
          "text": [
            "INFO:fbprophet:Disabling weekly seasonality. Run prophet with weekly_seasonality=True to override this.\n",
            "INFO:fbprophet:Disabling daily seasonality. Run prophet with daily_seasonality=True to override this.\n"
          ],
          "name": "stderr"
        },
        {
          "output_type": "stream",
          "text": [
            "rmse = 0.18654520108201741\n",
            "mse = 0.034799112046730314\n",
            "the results of period 7 , forier transformation 6 and future prediction 25 are\n"
          ],
          "name": "stdout"
        },
        {
          "output_type": "stream",
          "text": [
            "INFO:fbprophet:Disabling weekly seasonality. Run prophet with weekly_seasonality=True to override this.\n",
            "INFO:fbprophet:Disabling daily seasonality. Run prophet with daily_seasonality=True to override this.\n"
          ],
          "name": "stderr"
        },
        {
          "output_type": "stream",
          "text": [
            "rmse = 0.18387333879719983\n",
            "mse = 0.03380940472042983\n",
            "the results of period 8 , forier transformation 1 and future prediction 25 are\n"
          ],
          "name": "stdout"
        },
        {
          "output_type": "stream",
          "text": [
            "INFO:fbprophet:Disabling weekly seasonality. Run prophet with weekly_seasonality=True to override this.\n",
            "INFO:fbprophet:Disabling daily seasonality. Run prophet with daily_seasonality=True to override this.\n"
          ],
          "name": "stderr"
        },
        {
          "output_type": "stream",
          "text": [
            "rmse = 0.18733908776024036\n",
            "mse = 0.03509593380283904\n",
            "the results of period 8 , forier transformation 2 and future prediction 25 are\n"
          ],
          "name": "stdout"
        },
        {
          "output_type": "stream",
          "text": [
            "INFO:fbprophet:Disabling weekly seasonality. Run prophet with weekly_seasonality=True to override this.\n",
            "INFO:fbprophet:Disabling daily seasonality. Run prophet with daily_seasonality=True to override this.\n"
          ],
          "name": "stderr"
        },
        {
          "output_type": "stream",
          "text": [
            "rmse = 0.1792473612264372\n",
            "mse = 0.03212961650664086\n",
            "the results of period 8 , forier transformation 3 and future prediction 25 are\n"
          ],
          "name": "stdout"
        },
        {
          "output_type": "stream",
          "text": [
            "INFO:fbprophet:Disabling weekly seasonality. Run prophet with weekly_seasonality=True to override this.\n",
            "INFO:fbprophet:Disabling daily seasonality. Run prophet with daily_seasonality=True to override this.\n"
          ],
          "name": "stderr"
        },
        {
          "output_type": "stream",
          "text": [
            "rmse = 0.19431895519238873\n",
            "mse = 0.03775985634706158\n",
            "the results of period 8 , forier transformation 4 and future prediction 25 are\n"
          ],
          "name": "stdout"
        },
        {
          "output_type": "stream",
          "text": [
            "INFO:fbprophet:Disabling weekly seasonality. Run prophet with weekly_seasonality=True to override this.\n",
            "INFO:fbprophet:Disabling daily seasonality. Run prophet with daily_seasonality=True to override this.\n"
          ],
          "name": "stderr"
        },
        {
          "output_type": "stream",
          "text": [
            "rmse = 0.22409146734861782\n",
            "mse = 0.05021698573845664\n",
            "the results of period 8 , forier transformation 5 and future prediction 25 are\n"
          ],
          "name": "stdout"
        },
        {
          "output_type": "stream",
          "text": [
            "INFO:fbprophet:Disabling weekly seasonality. Run prophet with weekly_seasonality=True to override this.\n",
            "INFO:fbprophet:Disabling daily seasonality. Run prophet with daily_seasonality=True to override this.\n"
          ],
          "name": "stderr"
        },
        {
          "output_type": "stream",
          "text": [
            "rmse = 0.2180009513327908\n",
            "mse = 0.04752441478200182\n",
            "the results of period 8 , forier transformation 6 and future prediction 25 are\n"
          ],
          "name": "stdout"
        },
        {
          "output_type": "stream",
          "text": [
            "INFO:fbprophet:Disabling weekly seasonality. Run prophet with weekly_seasonality=True to override this.\n",
            "INFO:fbprophet:Disabling daily seasonality. Run prophet with daily_seasonality=True to override this.\n"
          ],
          "name": "stderr"
        },
        {
          "output_type": "stream",
          "text": [
            "rmse = 0.2058311127978599\n",
            "mse = 0.04236644699560533\n",
            "the results of period 9 , forier transformation 1 and future prediction 25 are\n"
          ],
          "name": "stdout"
        },
        {
          "output_type": "stream",
          "text": [
            "INFO:fbprophet:Disabling weekly seasonality. Run prophet with weekly_seasonality=True to override this.\n",
            "INFO:fbprophet:Disabling daily seasonality. Run prophet with daily_seasonality=True to override this.\n"
          ],
          "name": "stderr"
        },
        {
          "output_type": "stream",
          "text": [
            "rmse = 0.1647038690454919\n",
            "mse = 0.027127364478554537\n",
            "the results of period 9 , forier transformation 2 and future prediction 25 are\n"
          ],
          "name": "stdout"
        },
        {
          "output_type": "stream",
          "text": [
            "INFO:fbprophet:Disabling weekly seasonality. Run prophet with weekly_seasonality=True to override this.\n",
            "INFO:fbprophet:Disabling daily seasonality. Run prophet with daily_seasonality=True to override this.\n"
          ],
          "name": "stderr"
        },
        {
          "output_type": "stream",
          "text": [
            "rmse = 0.1629991517076863\n",
            "mse = 0.026568723457425333\n",
            "the results of period 9 , forier transformation 3 and future prediction 25 are\n"
          ],
          "name": "stdout"
        },
        {
          "output_type": "stream",
          "text": [
            "INFO:fbprophet:Disabling weekly seasonality. Run prophet with weekly_seasonality=True to override this.\n",
            "INFO:fbprophet:Disabling daily seasonality. Run prophet with daily_seasonality=True to override this.\n"
          ],
          "name": "stderr"
        },
        {
          "output_type": "stream",
          "text": [
            "rmse = 0.1561079023050585\n",
            "mse = 0.02436967716208569\n",
            "the results of period 9 , forier transformation 4 and future prediction 25 are\n"
          ],
          "name": "stdout"
        },
        {
          "output_type": "stream",
          "text": [
            "INFO:fbprophet:Disabling weekly seasonality. Run prophet with weekly_seasonality=True to override this.\n",
            "INFO:fbprophet:Disabling daily seasonality. Run prophet with daily_seasonality=True to override this.\n"
          ],
          "name": "stderr"
        },
        {
          "output_type": "stream",
          "text": [
            "rmse = 0.14765447212043908\n",
            "mse = 0.021801843137165523\n",
            "the results of period 9 , forier transformation 5 and future prediction 25 are\n"
          ],
          "name": "stdout"
        },
        {
          "output_type": "stream",
          "text": [
            "INFO:fbprophet:Disabling weekly seasonality. Run prophet with weekly_seasonality=True to override this.\n",
            "INFO:fbprophet:Disabling daily seasonality. Run prophet with daily_seasonality=True to override this.\n"
          ],
          "name": "stderr"
        },
        {
          "output_type": "stream",
          "text": [
            "rmse = 0.14876270315137016\n",
            "mse = 0.022130341848902675\n",
            "the results of period 9 , forier transformation 6 and future prediction 25 are\n"
          ],
          "name": "stdout"
        },
        {
          "output_type": "stream",
          "text": [
            "INFO:fbprophet:Disabling weekly seasonality. Run prophet with weekly_seasonality=True to override this.\n",
            "INFO:fbprophet:Disabling daily seasonality. Run prophet with daily_seasonality=True to override this.\n"
          ],
          "name": "stderr"
        },
        {
          "output_type": "stream",
          "text": [
            "rmse = 0.1493575613909155\n",
            "mse = 0.02230768114464109\n",
            "the results of period 10 , forier transformation 1 and future prediction 25 are\n"
          ],
          "name": "stdout"
        },
        {
          "output_type": "stream",
          "text": [
            "INFO:fbprophet:Disabling weekly seasonality. Run prophet with weekly_seasonality=True to override this.\n",
            "INFO:fbprophet:Disabling daily seasonality. Run prophet with daily_seasonality=True to override this.\n"
          ],
          "name": "stderr"
        },
        {
          "output_type": "stream",
          "text": [
            "rmse = 0.21581274810237838\n",
            "mse = 0.04657514224350062\n",
            "the results of period 10 , forier transformation 2 and future prediction 25 are\n"
          ],
          "name": "stdout"
        },
        {
          "output_type": "stream",
          "text": [
            "INFO:fbprophet:Disabling weekly seasonality. Run prophet with weekly_seasonality=True to override this.\n",
            "INFO:fbprophet:Disabling daily seasonality. Run prophet with daily_seasonality=True to override this.\n"
          ],
          "name": "stderr"
        },
        {
          "output_type": "stream",
          "text": [
            "rmse = 0.7538464253772951\n",
            "mse = 0.5682844330541257\n",
            "the results of period 10 , forier transformation 3 and future prediction 25 are\n"
          ],
          "name": "stdout"
        },
        {
          "output_type": "stream",
          "text": [
            "INFO:fbprophet:Disabling weekly seasonality. Run prophet with weekly_seasonality=True to override this.\n",
            "INFO:fbprophet:Disabling daily seasonality. Run prophet with daily_seasonality=True to override this.\n"
          ],
          "name": "stderr"
        },
        {
          "output_type": "stream",
          "text": [
            "rmse = 0.7800348706333242\n",
            "mse = 0.6084543994039469\n",
            "the results of period 10 , forier transformation 4 and future prediction 25 are\n"
          ],
          "name": "stdout"
        },
        {
          "output_type": "stream",
          "text": [
            "INFO:fbprophet:Disabling weekly seasonality. Run prophet with weekly_seasonality=True to override this.\n",
            "INFO:fbprophet:Disabling daily seasonality. Run prophet with daily_seasonality=True to override this.\n"
          ],
          "name": "stderr"
        },
        {
          "output_type": "stream",
          "text": [
            "rmse = 0.7861483951167412\n",
            "mse = 0.6180292991446278\n",
            "the results of period 10 , forier transformation 5 and future prediction 25 are\n"
          ],
          "name": "stdout"
        },
        {
          "output_type": "stream",
          "text": [
            "INFO:fbprophet:Disabling weekly seasonality. Run prophet with weekly_seasonality=True to override this.\n",
            "INFO:fbprophet:Disabling daily seasonality. Run prophet with daily_seasonality=True to override this.\n"
          ],
          "name": "stderr"
        },
        {
          "output_type": "stream",
          "text": [
            "rmse = 0.7433791587163362\n",
            "mse = 0.5526125736138078\n",
            "the results of period 10 , forier transformation 6 and future prediction 25 are\n"
          ],
          "name": "stdout"
        },
        {
          "output_type": "stream",
          "text": [
            "INFO:fbprophet:Disabling weekly seasonality. Run prophet with weekly_seasonality=True to override this.\n",
            "INFO:fbprophet:Disabling daily seasonality. Run prophet with daily_seasonality=True to override this.\n"
          ],
          "name": "stderr"
        },
        {
          "output_type": "stream",
          "text": [
            "rmse = 0.7310893398092912\n",
            "mse = 0.5344916227827854\n",
            "the results of period 11 , forier transformation 1 and future prediction 25 are\n"
          ],
          "name": "stdout"
        },
        {
          "output_type": "stream",
          "text": [
            "INFO:fbprophet:Disabling weekly seasonality. Run prophet with weekly_seasonality=True to override this.\n",
            "INFO:fbprophet:Disabling daily seasonality. Run prophet with daily_seasonality=True to override this.\n"
          ],
          "name": "stderr"
        },
        {
          "output_type": "stream",
          "text": [
            "rmse = 0.15909377872587877\n",
            "mse = 0.025310830429278872\n",
            "the results of period 11 , forier transformation 2 and future prediction 25 are\n"
          ],
          "name": "stdout"
        },
        {
          "output_type": "stream",
          "text": [
            "INFO:fbprophet:Disabling weekly seasonality. Run prophet with weekly_seasonality=True to override this.\n",
            "INFO:fbprophet:Disabling daily seasonality. Run prophet with daily_seasonality=True to override this.\n"
          ],
          "name": "stderr"
        },
        {
          "output_type": "stream",
          "text": [
            "rmse = 0.15531907732897599\n",
            "mse = 0.02412401578232442\n",
            "the results of period 11 , forier transformation 3 and future prediction 25 are\n"
          ],
          "name": "stdout"
        },
        {
          "output_type": "stream",
          "text": [
            "INFO:fbprophet:Disabling weekly seasonality. Run prophet with weekly_seasonality=True to override this.\n",
            "INFO:fbprophet:Disabling daily seasonality. Run prophet with daily_seasonality=True to override this.\n"
          ],
          "name": "stderr"
        },
        {
          "output_type": "stream",
          "text": [
            "rmse = 0.15811001568520244\n",
            "mse = 0.024998777059974966\n",
            "the results of period 11 , forier transformation 4 and future prediction 25 are\n"
          ],
          "name": "stdout"
        },
        {
          "output_type": "stream",
          "text": [
            "INFO:fbprophet:Disabling weekly seasonality. Run prophet with weekly_seasonality=True to override this.\n",
            "INFO:fbprophet:Disabling daily seasonality. Run prophet with daily_seasonality=True to override this.\n"
          ],
          "name": "stderr"
        },
        {
          "output_type": "stream",
          "text": [
            "rmse = 0.17037233650192968\n",
            "mse = 0.02902673304512676\n",
            "the results of period 11 , forier transformation 5 and future prediction 25 are\n"
          ],
          "name": "stdout"
        },
        {
          "output_type": "stream",
          "text": [
            "INFO:fbprophet:Disabling weekly seasonality. Run prophet with weekly_seasonality=True to override this.\n",
            "INFO:fbprophet:Disabling daily seasonality. Run prophet with daily_seasonality=True to override this.\n"
          ],
          "name": "stderr"
        },
        {
          "output_type": "stream",
          "text": [
            "rmse = 0.19156575835646963\n",
            "mse = 0.03669743977468932\n",
            "the results of period 11 , forier transformation 6 and future prediction 25 are\n"
          ],
          "name": "stdout"
        },
        {
          "output_type": "stream",
          "text": [
            "INFO:fbprophet:Disabling weekly seasonality. Run prophet with weekly_seasonality=True to override this.\n",
            "INFO:fbprophet:Disabling daily seasonality. Run prophet with daily_seasonality=True to override this.\n"
          ],
          "name": "stderr"
        },
        {
          "output_type": "stream",
          "text": [
            "rmse = 0.21267201197601515\n",
            "mse = 0.04522938467792634\n",
            "the results of period 12 , forier transformation 1 and future prediction 25 are\n"
          ],
          "name": "stdout"
        },
        {
          "output_type": "stream",
          "text": [
            "INFO:fbprophet:Disabling weekly seasonality. Run prophet with weekly_seasonality=True to override this.\n",
            "INFO:fbprophet:Disabling daily seasonality. Run prophet with daily_seasonality=True to override this.\n"
          ],
          "name": "stderr"
        },
        {
          "output_type": "stream",
          "text": [
            "rmse = 0.1551637076545005\n",
            "mse = 0.02407577617309129\n",
            "the results of period 12 , forier transformation 2 and future prediction 25 are\n"
          ],
          "name": "stdout"
        },
        {
          "output_type": "stream",
          "text": [
            "INFO:fbprophet:Disabling weekly seasonality. Run prophet with weekly_seasonality=True to override this.\n",
            "INFO:fbprophet:Disabling daily seasonality. Run prophet with daily_seasonality=True to override this.\n"
          ],
          "name": "stderr"
        },
        {
          "output_type": "stream",
          "text": [
            "rmse = 0.14642049265192425\n",
            "mse = 0.021438960668432205\n",
            "the results of period 12 , forier transformation 3 and future prediction 25 are\n"
          ],
          "name": "stdout"
        },
        {
          "output_type": "stream",
          "text": [
            "INFO:fbprophet:Disabling weekly seasonality. Run prophet with weekly_seasonality=True to override this.\n",
            "INFO:fbprophet:Disabling daily seasonality. Run prophet with daily_seasonality=True to override this.\n"
          ],
          "name": "stderr"
        },
        {
          "output_type": "stream",
          "text": [
            "rmse = 0.1536461477056953\n",
            "mse = 0.023607138704800336\n",
            "the results of period 12 , forier transformation 4 and future prediction 25 are\n"
          ],
          "name": "stdout"
        },
        {
          "output_type": "stream",
          "text": [
            "INFO:fbprophet:Disabling weekly seasonality. Run prophet with weekly_seasonality=True to override this.\n",
            "INFO:fbprophet:Disabling daily seasonality. Run prophet with daily_seasonality=True to override this.\n"
          ],
          "name": "stderr"
        },
        {
          "output_type": "stream",
          "text": [
            "rmse = 0.14597523403311835\n",
            "mse = 0.021308768951023672\n",
            "the results of period 12 , forier transformation 5 and future prediction 25 are\n"
          ],
          "name": "stdout"
        },
        {
          "output_type": "stream",
          "text": [
            "INFO:fbprophet:Disabling weekly seasonality. Run prophet with weekly_seasonality=True to override this.\n",
            "INFO:fbprophet:Disabling daily seasonality. Run prophet with daily_seasonality=True to override this.\n"
          ],
          "name": "stderr"
        },
        {
          "output_type": "stream",
          "text": [
            "rmse = 0.14943939724058508\n",
            "mse = 0.02233213344762939\n",
            "the results of period 12 , forier transformation 6 and future prediction 25 are\n"
          ],
          "name": "stdout"
        },
        {
          "output_type": "stream",
          "text": [
            "INFO:fbprophet:Disabling weekly seasonality. Run prophet with weekly_seasonality=True to override this.\n",
            "INFO:fbprophet:Disabling daily seasonality. Run prophet with daily_seasonality=True to override this.\n"
          ],
          "name": "stderr"
        },
        {
          "output_type": "stream",
          "text": [
            "rmse = 0.15705761388137296\n",
            "mse = 0.024667094078110435\n",
            "the results of period 13 , forier transformation 1 and future prediction 25 are\n"
          ],
          "name": "stdout"
        },
        {
          "output_type": "stream",
          "text": [
            "INFO:fbprophet:Disabling weekly seasonality. Run prophet with weekly_seasonality=True to override this.\n",
            "INFO:fbprophet:Disabling daily seasonality. Run prophet with daily_seasonality=True to override this.\n"
          ],
          "name": "stderr"
        },
        {
          "output_type": "stream",
          "text": [
            "rmse = 0.1548139297764632\n",
            "mse = 0.023967352852831674\n",
            "the results of period 13 , forier transformation 2 and future prediction 25 are\n"
          ],
          "name": "stdout"
        },
        {
          "output_type": "stream",
          "text": [
            "INFO:fbprophet:Disabling weekly seasonality. Run prophet with weekly_seasonality=True to override this.\n",
            "INFO:fbprophet:Disabling daily seasonality. Run prophet with daily_seasonality=True to override this.\n"
          ],
          "name": "stderr"
        },
        {
          "output_type": "stream",
          "text": [
            "rmse = 0.1516885704275849\n",
            "mse = 0.023009422398364388\n",
            "the results of period 13 , forier transformation 3 and future prediction 25 are\n"
          ],
          "name": "stdout"
        },
        {
          "output_type": "stream",
          "text": [
            "INFO:fbprophet:Disabling weekly seasonality. Run prophet with weekly_seasonality=True to override this.\n",
            "INFO:fbprophet:Disabling daily seasonality. Run prophet with daily_seasonality=True to override this.\n"
          ],
          "name": "stderr"
        },
        {
          "output_type": "stream",
          "text": [
            "rmse = 0.19073948935260931\n",
            "mse = 0.03638155279849416\n",
            "the results of period 13 , forier transformation 4 and future prediction 25 are\n"
          ],
          "name": "stdout"
        },
        {
          "output_type": "stream",
          "text": [
            "INFO:fbprophet:Disabling weekly seasonality. Run prophet with weekly_seasonality=True to override this.\n",
            "INFO:fbprophet:Disabling daily seasonality. Run prophet with daily_seasonality=True to override this.\n"
          ],
          "name": "stderr"
        },
        {
          "output_type": "stream",
          "text": [
            "rmse = 0.1786169203990847\n",
            "mse = 0.03190400425285296\n",
            "the results of period 13 , forier transformation 5 and future prediction 25 are\n"
          ],
          "name": "stdout"
        },
        {
          "output_type": "stream",
          "text": [
            "INFO:fbprophet:Disabling weekly seasonality. Run prophet with weekly_seasonality=True to override this.\n",
            "INFO:fbprophet:Disabling daily seasonality. Run prophet with daily_seasonality=True to override this.\n"
          ],
          "name": "stderr"
        },
        {
          "output_type": "stream",
          "text": [
            "rmse = 0.19418171380882376\n",
            "mse = 0.037706537977731935\n",
            "the results of period 13 , forier transformation 6 and future prediction 25 are\n"
          ],
          "name": "stdout"
        },
        {
          "output_type": "stream",
          "text": [
            "INFO:fbprophet:Disabling weekly seasonality. Run prophet with weekly_seasonality=True to override this.\n",
            "INFO:fbprophet:Disabling daily seasonality. Run prophet with daily_seasonality=True to override this.\n"
          ],
          "name": "stderr"
        },
        {
          "output_type": "stream",
          "text": [
            "rmse = 0.19296916908754064\n",
            "mse = 0.037237100218335845\n",
            "the results of period 14 , forier transformation 1 and future prediction 25 are\n"
          ],
          "name": "stdout"
        },
        {
          "output_type": "stream",
          "text": [
            "INFO:fbprophet:Disabling weekly seasonality. Run prophet with weekly_seasonality=True to override this.\n",
            "INFO:fbprophet:Disabling daily seasonality. Run prophet with daily_seasonality=True to override this.\n"
          ],
          "name": "stderr"
        },
        {
          "output_type": "stream",
          "text": [
            "rmse = 0.19277046622676777\n",
            "mse = 0.037160452649285414\n",
            "the results of period 14 , forier transformation 2 and future prediction 25 are\n"
          ],
          "name": "stdout"
        },
        {
          "output_type": "stream",
          "text": [
            "INFO:fbprophet:Disabling weekly seasonality. Run prophet with weekly_seasonality=True to override this.\n",
            "INFO:fbprophet:Disabling daily seasonality. Run prophet with daily_seasonality=True to override this.\n"
          ],
          "name": "stderr"
        },
        {
          "output_type": "stream",
          "text": [
            "rmse = 0.2332270260216431\n",
            "mse = 0.054394845666900185\n",
            "the results of period 14 , forier transformation 3 and future prediction 25 are\n"
          ],
          "name": "stdout"
        },
        {
          "output_type": "stream",
          "text": [
            "INFO:fbprophet:Disabling weekly seasonality. Run prophet with weekly_seasonality=True to override this.\n",
            "INFO:fbprophet:Disabling daily seasonality. Run prophet with daily_seasonality=True to override this.\n"
          ],
          "name": "stderr"
        },
        {
          "output_type": "stream",
          "text": [
            "rmse = 0.2603956186833291\n",
            "mse = 0.06780587822947375\n",
            "the results of period 14 , forier transformation 4 and future prediction 25 are\n"
          ],
          "name": "stdout"
        },
        {
          "output_type": "stream",
          "text": [
            "INFO:fbprophet:Disabling weekly seasonality. Run prophet with weekly_seasonality=True to override this.\n",
            "INFO:fbprophet:Disabling daily seasonality. Run prophet with daily_seasonality=True to override this.\n"
          ],
          "name": "stderr"
        },
        {
          "output_type": "stream",
          "text": [
            "rmse = 0.22808353454315697\n",
            "mse = 0.052022098729699484\n",
            "the results of period 14 , forier transformation 5 and future prediction 25 are\n"
          ],
          "name": "stdout"
        },
        {
          "output_type": "stream",
          "text": [
            "INFO:fbprophet:Disabling weekly seasonality. Run prophet with weekly_seasonality=True to override this.\n",
            "INFO:fbprophet:Disabling daily seasonality. Run prophet with daily_seasonality=True to override this.\n"
          ],
          "name": "stderr"
        },
        {
          "output_type": "stream",
          "text": [
            "rmse = 0.3140843946155866\n",
            "mse = 0.09864900694103955\n",
            "the results of period 14 , forier transformation 6 and future prediction 25 are\n"
          ],
          "name": "stdout"
        },
        {
          "output_type": "stream",
          "text": [
            "INFO:fbprophet:Disabling weekly seasonality. Run prophet with weekly_seasonality=True to override this.\n",
            "INFO:fbprophet:Disabling daily seasonality. Run prophet with daily_seasonality=True to override this.\n"
          ],
          "name": "stderr"
        },
        {
          "output_type": "stream",
          "text": [
            "rmse = 0.36714816316174287\n",
            "mse = 0.13479777371304177\n",
            "the results of period 15 , forier transformation 1 and future prediction 25 are\n"
          ],
          "name": "stdout"
        },
        {
          "output_type": "stream",
          "text": [
            "INFO:fbprophet:Disabling weekly seasonality. Run prophet with weekly_seasonality=True to override this.\n",
            "INFO:fbprophet:Disabling daily seasonality. Run prophet with daily_seasonality=True to override this.\n"
          ],
          "name": "stderr"
        },
        {
          "output_type": "stream",
          "text": [
            "rmse = 0.40447606297977773\n",
            "mse = 0.16360088552362112\n",
            "the results of period 15 , forier transformation 2 and future prediction 25 are\n"
          ],
          "name": "stdout"
        },
        {
          "output_type": "stream",
          "text": [
            "INFO:fbprophet:Disabling weekly seasonality. Run prophet with weekly_seasonality=True to override this.\n",
            "INFO:fbprophet:Disabling daily seasonality. Run prophet with daily_seasonality=True to override this.\n"
          ],
          "name": "stderr"
        },
        {
          "output_type": "stream",
          "text": [
            "rmse = 0.6120410784746788\n",
            "mse = 0.3745942817404479\n",
            "the results of period 15 , forier transformation 3 and future prediction 25 are\n"
          ],
          "name": "stdout"
        },
        {
          "output_type": "stream",
          "text": [
            "INFO:fbprophet:Disabling weekly seasonality. Run prophet with weekly_seasonality=True to override this.\n",
            "INFO:fbprophet:Disabling daily seasonality. Run prophet with daily_seasonality=True to override this.\n"
          ],
          "name": "stderr"
        },
        {
          "output_type": "stream",
          "text": [
            "rmse = 0.2076129079696424\n",
            "mse = 0.04310311955561121\n",
            "the results of period 15 , forier transformation 4 and future prediction 25 are\n"
          ],
          "name": "stdout"
        },
        {
          "output_type": "stream",
          "text": [
            "INFO:fbprophet:Disabling weekly seasonality. Run prophet with weekly_seasonality=True to override this.\n",
            "INFO:fbprophet:Disabling daily seasonality. Run prophet with daily_seasonality=True to override this.\n"
          ],
          "name": "stderr"
        },
        {
          "output_type": "stream",
          "text": [
            "rmse = 0.2178551586203008\n",
            "mse = 0.04746087013747642\n",
            "the results of period 15 , forier transformation 5 and future prediction 25 are\n"
          ],
          "name": "stdout"
        },
        {
          "output_type": "stream",
          "text": [
            "INFO:fbprophet:Disabling weekly seasonality. Run prophet with weekly_seasonality=True to override this.\n",
            "INFO:fbprophet:Disabling daily seasonality. Run prophet with daily_seasonality=True to override this.\n"
          ],
          "name": "stderr"
        },
        {
          "output_type": "stream",
          "text": [
            "rmse = 0.2107995443404694\n",
            "mse = 0.04443644789414952\n",
            "the results of period 15 , forier transformation 6 and future prediction 25 are\n"
          ],
          "name": "stdout"
        },
        {
          "output_type": "stream",
          "text": [
            "INFO:fbprophet:Disabling weekly seasonality. Run prophet with weekly_seasonality=True to override this.\n",
            "INFO:fbprophet:Disabling daily seasonality. Run prophet with daily_seasonality=True to override this.\n"
          ],
          "name": "stderr"
        },
        {
          "output_type": "stream",
          "text": [
            "rmse = 0.20623300185308924\n",
            "mse = 0.04253205105333631\n",
            "the results of period 16 , forier transformation 1 and future prediction 25 are\n"
          ],
          "name": "stdout"
        },
        {
          "output_type": "stream",
          "text": [
            "INFO:fbprophet:Disabling weekly seasonality. Run prophet with weekly_seasonality=True to override this.\n",
            "INFO:fbprophet:Disabling daily seasonality. Run prophet with daily_seasonality=True to override this.\n"
          ],
          "name": "stderr"
        },
        {
          "output_type": "stream",
          "text": [
            "rmse = 0.16775466543864037\n",
            "mse = 0.028141627776430162\n",
            "the results of period 16 , forier transformation 2 and future prediction 25 are\n"
          ],
          "name": "stdout"
        },
        {
          "output_type": "stream",
          "text": [
            "INFO:fbprophet:Disabling weekly seasonality. Run prophet with weekly_seasonality=True to override this.\n",
            "INFO:fbprophet:Disabling daily seasonality. Run prophet with daily_seasonality=True to override this.\n"
          ],
          "name": "stderr"
        },
        {
          "output_type": "stream",
          "text": [
            "rmse = 0.193749733609611\n",
            "mse = 0.03753895927379523\n",
            "the results of period 16 , forier transformation 3 and future prediction 25 are\n"
          ],
          "name": "stdout"
        },
        {
          "output_type": "stream",
          "text": [
            "INFO:fbprophet:Disabling weekly seasonality. Run prophet with weekly_seasonality=True to override this.\n",
            "INFO:fbprophet:Disabling daily seasonality. Run prophet with daily_seasonality=True to override this.\n"
          ],
          "name": "stderr"
        },
        {
          "output_type": "stream",
          "text": [
            "rmse = 0.2126365946001931\n",
            "mse = 0.04521432136316687\n",
            "the results of period 16 , forier transformation 4 and future prediction 25 are\n"
          ],
          "name": "stdout"
        },
        {
          "output_type": "stream",
          "text": [
            "INFO:fbprophet:Disabling weekly seasonality. Run prophet with weekly_seasonality=True to override this.\n",
            "INFO:fbprophet:Disabling daily seasonality. Run prophet with daily_seasonality=True to override this.\n"
          ],
          "name": "stderr"
        },
        {
          "output_type": "stream",
          "text": [
            "rmse = 0.20793013379247394\n",
            "mse = 0.04323494053895611\n",
            "the results of period 16 , forier transformation 5 and future prediction 25 are\n"
          ],
          "name": "stdout"
        },
        {
          "output_type": "stream",
          "text": [
            "INFO:fbprophet:Disabling weekly seasonality. Run prophet with weekly_seasonality=True to override this.\n",
            "INFO:fbprophet:Disabling daily seasonality. Run prophet with daily_seasonality=True to override this.\n"
          ],
          "name": "stderr"
        },
        {
          "output_type": "stream",
          "text": [
            "rmse = 0.22729592454515096\n",
            "mse = 0.051663437314834956\n",
            "the results of period 16 , forier transformation 6 and future prediction 25 are\n"
          ],
          "name": "stdout"
        },
        {
          "output_type": "stream",
          "text": [
            "INFO:fbprophet:Disabling weekly seasonality. Run prophet with weekly_seasonality=True to override this.\n",
            "INFO:fbprophet:Disabling daily seasonality. Run prophet with daily_seasonality=True to override this.\n"
          ],
          "name": "stderr"
        },
        {
          "output_type": "stream",
          "text": [
            "rmse = 0.29604699853914257\n",
            "mse = 0.08764382534403507\n",
            "the results of period 17 , forier transformation 1 and future prediction 25 are\n"
          ],
          "name": "stdout"
        },
        {
          "output_type": "stream",
          "text": [
            "INFO:fbprophet:Disabling weekly seasonality. Run prophet with weekly_seasonality=True to override this.\n",
            "INFO:fbprophet:Disabling daily seasonality. Run prophet with daily_seasonality=True to override this.\n"
          ],
          "name": "stderr"
        },
        {
          "output_type": "stream",
          "text": [
            "rmse = 0.159781433821279\n",
            "mse = 0.02553010659398376\n",
            "the results of period 17 , forier transformation 2 and future prediction 25 are\n"
          ],
          "name": "stdout"
        },
        {
          "output_type": "stream",
          "text": [
            "INFO:fbprophet:Disabling weekly seasonality. Run prophet with weekly_seasonality=True to override this.\n",
            "INFO:fbprophet:Disabling daily seasonality. Run prophet with daily_seasonality=True to override this.\n"
          ],
          "name": "stderr"
        },
        {
          "output_type": "stream",
          "text": [
            "rmse = 0.158291375017646\n",
            "mse = 0.025056159404977043\n",
            "the results of period 17 , forier transformation 3 and future prediction 25 are\n"
          ],
          "name": "stdout"
        },
        {
          "output_type": "stream",
          "text": [
            "INFO:fbprophet:Disabling weekly seasonality. Run prophet with weekly_seasonality=True to override this.\n",
            "INFO:fbprophet:Disabling daily seasonality. Run prophet with daily_seasonality=True to override this.\n"
          ],
          "name": "stderr"
        },
        {
          "output_type": "stream",
          "text": [
            "rmse = 0.1617552308486066\n",
            "mse = 0.026164754706886013\n",
            "the results of period 17 , forier transformation 4 and future prediction 25 are\n"
          ],
          "name": "stdout"
        },
        {
          "output_type": "stream",
          "text": [
            "INFO:fbprophet:Disabling weekly seasonality. Run prophet with weekly_seasonality=True to override this.\n",
            "INFO:fbprophet:Disabling daily seasonality. Run prophet with daily_seasonality=True to override this.\n"
          ],
          "name": "stderr"
        },
        {
          "output_type": "stream",
          "text": [
            "rmse = 0.1708498403920184\n",
            "mse = 0.029189667961978163\n",
            "the results of period 17 , forier transformation 5 and future prediction 25 are\n"
          ],
          "name": "stdout"
        },
        {
          "output_type": "stream",
          "text": [
            "INFO:fbprophet:Disabling weekly seasonality. Run prophet with weekly_seasonality=True to override this.\n",
            "INFO:fbprophet:Disabling daily seasonality. Run prophet with daily_seasonality=True to override this.\n"
          ],
          "name": "stderr"
        },
        {
          "output_type": "stream",
          "text": [
            "rmse = 0.14601663689155164\n",
            "mse = 0.021320858249119244\n",
            "the results of period 17 , forier transformation 6 and future prediction 25 are\n"
          ],
          "name": "stdout"
        },
        {
          "output_type": "stream",
          "text": [
            "INFO:fbprophet:Disabling weekly seasonality. Run prophet with weekly_seasonality=True to override this.\n",
            "INFO:fbprophet:Disabling daily seasonality. Run prophet with daily_seasonality=True to override this.\n"
          ],
          "name": "stderr"
        },
        {
          "output_type": "stream",
          "text": [
            "rmse = 0.15216291665603018\n",
            "mse = 0.02315355320526999\n",
            "the results of period 18 , forier transformation 1 and future prediction 25 are\n"
          ],
          "name": "stdout"
        },
        {
          "output_type": "stream",
          "text": [
            "INFO:fbprophet:Disabling weekly seasonality. Run prophet with weekly_seasonality=True to override this.\n",
            "INFO:fbprophet:Disabling daily seasonality. Run prophet with daily_seasonality=True to override this.\n"
          ],
          "name": "stderr"
        },
        {
          "output_type": "stream",
          "text": [
            "rmse = 0.1598437690844698\n",
            "mse = 0.0255500305151293\n",
            "the results of period 18 , forier transformation 2 and future prediction 25 are\n"
          ],
          "name": "stdout"
        },
        {
          "output_type": "stream",
          "text": [
            "INFO:fbprophet:Disabling weekly seasonality. Run prophet with weekly_seasonality=True to override this.\n",
            "INFO:fbprophet:Disabling daily seasonality. Run prophet with daily_seasonality=True to override this.\n"
          ],
          "name": "stderr"
        },
        {
          "output_type": "stream",
          "text": [
            "rmse = 0.17039702922939304\n",
            "mse = 0.02903514757020263\n",
            "the results of period 18 , forier transformation 3 and future prediction 25 are\n"
          ],
          "name": "stdout"
        },
        {
          "output_type": "stream",
          "text": [
            "INFO:fbprophet:Disabling weekly seasonality. Run prophet with weekly_seasonality=True to override this.\n",
            "INFO:fbprophet:Disabling daily seasonality. Run prophet with daily_seasonality=True to override this.\n"
          ],
          "name": "stderr"
        },
        {
          "output_type": "stream",
          "text": [
            "rmse = 0.15721775976354008\n",
            "mse = 0.0247174239850662\n",
            "the results of period 18 , forier transformation 4 and future prediction 25 are\n"
          ],
          "name": "stdout"
        },
        {
          "output_type": "stream",
          "text": [
            "INFO:fbprophet:Disabling weekly seasonality. Run prophet with weekly_seasonality=True to override this.\n",
            "INFO:fbprophet:Disabling daily seasonality. Run prophet with daily_seasonality=True to override this.\n"
          ],
          "name": "stderr"
        },
        {
          "output_type": "stream",
          "text": [
            "rmse = 0.16635392553582254\n",
            "mse = 0.027673628541177994\n",
            "the results of period 18 , forier transformation 5 and future prediction 25 are\n"
          ],
          "name": "stdout"
        },
        {
          "output_type": "stream",
          "text": [
            "INFO:fbprophet:Disabling weekly seasonality. Run prophet with weekly_seasonality=True to override this.\n",
            "INFO:fbprophet:Disabling daily seasonality. Run prophet with daily_seasonality=True to override this.\n"
          ],
          "name": "stderr"
        },
        {
          "output_type": "stream",
          "text": [
            "rmse = 0.15569490709490919\n",
            "mse = 0.024240904095292403\n",
            "the results of period 18 , forier transformation 6 and future prediction 25 are\n"
          ],
          "name": "stdout"
        },
        {
          "output_type": "stream",
          "text": [
            "INFO:fbprophet:Disabling weekly seasonality. Run prophet with weekly_seasonality=True to override this.\n",
            "INFO:fbprophet:Disabling daily seasonality. Run prophet with daily_seasonality=True to override this.\n"
          ],
          "name": "stderr"
        },
        {
          "output_type": "stream",
          "text": [
            "rmse = 0.14965853010721455\n",
            "mse = 0.022397675633852046\n",
            "the results of period 19 , forier transformation 1 and future prediction 25 are\n"
          ],
          "name": "stdout"
        },
        {
          "output_type": "stream",
          "text": [
            "INFO:fbprophet:Disabling weekly seasonality. Run prophet with weekly_seasonality=True to override this.\n",
            "INFO:fbprophet:Disabling daily seasonality. Run prophet with daily_seasonality=True to override this.\n"
          ],
          "name": "stderr"
        },
        {
          "output_type": "stream",
          "text": [
            "rmse = 0.1548695651492492\n",
            "mse = 0.023984582209517543\n",
            "the results of period 19 , forier transformation 2 and future prediction 25 are\n"
          ],
          "name": "stdout"
        },
        {
          "output_type": "stream",
          "text": [
            "INFO:fbprophet:Disabling weekly seasonality. Run prophet with weekly_seasonality=True to override this.\n",
            "INFO:fbprophet:Disabling daily seasonality. Run prophet with daily_seasonality=True to override this.\n"
          ],
          "name": "stderr"
        },
        {
          "output_type": "stream",
          "text": [
            "rmse = 0.18244942975996983\n",
            "mse = 0.03328779441973816\n",
            "the results of period 19 , forier transformation 3 and future prediction 25 are\n"
          ],
          "name": "stdout"
        },
        {
          "output_type": "stream",
          "text": [
            "INFO:fbprophet:Disabling weekly seasonality. Run prophet with weekly_seasonality=True to override this.\n",
            "INFO:fbprophet:Disabling daily seasonality. Run prophet with daily_seasonality=True to override this.\n"
          ],
          "name": "stderr"
        },
        {
          "output_type": "stream",
          "text": [
            "rmse = 0.20908632160032728\n",
            "mse = 0.04371708988035549\n",
            "the results of period 19 , forier transformation 4 and future prediction 25 are\n"
          ],
          "name": "stdout"
        },
        {
          "output_type": "stream",
          "text": [
            "INFO:fbprophet:Disabling weekly seasonality. Run prophet with weekly_seasonality=True to override this.\n",
            "INFO:fbprophet:Disabling daily seasonality. Run prophet with daily_seasonality=True to override this.\n"
          ],
          "name": "stderr"
        },
        {
          "output_type": "stream",
          "text": [
            "rmse = 0.2101830852107972\n",
            "mse = 0.04417692930872924\n",
            "the results of period 19 , forier transformation 5 and future prediction 25 are\n"
          ],
          "name": "stdout"
        },
        {
          "output_type": "stream",
          "text": [
            "INFO:fbprophet:Disabling weekly seasonality. Run prophet with weekly_seasonality=True to override this.\n",
            "INFO:fbprophet:Disabling daily seasonality. Run prophet with daily_seasonality=True to override this.\n"
          ],
          "name": "stderr"
        },
        {
          "output_type": "stream",
          "text": [
            "rmse = 0.2081569488659346\n",
            "mse = 0.04332931536117532\n",
            "the results of period 19 , forier transformation 6 and future prediction 25 are\n"
          ],
          "name": "stdout"
        },
        {
          "output_type": "stream",
          "text": [
            "INFO:fbprophet:Disabling weekly seasonality. Run prophet with weekly_seasonality=True to override this.\n",
            "INFO:fbprophet:Disabling daily seasonality. Run prophet with daily_seasonality=True to override this.\n"
          ],
          "name": "stderr"
        },
        {
          "output_type": "stream",
          "text": [
            "rmse = 0.20974357155084797\n",
            "mse = 0.04399236580690569\n",
            "the results of period 20 , forier transformation 1 and future prediction 25 are\n"
          ],
          "name": "stdout"
        },
        {
          "output_type": "stream",
          "text": [
            "INFO:fbprophet:Disabling weekly seasonality. Run prophet with weekly_seasonality=True to override this.\n",
            "INFO:fbprophet:Disabling daily seasonality. Run prophet with daily_seasonality=True to override this.\n"
          ],
          "name": "stderr"
        },
        {
          "output_type": "stream",
          "text": [
            "rmse = 0.16776193234470477\n",
            "mse = 0.0281440659440293\n",
            "the results of period 20 , forier transformation 2 and future prediction 25 are\n"
          ],
          "name": "stdout"
        },
        {
          "output_type": "stream",
          "text": [
            "INFO:fbprophet:Disabling weekly seasonality. Run prophet with weekly_seasonality=True to override this.\n",
            "INFO:fbprophet:Disabling daily seasonality. Run prophet with daily_seasonality=True to override this.\n"
          ],
          "name": "stderr"
        },
        {
          "output_type": "stream",
          "text": [
            "rmse = 0.2757143339051512\n",
            "mse = 0.0760183939207612\n",
            "the results of period 20 , forier transformation 3 and future prediction 25 are\n"
          ],
          "name": "stdout"
        },
        {
          "output_type": "stream",
          "text": [
            "INFO:fbprophet:Disabling weekly seasonality. Run prophet with weekly_seasonality=True to override this.\n",
            "INFO:fbprophet:Disabling daily seasonality. Run prophet with daily_seasonality=True to override this.\n"
          ],
          "name": "stderr"
        },
        {
          "output_type": "stream",
          "text": [
            "rmse = 0.289775765844809\n",
            "mse = 0.08396999447094558\n",
            "the results of period 20 , forier transformation 4 and future prediction 25 are\n"
          ],
          "name": "stdout"
        },
        {
          "output_type": "stream",
          "text": [
            "INFO:fbprophet:Disabling weekly seasonality. Run prophet with weekly_seasonality=True to override this.\n",
            "INFO:fbprophet:Disabling daily seasonality. Run prophet with daily_seasonality=True to override this.\n"
          ],
          "name": "stderr"
        },
        {
          "output_type": "stream",
          "text": [
            "rmse = 0.8609151455671435\n",
            "mse = 0.741174887866896\n",
            "the results of period 20 , forier transformation 5 and future prediction 25 are\n"
          ],
          "name": "stdout"
        },
        {
          "output_type": "stream",
          "text": [
            "INFO:fbprophet:Disabling weekly seasonality. Run prophet with weekly_seasonality=True to override this.\n",
            "INFO:fbprophet:Disabling daily seasonality. Run prophet with daily_seasonality=True to override this.\n"
          ],
          "name": "stderr"
        },
        {
          "output_type": "stream",
          "text": [
            "rmse = 0.8748931248412203\n",
            "mse = 0.7654379798944351\n",
            "the results of period 20 , forier transformation 6 and future prediction 25 are\n"
          ],
          "name": "stdout"
        },
        {
          "output_type": "stream",
          "text": [
            "INFO:fbprophet:Disabling weekly seasonality. Run prophet with weekly_seasonality=True to override this.\n",
            "INFO:fbprophet:Disabling daily seasonality. Run prophet with daily_seasonality=True to override this.\n"
          ],
          "name": "stderr"
        },
        {
          "output_type": "stream",
          "text": [
            "rmse = 0.950266857272944\n",
            "mse = 0.9030071000313978\n",
            "the results of period 21 , forier transformation 1 and future prediction 25 are\n"
          ],
          "name": "stdout"
        },
        {
          "output_type": "stream",
          "text": [
            "INFO:fbprophet:Disabling weekly seasonality. Run prophet with weekly_seasonality=True to override this.\n",
            "INFO:fbprophet:Disabling daily seasonality. Run prophet with daily_seasonality=True to override this.\n"
          ],
          "name": "stderr"
        },
        {
          "output_type": "stream",
          "text": [
            "rmse = 0.1523464927585938\n",
            "mse = 0.023209453855844272\n",
            "the results of period 21 , forier transformation 2 and future prediction 25 are\n"
          ],
          "name": "stdout"
        },
        {
          "output_type": "stream",
          "text": [
            "INFO:fbprophet:Disabling weekly seasonality. Run prophet with weekly_seasonality=True to override this.\n",
            "INFO:fbprophet:Disabling daily seasonality. Run prophet with daily_seasonality=True to override this.\n"
          ],
          "name": "stderr"
        },
        {
          "output_type": "stream",
          "text": [
            "rmse = 0.15405318002598523\n",
            "mse = 0.02373238227611861\n",
            "the results of period 21 , forier transformation 3 and future prediction 25 are\n"
          ],
          "name": "stdout"
        },
        {
          "output_type": "stream",
          "text": [
            "INFO:fbprophet:Disabling weekly seasonality. Run prophet with weekly_seasonality=True to override this.\n",
            "INFO:fbprophet:Disabling daily seasonality. Run prophet with daily_seasonality=True to override this.\n"
          ],
          "name": "stderr"
        },
        {
          "output_type": "stream",
          "text": [
            "rmse = 0.16621018451593972\n",
            "mse = 0.027625825436822724\n",
            "the results of period 21 , forier transformation 4 and future prediction 25 are\n"
          ],
          "name": "stdout"
        },
        {
          "output_type": "stream",
          "text": [
            "INFO:fbprophet:Disabling weekly seasonality. Run prophet with weekly_seasonality=True to override this.\n",
            "INFO:fbprophet:Disabling daily seasonality. Run prophet with daily_seasonality=True to override this.\n"
          ],
          "name": "stderr"
        },
        {
          "output_type": "stream",
          "text": [
            "rmse = 0.17119276490063645\n",
            "mse = 0.029306962754324588\n",
            "the results of period 21 , forier transformation 5 and future prediction 25 are\n"
          ],
          "name": "stdout"
        },
        {
          "output_type": "stream",
          "text": [
            "INFO:fbprophet:Disabling weekly seasonality. Run prophet with weekly_seasonality=True to override this.\n",
            "INFO:fbprophet:Disabling daily seasonality. Run prophet with daily_seasonality=True to override this.\n"
          ],
          "name": "stderr"
        },
        {
          "output_type": "stream",
          "text": [
            "rmse = 0.1743878866797354\n",
            "mse = 0.03041113502062423\n",
            "the results of period 21 , forier transformation 6 and future prediction 25 are\n"
          ],
          "name": "stdout"
        },
        {
          "output_type": "stream",
          "text": [
            "INFO:fbprophet:Disabling weekly seasonality. Run prophet with weekly_seasonality=True to override this.\n",
            "INFO:fbprophet:Disabling daily seasonality. Run prophet with daily_seasonality=True to override this.\n"
          ],
          "name": "stderr"
        },
        {
          "output_type": "stream",
          "text": [
            "rmse = 0.18665833092565393\n",
            "mse = 0.03484133250395093\n",
            "the results of period 22 , forier transformation 1 and future prediction 25 are\n"
          ],
          "name": "stdout"
        },
        {
          "output_type": "stream",
          "text": [
            "INFO:fbprophet:Disabling weekly seasonality. Run prophet with weekly_seasonality=True to override this.\n",
            "INFO:fbprophet:Disabling daily seasonality. Run prophet with daily_seasonality=True to override this.\n"
          ],
          "name": "stderr"
        },
        {
          "output_type": "stream",
          "text": [
            "rmse = 0.15789384979534324\n",
            "mse = 0.024930467803194408\n",
            "the results of period 22 , forier transformation 2 and future prediction 25 are\n"
          ],
          "name": "stdout"
        },
        {
          "output_type": "stream",
          "text": [
            "INFO:fbprophet:Disabling weekly seasonality. Run prophet with weekly_seasonality=True to override this.\n",
            "INFO:fbprophet:Disabling daily seasonality. Run prophet with daily_seasonality=True to override this.\n"
          ],
          "name": "stderr"
        },
        {
          "output_type": "stream",
          "text": [
            "rmse = 0.1564065383616143\n",
            "mse = 0.02446300524226313\n",
            "the results of period 22 , forier transformation 3 and future prediction 25 are\n"
          ],
          "name": "stdout"
        },
        {
          "output_type": "stream",
          "text": [
            "INFO:fbprophet:Disabling weekly seasonality. Run prophet with weekly_seasonality=True to override this.\n",
            "INFO:fbprophet:Disabling daily seasonality. Run prophet with daily_seasonality=True to override this.\n"
          ],
          "name": "stderr"
        },
        {
          "output_type": "stream",
          "text": [
            "rmse = 0.17769373831620347\n",
            "mse = 0.0315750646367874\n",
            "the results of period 22 , forier transformation 4 and future prediction 25 are\n"
          ],
          "name": "stdout"
        },
        {
          "output_type": "stream",
          "text": [
            "INFO:fbprophet:Disabling weekly seasonality. Run prophet with weekly_seasonality=True to override this.\n",
            "INFO:fbprophet:Disabling daily seasonality. Run prophet with daily_seasonality=True to override this.\n"
          ],
          "name": "stderr"
        },
        {
          "output_type": "stream",
          "text": [
            "rmse = 0.15700615219740002\n",
            "mse = 0.024650931827833136\n",
            "the results of period 22 , forier transformation 5 and future prediction 25 are\n"
          ],
          "name": "stdout"
        },
        {
          "output_type": "stream",
          "text": [
            "INFO:fbprophet:Disabling weekly seasonality. Run prophet with weekly_seasonality=True to override this.\n",
            "INFO:fbprophet:Disabling daily seasonality. Run prophet with daily_seasonality=True to override this.\n"
          ],
          "name": "stderr"
        },
        {
          "output_type": "stream",
          "text": [
            "rmse = 0.19549286249821005\n",
            "mse = 0.03821745928774406\n",
            "the results of period 22 , forier transformation 6 and future prediction 25 are\n"
          ],
          "name": "stdout"
        },
        {
          "output_type": "stream",
          "text": [
            "INFO:fbprophet:Disabling weekly seasonality. Run prophet with weekly_seasonality=True to override this.\n",
            "INFO:fbprophet:Disabling daily seasonality. Run prophet with daily_seasonality=True to override this.\n"
          ],
          "name": "stderr"
        },
        {
          "output_type": "stream",
          "text": [
            "rmse = 0.20593421917964455\n",
            "mse = 0.04240890262912988\n",
            "the results of period 23 , forier transformation 1 and future prediction 25 are\n"
          ],
          "name": "stdout"
        },
        {
          "output_type": "stream",
          "text": [
            "INFO:fbprophet:Disabling weekly seasonality. Run prophet with weekly_seasonality=True to override this.\n",
            "INFO:fbprophet:Disabling daily seasonality. Run prophet with daily_seasonality=True to override this.\n"
          ],
          "name": "stderr"
        },
        {
          "output_type": "stream",
          "text": [
            "rmse = 0.14885981526376613\n",
            "mse = 0.022159244600362577\n",
            "the results of period 23 , forier transformation 2 and future prediction 25 are\n"
          ],
          "name": "stdout"
        },
        {
          "output_type": "stream",
          "text": [
            "INFO:fbprophet:Disabling weekly seasonality. Run prophet with weekly_seasonality=True to override this.\n",
            "INFO:fbprophet:Disabling daily seasonality. Run prophet with daily_seasonality=True to override this.\n"
          ],
          "name": "stderr"
        },
        {
          "output_type": "stream",
          "text": [
            "rmse = 0.14522173470575922\n",
            "mse = 0.02108935223094991\n",
            "the results of period 23 , forier transformation 3 and future prediction 25 are\n"
          ],
          "name": "stdout"
        },
        {
          "output_type": "stream",
          "text": [
            "INFO:fbprophet:Disabling weekly seasonality. Run prophet with weekly_seasonality=True to override this.\n",
            "INFO:fbprophet:Disabling daily seasonality. Run prophet with daily_seasonality=True to override this.\n"
          ],
          "name": "stderr"
        },
        {
          "output_type": "stream",
          "text": [
            "rmse = 0.17112974062789219\n",
            "mse = 0.029285388127369652\n",
            "the results of period 23 , forier transformation 4 and future prediction 25 are\n"
          ],
          "name": "stdout"
        },
        {
          "output_type": "stream",
          "text": [
            "INFO:fbprophet:Disabling weekly seasonality. Run prophet with weekly_seasonality=True to override this.\n",
            "INFO:fbprophet:Disabling daily seasonality. Run prophet with daily_seasonality=True to override this.\n"
          ],
          "name": "stderr"
        },
        {
          "output_type": "stream",
          "text": [
            "rmse = 0.16439797819932023\n",
            "mse = 0.02702669523602417\n",
            "the results of period 23 , forier transformation 5 and future prediction 25 are\n"
          ],
          "name": "stdout"
        },
        {
          "output_type": "stream",
          "text": [
            "INFO:fbprophet:Disabling weekly seasonality. Run prophet with weekly_seasonality=True to override this.\n",
            "INFO:fbprophet:Disabling daily seasonality. Run prophet with daily_seasonality=True to override this.\n"
          ],
          "name": "stderr"
        },
        {
          "output_type": "stream",
          "text": [
            "rmse = 0.1849232973457319\n",
            "mse = 0.03419662590121798\n",
            "the results of period 23 , forier transformation 6 and future prediction 25 are\n"
          ],
          "name": "stdout"
        },
        {
          "output_type": "stream",
          "text": [
            "INFO:fbprophet:Disabling weekly seasonality. Run prophet with weekly_seasonality=True to override this.\n",
            "INFO:fbprophet:Disabling daily seasonality. Run prophet with daily_seasonality=True to override this.\n"
          ],
          "name": "stderr"
        },
        {
          "output_type": "stream",
          "text": [
            "rmse = 0.20463357639905286\n",
            "mse = 0.041874900589867\n",
            "the results of period 24 , forier transformation 1 and future prediction 25 are\n"
          ],
          "name": "stdout"
        },
        {
          "output_type": "stream",
          "text": [
            "INFO:fbprophet:Disabling weekly seasonality. Run prophet with weekly_seasonality=True to override this.\n",
            "INFO:fbprophet:Disabling daily seasonality. Run prophet with daily_seasonality=True to override this.\n"
          ],
          "name": "stderr"
        },
        {
          "output_type": "stream",
          "text": [
            "rmse = 0.1621906692422645\n",
            "mse = 0.026305813189253645\n",
            "the results of period 24 , forier transformation 2 and future prediction 25 are\n"
          ],
          "name": "stdout"
        },
        {
          "output_type": "stream",
          "text": [
            "INFO:fbprophet:Disabling weekly seasonality. Run prophet with weekly_seasonality=True to override this.\n",
            "INFO:fbprophet:Disabling daily seasonality. Run prophet with daily_seasonality=True to override this.\n"
          ],
          "name": "stderr"
        },
        {
          "output_type": "stream",
          "text": [
            "rmse = 0.16070667302435837\n",
            "mse = 0.02582663475455804\n",
            "the results of period 24 , forier transformation 3 and future prediction 25 are\n"
          ],
          "name": "stdout"
        },
        {
          "output_type": "stream",
          "text": [
            "INFO:fbprophet:Disabling weekly seasonality. Run prophet with weekly_seasonality=True to override this.\n",
            "INFO:fbprophet:Disabling daily seasonality. Run prophet with daily_seasonality=True to override this.\n"
          ],
          "name": "stderr"
        },
        {
          "output_type": "stream",
          "text": [
            "rmse = 0.17402352016306294\n",
            "mse = 0.030284185569943976\n",
            "the results of period 24 , forier transformation 4 and future prediction 25 are\n"
          ],
          "name": "stdout"
        },
        {
          "output_type": "stream",
          "text": [
            "INFO:fbprophet:Disabling weekly seasonality. Run prophet with weekly_seasonality=True to override this.\n",
            "INFO:fbprophet:Disabling daily seasonality. Run prophet with daily_seasonality=True to override this.\n"
          ],
          "name": "stderr"
        },
        {
          "output_type": "stream",
          "text": [
            "rmse = 0.16495816529583113\n",
            "mse = 0.027211196297766742\n",
            "the results of period 24 , forier transformation 5 and future prediction 25 are\n"
          ],
          "name": "stdout"
        },
        {
          "output_type": "stream",
          "text": [
            "INFO:fbprophet:Disabling weekly seasonality. Run prophet with weekly_seasonality=True to override this.\n",
            "INFO:fbprophet:Disabling daily seasonality. Run prophet with daily_seasonality=True to override this.\n"
          ],
          "name": "stderr"
        },
        {
          "output_type": "stream",
          "text": [
            "rmse = 0.16615338891303202\n",
            "mse = 0.027606948647285273\n",
            "the results of period 24 , forier transformation 6 and future prediction 25 are\n"
          ],
          "name": "stdout"
        },
        {
          "output_type": "stream",
          "text": [
            "INFO:fbprophet:Disabling weekly seasonality. Run prophet with weekly_seasonality=True to override this.\n",
            "INFO:fbprophet:Disabling daily seasonality. Run prophet with daily_seasonality=True to override this.\n"
          ],
          "name": "stderr"
        },
        {
          "output_type": "stream",
          "text": [
            "rmse = 0.16802679897751635\n",
            "mse = 0.028233005174630694\n",
            "the results of period 25 , forier transformation 1 and future prediction 25 are\n"
          ],
          "name": "stdout"
        },
        {
          "output_type": "stream",
          "text": [
            "INFO:fbprophet:Disabling weekly seasonality. Run prophet with weekly_seasonality=True to override this.\n",
            "INFO:fbprophet:Disabling daily seasonality. Run prophet with daily_seasonality=True to override this.\n"
          ],
          "name": "stderr"
        },
        {
          "output_type": "stream",
          "text": [
            "rmse = 0.16074177573023266\n",
            "mse = 0.02583791846490841\n",
            "the results of period 25 , forier transformation 2 and future prediction 25 are\n"
          ],
          "name": "stdout"
        },
        {
          "output_type": "stream",
          "text": [
            "INFO:fbprophet:Disabling weekly seasonality. Run prophet with weekly_seasonality=True to override this.\n",
            "INFO:fbprophet:Disabling daily seasonality. Run prophet with daily_seasonality=True to override this.\n"
          ],
          "name": "stderr"
        },
        {
          "output_type": "stream",
          "text": [
            "rmse = 0.1592873814110406\n",
            "mse = 0.02537246987678632\n",
            "the results of period 25 , forier transformation 3 and future prediction 25 are\n"
          ],
          "name": "stdout"
        },
        {
          "output_type": "stream",
          "text": [
            "INFO:fbprophet:Disabling weekly seasonality. Run prophet with weekly_seasonality=True to override this.\n",
            "INFO:fbprophet:Disabling daily seasonality. Run prophet with daily_seasonality=True to override this.\n"
          ],
          "name": "stderr"
        },
        {
          "output_type": "stream",
          "text": [
            "rmse = 0.15790836046806558\n",
            "mse = 0.024935050305712535\n",
            "the results of period 25 , forier transformation 4 and future prediction 25 are\n"
          ],
          "name": "stdout"
        },
        {
          "output_type": "stream",
          "text": [
            "INFO:fbprophet:Disabling weekly seasonality. Run prophet with weekly_seasonality=True to override this.\n",
            "INFO:fbprophet:Disabling daily seasonality. Run prophet with daily_seasonality=True to override this.\n"
          ],
          "name": "stderr"
        },
        {
          "output_type": "stream",
          "text": [
            "rmse = 0.2032393476209919\n",
            "mse = 0.04130623242140639\n",
            "the results of period 25 , forier transformation 5 and future prediction 25 are\n"
          ],
          "name": "stdout"
        },
        {
          "output_type": "stream",
          "text": [
            "INFO:fbprophet:Disabling weekly seasonality. Run prophet with weekly_seasonality=True to override this.\n",
            "INFO:fbprophet:Disabling daily seasonality. Run prophet with daily_seasonality=True to override this.\n"
          ],
          "name": "stderr"
        },
        {
          "output_type": "stream",
          "text": [
            "rmse = 0.4542837693930574\n",
            "mse = 0.20637374313396456\n",
            "the results of period 25 , forier transformation 6 and future prediction 25 are\n"
          ],
          "name": "stdout"
        },
        {
          "output_type": "stream",
          "text": [
            "INFO:fbprophet:Disabling weekly seasonality. Run prophet with weekly_seasonality=True to override this.\n",
            "INFO:fbprophet:Disabling daily seasonality. Run prophet with daily_seasonality=True to override this.\n"
          ],
          "name": "stderr"
        },
        {
          "output_type": "stream",
          "text": [
            "rmse = 0.41225932873020693\n",
            "mse = 0.16995775412508082\n",
            "the results of period 26 , forier transformation 1 and future prediction 25 are\n"
          ],
          "name": "stdout"
        },
        {
          "output_type": "stream",
          "text": [
            "INFO:fbprophet:Disabling weekly seasonality. Run prophet with weekly_seasonality=True to override this.\n",
            "INFO:fbprophet:Disabling daily seasonality. Run prophet with daily_seasonality=True to override this.\n"
          ],
          "name": "stderr"
        },
        {
          "output_type": "stream",
          "text": [
            "rmse = 0.19772962255693124\n",
            "mse = 0.0390970036365065\n",
            "the results of period 26 , forier transformation 2 and future prediction 25 are\n"
          ],
          "name": "stdout"
        },
        {
          "output_type": "stream",
          "text": [
            "INFO:fbprophet:Disabling weekly seasonality. Run prophet with weekly_seasonality=True to override this.\n",
            "INFO:fbprophet:Disabling daily seasonality. Run prophet with daily_seasonality=True to override this.\n"
          ],
          "name": "stderr"
        },
        {
          "output_type": "stream",
          "text": [
            "rmse = 0.23338884763999998\n",
            "mse = 0.054470354202727125\n",
            "the results of period 26 , forier transformation 3 and future prediction 25 are\n"
          ],
          "name": "stdout"
        },
        {
          "output_type": "stream",
          "text": [
            "INFO:fbprophet:Disabling weekly seasonality. Run prophet with weekly_seasonality=True to override this.\n",
            "INFO:fbprophet:Disabling daily seasonality. Run prophet with daily_seasonality=True to override this.\n"
          ],
          "name": "stderr"
        },
        {
          "output_type": "stream",
          "text": [
            "rmse = 0.18415215624465253\n",
            "mse = 0.03391201664955492\n",
            "the results of period 26 , forier transformation 4 and future prediction 25 are\n"
          ],
          "name": "stdout"
        },
        {
          "output_type": "stream",
          "text": [
            "INFO:fbprophet:Disabling weekly seasonality. Run prophet with weekly_seasonality=True to override this.\n",
            "INFO:fbprophet:Disabling daily seasonality. Run prophet with daily_seasonality=True to override this.\n"
          ],
          "name": "stderr"
        },
        {
          "output_type": "stream",
          "text": [
            "rmse = 0.18156619862192577\n",
            "mse = 0.0329662844820166\n",
            "the results of period 26 , forier transformation 5 and future prediction 25 are\n"
          ],
          "name": "stdout"
        },
        {
          "output_type": "stream",
          "text": [
            "INFO:fbprophet:Disabling weekly seasonality. Run prophet with weekly_seasonality=True to override this.\n",
            "INFO:fbprophet:Disabling daily seasonality. Run prophet with daily_seasonality=True to override this.\n"
          ],
          "name": "stderr"
        },
        {
          "output_type": "stream",
          "text": [
            "rmse = 0.16268120493240848\n",
            "mse = 0.026465174438260283\n",
            "the results of period 26 , forier transformation 6 and future prediction 25 are\n"
          ],
          "name": "stdout"
        },
        {
          "output_type": "stream",
          "text": [
            "INFO:fbprophet:Disabling weekly seasonality. Run prophet with weekly_seasonality=True to override this.\n",
            "INFO:fbprophet:Disabling daily seasonality. Run prophet with daily_seasonality=True to override this.\n"
          ],
          "name": "stderr"
        },
        {
          "output_type": "stream",
          "text": [
            "rmse = 0.16861055592243143\n",
            "mse = 0.028429519568471378\n",
            "the results of period 27 , forier transformation 1 and future prediction 25 are\n"
          ],
          "name": "stdout"
        },
        {
          "output_type": "stream",
          "text": [
            "INFO:fbprophet:Disabling weekly seasonality. Run prophet with weekly_seasonality=True to override this.\n",
            "INFO:fbprophet:Disabling daily seasonality. Run prophet with daily_seasonality=True to override this.\n"
          ],
          "name": "stderr"
        },
        {
          "output_type": "stream",
          "text": [
            "rmse = 0.15871173427730484\n",
            "mse = 0.025189414597309823\n",
            "the results of period 27 , forier transformation 2 and future prediction 25 are\n"
          ],
          "name": "stdout"
        },
        {
          "output_type": "stream",
          "text": [
            "INFO:fbprophet:Disabling weekly seasonality. Run prophet with weekly_seasonality=True to override this.\n",
            "INFO:fbprophet:Disabling daily seasonality. Run prophet with daily_seasonality=True to override this.\n"
          ],
          "name": "stderr"
        },
        {
          "output_type": "stream",
          "text": [
            "rmse = 0.2045511916115814\n",
            "mse = 0.041841189989717885\n",
            "the results of period 27 , forier transformation 3 and future prediction 25 are\n"
          ],
          "name": "stdout"
        },
        {
          "output_type": "stream",
          "text": [
            "INFO:fbprophet:Disabling weekly seasonality. Run prophet with weekly_seasonality=True to override this.\n",
            "INFO:fbprophet:Disabling daily seasonality. Run prophet with daily_seasonality=True to override this.\n"
          ],
          "name": "stderr"
        },
        {
          "output_type": "stream",
          "text": [
            "rmse = 0.23364951739263315\n",
            "mse = 0.05459209697781038\n",
            "the results of period 27 , forier transformation 4 and future prediction 25 are\n"
          ],
          "name": "stdout"
        },
        {
          "output_type": "stream",
          "text": [
            "INFO:fbprophet:Disabling weekly seasonality. Run prophet with weekly_seasonality=True to override this.\n",
            "INFO:fbprophet:Disabling daily seasonality. Run prophet with daily_seasonality=True to override this.\n"
          ],
          "name": "stderr"
        },
        {
          "output_type": "stream",
          "text": [
            "rmse = 0.2186235757179372\n",
            "mse = 0.04779626785969662\n",
            "the results of period 27 , forier transformation 5 and future prediction 25 are\n"
          ],
          "name": "stdout"
        },
        {
          "output_type": "stream",
          "text": [
            "INFO:fbprophet:Disabling weekly seasonality. Run prophet with weekly_seasonality=True to override this.\n",
            "INFO:fbprophet:Disabling daily seasonality. Run prophet with daily_seasonality=True to override this.\n"
          ],
          "name": "stderr"
        },
        {
          "output_type": "stream",
          "text": [
            "rmse = 0.22350403111728\n",
            "mse = 0.04995405192567407\n",
            "the results of period 27 , forier transformation 6 and future prediction 25 are\n"
          ],
          "name": "stdout"
        },
        {
          "output_type": "stream",
          "text": [
            "INFO:fbprophet:Disabling weekly seasonality. Run prophet with weekly_seasonality=True to override this.\n",
            "INFO:fbprophet:Disabling daily seasonality. Run prophet with daily_seasonality=True to override this.\n"
          ],
          "name": "stderr"
        },
        {
          "output_type": "stream",
          "text": [
            "rmse = 0.20877777223174393\n",
            "mse = 0.043588158178049945\n",
            "the results of period 28 , forier transformation 1 and future prediction 25 are\n"
          ],
          "name": "stdout"
        },
        {
          "output_type": "stream",
          "text": [
            "INFO:fbprophet:Disabling weekly seasonality. Run prophet with weekly_seasonality=True to override this.\n",
            "INFO:fbprophet:Disabling daily seasonality. Run prophet with daily_seasonality=True to override this.\n"
          ],
          "name": "stderr"
        },
        {
          "output_type": "stream",
          "text": [
            "rmse = 0.25933204007703714\n",
            "mse = 0.06725310701051801\n",
            "the results of period 28 , forier transformation 2 and future prediction 25 are\n"
          ],
          "name": "stdout"
        },
        {
          "output_type": "stream",
          "text": [
            "INFO:fbprophet:Disabling weekly seasonality. Run prophet with weekly_seasonality=True to override this.\n",
            "INFO:fbprophet:Disabling daily seasonality. Run prophet with daily_seasonality=True to override this.\n"
          ],
          "name": "stderr"
        },
        {
          "output_type": "stream",
          "text": [
            "rmse = 0.4047306838159117\n",
            "mse = 0.16380692642209552\n",
            "the results of period 28 , forier transformation 3 and future prediction 25 are\n"
          ],
          "name": "stdout"
        },
        {
          "output_type": "stream",
          "text": [
            "INFO:fbprophet:Disabling weekly seasonality. Run prophet with weekly_seasonality=True to override this.\n",
            "INFO:fbprophet:Disabling daily seasonality. Run prophet with daily_seasonality=True to override this.\n"
          ],
          "name": "stderr"
        },
        {
          "output_type": "stream",
          "text": [
            "rmse = 0.3924314448246784\n",
            "mse = 0.1540024388871846\n",
            "the results of period 28 , forier transformation 4 and future prediction 25 are\n"
          ],
          "name": "stdout"
        },
        {
          "output_type": "stream",
          "text": [
            "INFO:fbprophet:Disabling weekly seasonality. Run prophet with weekly_seasonality=True to override this.\n",
            "INFO:fbprophet:Disabling daily seasonality. Run prophet with daily_seasonality=True to override this.\n"
          ],
          "name": "stderr"
        },
        {
          "output_type": "stream",
          "text": [
            "rmse = 0.3895505270364746\n",
            "mse = 0.1517496131143951\n",
            "the results of period 28 , forier transformation 5 and future prediction 25 are\n"
          ],
          "name": "stdout"
        },
        {
          "output_type": "stream",
          "text": [
            "INFO:fbprophet:Disabling weekly seasonality. Run prophet with weekly_seasonality=True to override this.\n",
            "INFO:fbprophet:Disabling daily seasonality. Run prophet with daily_seasonality=True to override this.\n"
          ],
          "name": "stderr"
        },
        {
          "output_type": "stream",
          "text": [
            "rmse = 0.45988678917155956\n",
            "mse = 0.21149585885452646\n",
            "the results of period 28 , forier transformation 6 and future prediction 25 are\n"
          ],
          "name": "stdout"
        },
        {
          "output_type": "stream",
          "text": [
            "INFO:fbprophet:Disabling weekly seasonality. Run prophet with weekly_seasonality=True to override this.\n",
            "INFO:fbprophet:Disabling daily seasonality. Run prophet with daily_seasonality=True to override this.\n"
          ],
          "name": "stderr"
        },
        {
          "output_type": "stream",
          "text": [
            "rmse = 0.43087338419914584\n",
            "mse = 0.18565187321122475\n",
            "the results of period 29 , forier transformation 1 and future prediction 25 are\n"
          ],
          "name": "stdout"
        },
        {
          "output_type": "stream",
          "text": [
            "INFO:fbprophet:Disabling weekly seasonality. Run prophet with weekly_seasonality=True to override this.\n",
            "INFO:fbprophet:Disabling daily seasonality. Run prophet with daily_seasonality=True to override this.\n"
          ],
          "name": "stderr"
        },
        {
          "output_type": "stream",
          "text": [
            "rmse = 0.3005574749447225\n",
            "mse = 0.09033479574514751\n",
            "the results of period 29 , forier transformation 2 and future prediction 25 are\n"
          ],
          "name": "stdout"
        },
        {
          "output_type": "stream",
          "text": [
            "INFO:fbprophet:Disabling weekly seasonality. Run prophet with weekly_seasonality=True to override this.\n",
            "INFO:fbprophet:Disabling daily seasonality. Run prophet with daily_seasonality=True to override this.\n"
          ],
          "name": "stderr"
        },
        {
          "output_type": "stream",
          "text": [
            "rmse = 0.33829017250855614\n",
            "mse = 0.11444024081586868\n",
            "the results of period 29 , forier transformation 3 and future prediction 25 are\n"
          ],
          "name": "stdout"
        },
        {
          "output_type": "stream",
          "text": [
            "INFO:fbprophet:Disabling weekly seasonality. Run prophet with weekly_seasonality=True to override this.\n",
            "INFO:fbprophet:Disabling daily seasonality. Run prophet with daily_seasonality=True to override this.\n"
          ],
          "name": "stderr"
        },
        {
          "output_type": "stream",
          "text": [
            "rmse = 0.31556198390643747\n",
            "mse = 0.09957936568696671\n",
            "the results of period 29 , forier transformation 4 and future prediction 25 are\n"
          ],
          "name": "stdout"
        },
        {
          "output_type": "stream",
          "text": [
            "INFO:fbprophet:Disabling weekly seasonality. Run prophet with weekly_seasonality=True to override this.\n",
            "INFO:fbprophet:Disabling daily seasonality. Run prophet with daily_seasonality=True to override this.\n"
          ],
          "name": "stderr"
        },
        {
          "output_type": "stream",
          "text": [
            "rmse = 0.36795416399023156\n",
            "mse = 0.1353902667977502\n",
            "the results of period 29 , forier transformation 5 and future prediction 25 are\n"
          ],
          "name": "stdout"
        },
        {
          "output_type": "stream",
          "text": [
            "INFO:fbprophet:Disabling weekly seasonality. Run prophet with weekly_seasonality=True to override this.\n",
            "INFO:fbprophet:Disabling daily seasonality. Run prophet with daily_seasonality=True to override this.\n"
          ],
          "name": "stderr"
        },
        {
          "output_type": "stream",
          "text": [
            "rmse = 0.36956708062559984\n",
            "mse = 0.13657982708212862\n",
            "the results of period 29 , forier transformation 6 and future prediction 25 are\n",
            "rmse = 0.3844368648426705\n",
            "mse = 0.14779170305006167\n"
          ],
          "name": "stdout"
        }
      ]
    },
    {
      "cell_type": "code",
      "metadata": {
        "id": "CG6LauQvPny7"
      },
      "source": [
        "######## Prophet Library with Exogenous variable ###########\n",
        "m = Prophet()\n",
        "m.add_seasonality(period=6, name='monthly', fourier_order = 2)\n",
        "m.add_regressor('Price')\n",
        "m.add_regressor('High')\n",
        "m.add_regressor('Low')\n",
        "m.add_regressor('Vol')\n",
        "#m.add_regressor('Net_Margin')\n",
        "m.add_regressor('ROE')\n",
        "m.add_regressor('Quick_Ratio')\n",
        "m.add_regressor('Current_Ratio')\n",
        "#m.add_regressor('Assets_Equity')\n",
        "m.add_regressor('Debt_Equity')\n",
        "m.add_regressor('A_RTurnover')\n",
        "m.add_regressor('AvgA_RDays')\n",
        "m.add_regressor('InvTurnover')\n",
        "m.add_regressor('EBITDATotAssetsTTM')\n",
        "m.add_regressor('ROATotAssets')\n",
        "m.add_regressor('HistMktCap')\n",
        "m.add_regressor('HistEV')\n",
        "m.add_regressor('GDPExports')\n",
        "m.add_regressor('Inflationgdp')\n",
        "m.add_regressor('moneysupply')\n",
        "m.add_regressor('treasures_bill')\n",
        "#m.add_regressor('DollarRate_Open')\n",
        "m.fit(train)\n",
        "future = m.make_future_dataframe(periods=25,freq='MS')\n",
        "future['Price'] = prophetdf['Price']\n",
        "future['High'] = prophetdf['High']\n",
        "future['Low'] = prophetdf['Low']\n",
        "future['Vol'] = prophetdf['Vol']\n",
        "#future['Net_Margin'] = prophetdf['Net_Margin']\n",
        "future['ROE'] = prophetdf['ROE']\n",
        "future['Quick_Ratio'] = prophetdf['Quick_Ratio']\n",
        "future['Current_Ratio'] = prophetdf['Current_Ratio']\n",
        "#future['Assets_Equity'] = prophetdf['Assets_Equity']\n",
        "future['Debt_Equity'] = prophetdf['Debt_Equity']\n",
        "future['A_RTurnover'] = prophetdf['A_RTurnover']\n",
        "future['AvgA_RDays'] = prophetdf['AvgA_RDays']\n",
        "future['InvTurnover'] = prophetdf['InvTurnover']\n",
        "future['EBITDATotAssetsTTM'] = prophetdf['EBITDATotAssetsTTM']\n",
        "future['ROATotAssets'] = prophetdf['ROATotAssets']\n",
        "future['HistMktCap'] = prophetdf['HistMktCap']\n",
        "future['HistEV'] = prophetdf['HistEV']\n",
        "future['GDPExports'] = prophetdf['GDPExports']\n",
        "future['Inflationgdp'] = prophetdf['Inflationgdp']\n",
        "future['moneysupply'] = prophetdf['moneysupply']\n",
        "future['treasures_bill'] = prophetdf['treasures_bill']\n",
        "#future['DollarRate_Open'] = prophetdf['DollarRate_Open']\n",
        "\n",
        "\n",
        "\n",
        "\n",
        "\n",
        "\n",
        "future.Quick_Ratio.fillna(0, inplace=True)\n",
        "future.Current_Ratio.fillna(0, inplace=True)\n",
        "#future.Assets_Equity.fillna(0, inplace=True)\n",
        "future.Debt_Equity.fillna(0, inplace=True)\n",
        "future.A_RTurnover.fillna(0, inplace=True)\n",
        "future.AvgA_RDays.fillna(0, inplace=True)\n",
        "future.EBITDATotAssetsTTM.fillna(0, inplace=True)\n",
        "future.InvTurnover.fillna(0, inplace=True)\n",
        "future.ROATotAssets.fillna(0, inplace=True)\n",
        "future.HistMktCap.fillna(0, inplace=True)\n",
        "future.HistEV.fillna(0, inplace=True)\n",
        "future.GDPExports.fillna(0, inplace=True)\n",
        "future.Inflationgdp.fillna(0, inplace=True)\n",
        "future.moneysupply.fillna(0, inplace=True)\n",
        "future.treasures_bill.fillna(0, inplace=True)\n",
        "#future.DollarRate_Open.fillna(0, inplace=True)\n",
        "future.ROE.fillna(0, inplace=True)\n",
        "future.Price.fillna(0, inplace=True)\n",
        "future.High.fillna(0, inplace=True)\n",
        "future.Low.fillna(0, inplace=True)\n",
        "future.Vol.fillna(0, inplace=True)\n",
        "#future.Net_Margin.fillna(0, inplace=True)\n",
        "forecastt = m.predict(future)\n",
        "forecastt.head(70)\n",
        "m.plot(forecastt, figsize=(20, 7));\n",
        "plt.xlabel(\"Monthly data\")\n",
        "plt.ylabel(\"Open price\")\n",
        "plt.title(\"Cherat prophet model actual vs predicted open price \")"
      ],
      "execution_count": null,
      "outputs": []
    },
    {
      "cell_type": "code",
      "metadata": {
        "id": "zk_-DlZN2WwF"
      },
      "source": [
        "forecastt['yhat'].iloc[101:].plot(figsize=(12,8),legend=True,label='Predicted Open price')\n",
        "test['y'].plot(figsize=(12,8),legend=True, label='Actual Open price')\n",
        "plt.xlabel(\"Index Values\")\n",
        "plt.ylabel(\"Open price\")\n",
        "plt.title(\"Cherat prophet model actual vs predicted open price \")"
      ],
      "execution_count": null,
      "outputs": []
    },
    {
      "cell_type": "code",
      "metadata": {
        "id": "XyIGN9Q-2gWz"
      },
      "source": [
        "predictions = forecastt.iloc[-25:]['yhat']"
      ],
      "execution_count": null,
      "outputs": []
    },
    {
      "cell_type": "code",
      "metadata": {
        "colab": {
          "base_uri": "https://localhost:8080/"
        },
        "id": "sGv-JUHZ2lb6",
        "outputId": "dde566fd-05f4-4199-a5ee-63dde2aa9bf7"
      },
      "source": [
        "mse_rmse(test['y'],predictions)"
      ],
      "execution_count": null,
      "outputs": [
        {
          "output_type": "stream",
          "text": [
            "rmse = 0.14132994782342773\n",
            "mse = 0.019974154151772807\n"
          ],
          "name": "stdout"
        }
      ]
    },
    {
      "cell_type": "code",
      "metadata": {
        "colab": {
          "base_uri": "https://localhost:8080/",
          "height": 576
        },
        "id": "1-QyShbcqf87",
        "outputId": "6abe7036-6eb3-47ca-93e8-b332e56e9af2"
      },
      "source": [
        "######## Prophet Library with Exogenous variable ###########\n",
        "m = Prophet()\n",
        "m.add_seasonality(period=6, name='monthly', fourier_order = 2)\n",
        "m.add_regressor('Price')\n",
        "m.add_regressor('High')\n",
        "m.add_regressor('Low')\n",
        "m.add_regressor('Vol')\n",
        "m.add_regressor('Net_Margin')\n",
        "#m.add_regressor('ROE')\n",
        "m.add_regressor('Quick_Ratio')\n",
        "m.add_regressor('Current_Ratio')\n",
        "m.add_regressor('Assets_Equity')\n",
        "m.add_regressor('Debt_Equity')\n",
        "#m.add_regressor('A_RTurnover')\n",
        "m.add_regressor('AvgA_RDays')\n",
        "m.add_regressor('InvTurnover')\n",
        "m.add_regressor('EBITDATotAssetsTTM')\n",
        "m.add_regressor('ROATotAssets')\n",
        "m.add_regressor('HistMktCap')\n",
        "m.add_regressor('HistEV')\n",
        "m.add_regressor('GDPExports')\n",
        "#m.add_regressor('Inflationgdp')\n",
        "m.add_regressor('moneysupply')\n",
        "m.add_regressor('treasures_bill')\n",
        "m.add_regressor('DollarRate_Open')\n",
        "m.fit(train)\n",
        "future = m.make_future_dataframe(periods=25,freq='MS')\n",
        "future['Price'] = prophetdf['Price']\n",
        "future['High'] = prophetdf['High']\n",
        "future['Low'] = prophetdf['Low']\n",
        "future['Vol'] = prophetdf['Vol']\n",
        "future['Net_Margin'] = prophetdf['Net_Margin']\n",
        "#future['ROE'] = prophetdf['ROE']\n",
        "future['Quick_Ratio'] = prophetdf['Quick_Ratio']\n",
        "future['Current_Ratio'] = prophetdf['Current_Ratio']\n",
        "future['Assets_Equity'] = prophetdf['Assets_Equity']\n",
        "future['Debt_Equity'] = prophetdf['Debt_Equity']\n",
        "#future['A_RTurnover'] = prophetdf['A_RTurnover']\n",
        "future['AvgA_RDays'] = prophetdf['AvgA_RDays']\n",
        "future['InvTurnover'] = prophetdf['InvTurnover']\n",
        "future['EBITDATotAssetsTTM'] = prophetdf['EBITDATotAssetsTTM']\n",
        "future['ROATotAssets'] = prophetdf['ROATotAssets']\n",
        "future['HistMktCap'] = prophetdf['HistMktCap']\n",
        "future['HistEV'] = prophetdf['HistEV']\n",
        "future['GDPExports'] = prophetdf['GDPExports']\n",
        "#future['Inflationgdp'] = prophetdf['Inflationgdp']\n",
        "future['moneysupply'] = prophetdf['moneysupply']\n",
        "future['treasures_bill'] = prophetdf['treasures_bill']\n",
        "future['DollarRate_Open'] = prophetdf['DollarRate_Open']\n",
        "future.Price.fillna(0, inplace=True)\n",
        "future.High.fillna(0, inplace=True)\n",
        "future.Low.fillna(0, inplace=True)\n",
        "future.Vol.fillna(0, inplace=True)\n",
        "future.Net_Margin.fillna(0, inplace=True)\n",
        "\n",
        "future.Quick_Ratio.fillna(0, inplace=True)\n",
        "future.Current_Ratio.fillna(0, inplace=True)\n",
        "future.Assets_Equity.fillna(0, inplace=True)\n",
        "future.Debt_Equity.fillna(0, inplace=True)\n",
        "#future.A_RTurnover.fillna(0, inplace=True)\n",
        "future.AvgA_RDays.fillna(0, inplace=True)\n",
        "future.EBITDATotAssetsTTM.fillna(0, inplace=True)\n",
        "future.InvTurnover.fillna(0, inplace=True)\n",
        "future.ROATotAssets.fillna(0, inplace=True)\n",
        "future.HistMktCap.fillna(0, inplace=True)\n",
        "future.HistEV.fillna(0, inplace=True)\n",
        "future.GDPExports.fillna(0, inplace=True)\n",
        "#future.Inflationgdp.fillna(0, inplace=True)\n",
        "future.moneysupply.fillna(0, inplace=True)\n",
        "future.treasures_bill.fillna(0, inplace=True)\n",
        "future.DollarRate_Open.fillna(0, inplace=True)\n",
        "#future.ROE.fillna(0, inplace=True)\n",
        "forecastt = m.predict(future)\n",
        "forecastt.head(70)\n",
        "m.plot(forecastt, figsize=(20, 7));\n",
        "plt.xlabel(\"Monthly data\")\n",
        "plt.ylabel(\"Open price\")\n",
        "plt.title(\"Cherat prophet model actual vs predicted open price \")"
      ],
      "execution_count": null,
      "outputs": [
        {
          "output_type": "stream",
          "text": [
            "INFO:fbprophet:Disabling weekly seasonality. Run prophet with weekly_seasonality=True to override this.\n",
            "INFO:fbprophet:Disabling daily seasonality. Run prophet with daily_seasonality=True to override this.\n"
          ],
          "name": "stderr"
        },
        {
          "output_type": "execute_result",
          "data": {
            "text/plain": [
              "Text(0.5, 1.0, 'Cherat prophet model actual vs predicted open price ')"
            ]
          },
          "metadata": {
            "tags": []
          },
          "execution_count": 41
        },
        {
          "output_type": "display_data",
          "data": {
            "image/png": "[encoded data removed]",
            "text/plain": [
              "<Figure size 1440x504 with 1 Axes>"
            ]
          },
          "metadata": {
            "tags": []
          }
        }
      ]
    },
    {
      "cell_type": "code",
      "metadata": {
        "id": "glrmCb7qQ_iA"
      },
      "source": [
        ""
      ],
      "execution_count": null,
      "outputs": []
    }
  ]
}